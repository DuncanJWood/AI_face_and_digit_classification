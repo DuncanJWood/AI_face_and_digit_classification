{
 "cells": [
  {
   "cell_type": "code",
   "execution_count": 2,
   "metadata": {},
   "outputs": [],
   "source": [
    "import numpy as np\n",
    "import matplotlib.pyplot as plt\n",
    "from parse import parse\n",
    "import cv2\n",
    "import time"
   ]
  },
  {
   "cell_type": "code",
   "execution_count": 3,
   "metadata": {},
   "outputs": [],
   "source": [
    "train_images, train_labels = parse('digitdata/trainingimages', 'digitdata/traininglabels', True)\n",
    "validation_images, validation_labels = parse('digitdata/validationimages', 'digitdata/validationlabels', True)\n",
    "test_images, test_labels = parse('digitdata/testimages', 'digitdata/testlabels', True)"
   ]
  },
  {
   "cell_type": "code",
   "execution_count": 4,
   "metadata": {},
   "outputs": [
    {
     "name": "stdout",
     "output_type": "stream",
     "text": [
      "[0.0958 0.1126 0.0976 0.0986 0.107  0.0868 0.1002 0.11   0.0924 0.099 ]\n"
     ]
    }
   ],
   "source": [
    "base_rate_true = np.bincount(train_labels)/train_labels.shape[0]\n",
    "print(base_rate_true)"
   ]
  },
  {
   "cell_type": "code",
   "execution_count": 5,
   "metadata": {},
   "outputs": [
    {
     "name": "stdout",
     "output_type": "stream",
     "text": [
      "(9, 9, 5000)\n"
     ]
    }
   ],
   "source": [
    "kernel = np.ones((3,3))\n",
    "images = np.swapaxes(np.swapaxes(train_images.astype(np.float64), 0, 2), 0, 1)\n",
    "dst = np.zeros_like(images)\n",
    "\n",
    "if images.shape[2] > 512:\n",
    "    for i in range(int(np.ceil(images.shape[2]/512))):\n",
    "        dst[:, :, i*512:(i+1)*512] = cv2.filter2D(src = images[:, :, i*512:(i+1)*512], ddepth = -1, kernel = kernel, anchor = (0,0))\n",
    "else:\n",
    "    dst= cv2.filter2D(src = images, ddepth = -1, kernel = kernel, anchor = (0,0))\n",
    "\n",
    "zones = dst[::3,::3,:]\n",
    "print(zones.shape)\n",
    "    \n",
    "\n",
    "    "
   ]
  },
  {
   "cell_type": "code",
   "execution_count": 6,
   "metadata": {},
   "outputs": [],
   "source": [
    "def train_perceptron_numbers(passes, labels, zones):\n",
    "    weights = np.zeros((81,10))\n",
    "    bias = np.zeros(10)\n",
    "    for k in range(passes):\n",
    "        for i in range(len(zones[0][0])):            \n",
    "            b, index = 0, 0\n",
    "            arr = zones[:,:,i].ravel()\n",
    "            for j in range(len(weights[0])):\n",
    "                a = np.dot(weights[:,j],arr) + bias[j]\n",
    "                if a > b:\n",
    "                    b = a\n",
    "                    index = j\n",
    "            if labels[i] != index:\n",
    "                weights[:,index] -= arr\n",
    "                bias[index] -= 1\n",
    "                weights[:, labels[i]] += arr\n",
    "                bias[labels[i]] += 1\n",
    "    return weights, bias\n",
    "\n",
    "   "
   ]
  },
  {
   "cell_type": "code",
   "execution_count": 7,
   "metadata": {},
   "outputs": [
    {
     "name": "stdout",
     "output_type": "stream",
     "text": [
      "(9, 9, 1000)\n"
     ]
    }
   ],
   "source": [
    "vimages = np.swapaxes(np.swapaxes(validation_images.astype(np.float64), 0, 2), 0, 1)\n",
    "vdst = np.zeros_like(vimages)\n",
    "\n",
    "if vimages.shape[2] > 512:\n",
    "    for i in range(int(np.ceil(vimages.shape[2]/512))):\n",
    "        vdst[:, :, i*512:(i+1)*512] = cv2.filter2D(src = vimages[:, :, i*512:(i+1)*512], ddepth = -1, kernel = kernel, anchor = (0,0))\n",
    "else:\n",
    "    vdst= cv2.filter2D(src = vimages, ddepth = -1, kernel = kernel, anchor = (0,0))\n",
    "\n",
    "vzones = vdst[::3,::3,:]\n",
    "\n",
    "timages = np.swapaxes(np.swapaxes(test_images.astype(np.float64), 0, 2), 0, 1)\n",
    "tdst = np.zeros_like(timages)\n",
    "\n",
    "if timages.shape[2] > 512:\n",
    "    for i in range(int(np.ceil(timages.shape[2]/512))):\n",
    "        tdst[:, :, i*512:(i+1)*512] = cv2.filter2D(src = timages[:, :, i*512:(i+1)*512], ddepth = -1, kernel = kernel, anchor = (0,0))\n",
    "else:\n",
    "    tdst= cv2.filter2D(src = timages, ddepth = -1, kernel = kernel, anchor = (0,0))\n",
    "\n",
    "tzones = tdst[::3,::3,:]\n",
    "print(tzones.shape)\n"
   ]
  },
  {
   "cell_type": "code",
   "execution_count": 8,
   "metadata": {},
   "outputs": [],
   "source": [
    "def run_perceptron_numbers(weights, labels, zones, bias):\n",
    "    tally = 0\n",
    "    for i in range(len(zones[0][0])):\n",
    "        b, index = 0, 0\n",
    "        arr = zones[:,:,i].ravel()\n",
    "        for j in range(len(weights[0])):\n",
    "            a = np.dot(weights[:,j],arr) + bias[j]\n",
    "            if a > b:\n",
    "                b = a\n",
    "                index = j\n",
    "        if labels[i] == index:\n",
    "            tally += 1\n",
    "\n",
    "    return(tally/len(zones[0][0]))\n"
   ]
  },
  {
   "cell_type": "code",
   "execution_count": 27,
   "metadata": {},
   "outputs": [
    {
     "data": {
      "text/plain": [
       "0.842"
      ]
     },
     "execution_count": 27,
     "metadata": {},
     "output_type": "execute_result"
    }
   ],
   "source": [
    "w, b = train_perceptron_numbers(100, train_labels, zones)\n",
    "\n",
    "run_perceptron_numbers(w, validation_labels, vzones, b)\n",
    "\n",
    "run_perceptron_numbers(w, test_labels, tzones, b)"
   ]
  },
  {
   "cell_type": "code",
   "execution_count": 26,
   "metadata": {},
   "outputs": [],
   "source": [
    "def run_percentage(zones, labels, tzones, tlabels, iters):\n",
    "    mean_acc = np.zeros(10)\n",
    "    std = np.zeros(10)\n",
    "    mean_runtime = np.zeros(10)\n",
    "    for i in range(1,11):\n",
    "        accuracy = np.zeros(iters, dtype=np.float64)\n",
    "        runtime = np.zeros(iters, dtype=np.float64)\n",
    "        for j in range(iters):\n",
    "            start_time = time.time()\n",
    "            amount = int(0.1 * i * len(zones[0][0]))\n",
    "            available_indices = np.random.choice(len(zones[0][0]), amount, replace = False)\n",
    "            available_zones = zones[:,:,available_indices]\n",
    "            available_labels= labels[available_indices]\n",
    "            w, b = train_perceptron_numbers(200, available_labels, available_zones)         \n",
    "            accuracy[j-1] = run_perceptron_numbers(w, tlabels, tzones, b)\n",
    "            runtime[j-1] = time.time()-start_time\n",
    "        mean_acc[i-1] = np.mean(accuracy)\n",
    "        std[i-1] = np.std(accuracy)\n",
    "        mean_runtime[i-1] = np.mean(runtime)\n",
    "    return mean_acc, std, mean_runtime"
   ]
  },
  {
   "cell_type": "code",
   "execution_count": 27,
   "metadata": {},
   "outputs": [
    {
     "name": "stdout",
     "output_type": "stream",
     "text": [
      "[0.763    0.767625 0.785    0.800125 0.81325  0.79675  0.812125 0.81275\n",
      " 0.82125  0.8295  ] [0.00906918 0.02206772 0.01390144 0.00738982 0.01305517 0.01738354\n",
      " 0.01572766 0.0225818  0.01489757 0.0174069 ] [ 1.4698613   2.91283965  4.45591685  6.02300102  7.82056373  9.33006901\n",
      " 10.8422035  12.32963198 14.02733421 15.58530185]\n"
     ]
    },
    {
     "data": {
      "text/plain": [
       "<matplotlib.legend.Legend at 0x1522cc721f0>"
      ]
     },
     "execution_count": 27,
     "metadata": {},
     "output_type": "execute_result"
    },
    {
     "data": {
      "image/png": "[encoded data removed]",
      "text/plain": [
       "<Figure size 720x360 with 1 Axes>"
      ]
     },
     "metadata": {
      "needs_background": "light"
     },
     "output_type": "display_data"
    },
    {
     "data": {
      "image/png": "[encoded data removed]",
      "text/plain": [
       "<Figure size 720x360 with 1 Axes>"
      ]
     },
     "metadata": {
      "needs_background": "light"
     },
     "output_type": "display_data"
    }
   ],
   "source": [
    "x = np.linspace(.1*train_images.shape[0], train_images.shape[0], 10)\n",
    "acc, std, runtime = run_percentage(zones, train_labels, tzones, test_labels, 8)\n",
    "print(acc, std, runtime)\n",
    "plt.figure(0, figsize = (10, 5))\n",
    "plt.plot(x, acc[:], label = \"Mean Test Accuracy\")\n",
    "plt.plot(x, std[:], label = \"Test Standard Deviation\")\n",
    "plt.legend()\n",
    "plt.figure(1, figsize = (10,5))\n",
    "plt.plot(x, runtime[:], label = \"Mean Runtime in Seconds\")\n",
    "plt.legend()"
   ]
  },
  {
   "cell_type": "code",
   "execution_count": 30,
   "metadata": {},
   "outputs": [],
   "source": [
    "def run_set_amount(images,zones, labels, weights, bias , num_pictures, random):\n",
    "    if random == True:\n",
    "        available_indices = np.random.choice(len(zones[0][0]), num_pictures, replace = False)\n",
    "        available_zones = zones[:,:,available_indices]\n",
    "        available_labels= labels[available_indices]\n",
    "        for i in range(num_pictures):\n",
    "            b, index = 0, 0\n",
    "            arr = available_zones[:,:,i].ravel()\n",
    "            for j in range(len(weights[0])):\n",
    "                a = np.dot(weights[:,j],arr) + bias[j]\n",
    "                if a > b:\n",
    "                    b = a\n",
    "                    index = j\n",
    "            print(f\"Predicted: {index} | Truth: {available_labels[i]}\")\n",
    "            plt.imshow(images[available_indices[i],:,:])\n",
    "            plt.show()\n",
    "            \n",
    "           \n",
    "            \n",
    "    else:\n",
    "        available_zones = zones[:,:,0:num_pictures]\n",
    "        available_labels= labels[0:num_pictures]\n",
    "        for i in range(num_pictures):\n",
    "            b, index = 0, 0\n",
    "            arr = available_zones[:,:,i].ravel()\n",
    "            for j in range(len(weights[0])):\n",
    "                a = np.dot(weights[:,j],arr) + bias[j]\n",
    "                if a > b:\n",
    "                    b = a\n",
    "                    index = j\n",
    "            print(f\"Predicted: {index} | Truth: {available_labels[i]}\")\n",
    "            plt.imshow(images[i,:,:])\n",
    "            plt.show()"
   ]
  },
  {
   "cell_type": "code",
   "execution_count": 42,
   "metadata": {},
   "outputs": [
    {
     "name": "stdout",
     "output_type": "stream",
     "text": [
      "Predicted: 8 | Truth: 8\n"
     ]
    },
    {
     "data": {
      "image/png": "[encoded data removed]",
      "text/plain": [
       "<Figure size 432x288 with 1 Axes>"
      ]
     },
     "metadata": {
      "needs_background": "light"
     },
     "output_type": "display_data"
    }
   ],
   "source": [
    "weights, bias = train_perceptron_numbers(20, train_labels, zones)\n",
    "\n",
    "run_set_amount(test_images,tzones, test_labels, weights, bias, 1, True)"
   ]
  }
 ],
 "metadata": {
  "interpreter": {
   "hash": "21522df79a5f2f7576e87cd4971b777eef95bcbd6396c0a74d6cd78603fae977"
  },
  "kernelspec": {
   "display_name": "Python 3.8.10 64-bit ('pytorch': conda)",
   "language": "python",
   "name": "python3"
  },
  "language_info": {
   "codemirror_mode": {
    "name": "ipython",
    "version": 3
   },
   "file_extension": ".py",
   "mimetype": "text/x-python",
   "name": "python",
   "nbconvert_exporter": "python",
   "pygments_lexer": "ipython3",
   "version": "3.8.12"
  },
  "orig_nbformat": 4
 },
 "nbformat": 4,
 "nbformat_minor": 2
}
