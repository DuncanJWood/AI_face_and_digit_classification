{
 "cells": [
  {
   "cell_type": "code",
   "execution_count": 42,
   "metadata": {},
   "outputs": [],
   "source": [
    "import numpy as np\n",
    "import matplotlib.pyplot as plt\n",
    "from parse import parse\n",
    "import cv2"
   ]
  },
  {
   "cell_type": "code",
   "execution_count": 43,
   "metadata": {},
   "outputs": [],
   "source": [
    "train_images, train_labels = parse('digitdata/trainingimages', 'digitdata/traininglabels', True)\n",
    "validation_images, validation_labels = parse('digitdata/validationimages', 'digitdata/validationlabels', True)\n",
    "test_images, test_labels = parse('digitdata/testimages', 'digitdata/testlabels', True)"
   ]
  },
  {
   "cell_type": "code",
   "execution_count": 44,
   "metadata": {},
   "outputs": [
    {
     "name": "stdout",
     "output_type": "stream",
     "text": [
      "[0.0958 0.1126 0.0976 0.0986 0.107  0.0868 0.1002 0.11   0.0924 0.099 ]\n"
     ]
    }
   ],
   "source": [
    "base_rate_true = np.bincount(train_labels)/train_labels.shape[0]\n",
    "print(base_rate_true)"
   ]
  },
  {
   "cell_type": "code",
   "execution_count": 83,
   "metadata": {},
   "outputs": [],
   "source": [
    "kernel = np.ones((3,3))\n",
    "images = np.swapaxes(np.swapaxes(train_images.astype(np.float64), 0, 2), 0, 1)\n",
    "dst = np.zeros_like(images)\n",
    "\n",
    "if images.shape[2] > 512:\n",
    "    for i in range(int(np.ceil(images.shape[2]/512))):\n",
    "        dst[:, :, i*512:(i+1)*512] = cv2.filter2D(src = images[:, :, i*512:(i+1)*512], ddepth = -1, kernel = kernel, anchor = (0,0))\n",
    "else:\n",
    "    dst= cv2.filter2D(src = images, ddepth = -1, kernel = kernel, anchor = (0,0))\n",
    "\n",
    "zones = dst[::3,::3,:]\n",
    "\n",
    "    \n",
    "\n",
    "    "
   ]
  },
  {
   "cell_type": "code",
   "execution_count": 92,
   "metadata": {},
   "outputs": [],
   "source": [
    "def train_perceptron_numbers(passes, input, labels, zones):\n",
    "    weights = np.zeros((81,10))\n",
    "    bias = np.zeros(10)\n",
    "    for k in range(passes):\n",
    "        for i in range(len(input)):            \n",
    "            b, index = 0, 0\n",
    "            arr = zones[:,:,i].ravel()\n",
    "            for j in range(len(weights[0])):\n",
    "                a = np.dot(weights[:,j],arr) + bias[j]\n",
    "                if a > b:\n",
    "                    b = a\n",
    "                    index = j\n",
    "            if labels[i] != index:\n",
    "                weights[:,index] -= arr\n",
    "                bias[index] -= 1\n",
    "                weights[:, labels[i]] += arr\n",
    "                bias[labels[i]] += 1\n",
    "    return weights, bias\n",
    "\n",
    "   "
   ]
  },
  {
   "cell_type": "code",
   "execution_count": 93,
   "metadata": {},
   "outputs": [],
   "source": [
    "vimages = np.swapaxes(np.swapaxes(validation_images.astype(np.float64), 0, 2), 0, 1)\n",
    "vdst = np.zeros_like(vimages)\n",
    "\n",
    "if vimages.shape[2] > 512:\n",
    "    for i in range(int(np.ceil(vimages.shape[2]/512))):\n",
    "        vdst[:, :, i*512:(i+1)*512] = cv2.filter2D(src = vimages[:, :, i*512:(i+1)*512], ddepth = -1, kernel = kernel, anchor = (0,0))\n",
    "else:\n",
    "    vdst= cv2.filter2D(src = vimages, ddepth = -1, kernel = kernel, anchor = (0,0))\n",
    "\n",
    "vzones = vdst[::3,::3,:]\n",
    "\n",
    "timages = np.swapaxes(np.swapaxes(test_images.astype(np.float64), 0, 2), 0, 1)\n",
    "tdst = np.zeros_like(timages)\n",
    "\n",
    "if timages.shape[2] > 512:\n",
    "    for i in range(int(np.ceil(timages.shape[2]/512))):\n",
    "        tdst[:, :, i*512:(i+1)*512] = cv2.filter2D(src = timages[:, :, i*512:(i+1)*512], ddepth = -1, kernel = kernel, anchor = (0,0))\n",
    "else:\n",
    "    tdst= cv2.filter2D(src = timages, ddepth = -1, kernel = kernel, anchor = (0,0))\n",
    "\n",
    "tzones = tdst[::3,::3,:]\n"
   ]
  },
  {
   "cell_type": "code",
   "execution_count": 95,
   "metadata": {},
   "outputs": [],
   "source": [
    "def run_perceptron_numbers(weights, input, labels, zones, bias):\n",
    "    tally = 0\n",
    "    for i in range(len(input)):\n",
    "        b, index = 0, 0\n",
    "        arr = zones[:,:,i].ravel()\n",
    "        for j in range(len(weights[0])):\n",
    "            a = np.dot(weights[:,j],arr) + bias[j]\n",
    "            if a > b:\n",
    "                b = a\n",
    "                index = j\n",
    "        if labels[i] == index:\n",
    "            tally += 1\n",
    "\n",
    "    print(tally/len(input))\n"
   ]
  },
  {
   "cell_type": "code",
   "execution_count": 97,
   "metadata": {},
   "outputs": [
    {
     "name": "stdout",
     "output_type": "stream",
     "text": [
      "0.852\n",
      "0.842\n"
     ]
    }
   ],
   "source": [
    "w, b = train_perceptron_numbers(100, train_images, train_labels, zones)\n",
    "\n",
    "run_perceptron_numbers(w, validation_images, validation_labels, vzones, b)\n",
    "\n",
    "run_perceptron_numbers(w, test_images, test_labels, tzones, b)"
   ]
  }
 ],
 "metadata": {
  "interpreter": {
   "hash": "21522df79a5f2f7576e87cd4971b777eef95bcbd6396c0a74d6cd78603fae977"
  },
  "kernelspec": {
   "display_name": "Python 3.8.10 64-bit ('pytorch': conda)",
   "language": "python",
   "name": "python3"
  },
  "language_info": {
   "codemirror_mode": {
    "name": "ipython",
    "version": 3
   },
   "file_extension": ".py",
   "mimetype": "text/x-python",
   "name": "python",
   "nbconvert_exporter": "python",
   "pygments_lexer": "ipython3",
   "version": "3.8.12"
  },
  "orig_nbformat": 4
 },
 "nbformat": 4,
 "nbformat_minor": 2
}
