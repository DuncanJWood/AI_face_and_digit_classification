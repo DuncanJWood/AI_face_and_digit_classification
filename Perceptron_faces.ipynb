{
 "cells": [
  {
   "cell_type": "code",
   "execution_count": 4,
   "metadata": {},
   "outputs": [],
   "source": [
    "import numpy as np\n",
    "import matplotlib.pyplot as plt\n",
    "from parse import parse\n",
    "import cv2"
   ]
  },
  {
   "cell_type": "code",
   "execution_count": 5,
   "metadata": {},
   "outputs": [],
   "source": [
    "train_images, train_labels = parse('facedata/facedatatrain', 'facedata/facedatatrainlabels', True)\n",
    "validation_images, validation_labels = parse('facedata/facedatavalidation', 'facedata/facedatavalidationlabels', True)\n",
    "test_images, test_labels = parse('facedata/facedatatest', 'facedata/facedatatestlabels', True)"
   ]
  },
  {
   "cell_type": "code",
   "execution_count": 6,
   "metadata": {},
   "outputs": [
    {
     "name": "stdout",
     "output_type": "stream",
     "text": [
      "[0.51884701 0.48115299]\n"
     ]
    }
   ],
   "source": [
    "base_rate_true = np.bincount(train_labels)/train_labels.shape[0]\n",
    "print(base_rate_true)"
   ]
  },
  {
   "cell_type": "code",
   "execution_count": 11,
   "metadata": {},
   "outputs": [],
   "source": [
    "kernel = np.ones((7,3))\n",
    "images = np.swapaxes(np.swapaxes(train_images.astype(np.float64), 0, 2), 0, 1)\n",
    "dst = cv2.filter2D(src = images, ddepth = -1, kernel = kernel, anchor = (0,0))\n",
    "zones = dst[::7,::3,:]\n",
    "\n",
    "vimages = np.swapaxes(np.swapaxes(validation_images.astype(np.float64), 0, 2), 0, 1)\n",
    "vdst = cv2.filter2D(src = vimages, ddepth = -1, kernel = kernel, anchor = (0,0))\n",
    "vzones = vdst[::7,::3,:]"
   ]
  },
  {
   "cell_type": "code",
   "execution_count": 98,
   "metadata": {},
   "outputs": [],
   "source": [
    "\n",
    "for k in range(5000):\n",
    "    for i in range(0, 450):\n",
    "        arr = zones[:,:,i].ravel()\n",
    "        b = np.dot(weights, arr) +bias\n",
    "        if b < 0 and train_labels[i] == True:\n",
    "            weights += arr\n",
    "            bias += 1\n",
    "        elif b >= 0 and train_labels[i] == False:\n",
    "            weights -= arr\n",
    "            bias -= 1\n",
    "\n",
    "        \n",
    "\n",
    "\n",
    "    \n",
    "\n",
    "    "
   ]
  },
  {
   "cell_type": "code",
   "execution_count": 7,
   "metadata": {},
   "outputs": [],
   "source": [
    "def train_perceptron_faces(passes, input, labels, zones):\n",
    "    weights = np.zeros(200)\n",
    "    bias = 0\n",
    "    for k in range(passes):\n",
    "        for i in range(0, len(input)):\n",
    "            arr = zones[:,:,i].ravel()\n",
    "            b = np.dot(weights, arr) +bias\n",
    "            if b < 0 and labels[i] == True:\n",
    "                weights += arr\n",
    "                bias += 1\n",
    "            elif b >= 0 and labels[i] == False:\n",
    "                weights -= arr\n",
    "                bias -= 1\n",
    "    return weights, bias\n"
   ]
  },
  {
   "cell_type": "code",
   "execution_count": 2,
   "metadata": {},
   "outputs": [],
   "source": [
    "def run_perceptron_faces(weights, input, labels, zones, bias):\n",
    "    tally = 0\n",
    "    for i in range(len(input)):\n",
    "        arr = zones[:,:,i].ravel()\n",
    "        b = np.dot(weights, arr) + bias \n",
    "        if (b >= 0 and labels[i] == True) or (b < 0 and labels[i] == False):\n",
    "            tally += 1\n",
    "    print(tally/len(input))\n"
   ]
  },
  {
   "cell_type": "code",
   "execution_count": 12,
   "metadata": {},
   "outputs": [
    {
     "name": "stdout",
     "output_type": "stream",
     "text": [
      "0.9003322259136213\n"
     ]
    }
   ],
   "source": [
    "w, b = train_perceptron_faces(5000, train_images, train_labels, zones)\n",
    "\n",
    "run_perceptron_faces(w, validation_images, validation_labels, vzones, b)"
   ]
  }
 ],
 "metadata": {
  "interpreter": {
   "hash": "21522df79a5f2f7576e87cd4971b777eef95bcbd6396c0a74d6cd78603fae977"
  },
  "kernelspec": {
   "display_name": "Python 3.8.10 64-bit ('pytorch': conda)",
   "language": "python",
   "name": "python3"
  },
  "language_info": {
   "codemirror_mode": {
    "name": "ipython",
    "version": 3
   },
   "file_extension": ".py",
   "mimetype": "text/x-python",
   "name": "python",
   "nbconvert_exporter": "python",
   "pygments_lexer": "ipython3",
   "version": "3.8.12"
  },
  "orig_nbformat": 4
 },
 "nbformat": 4,
 "nbformat_minor": 2
}
