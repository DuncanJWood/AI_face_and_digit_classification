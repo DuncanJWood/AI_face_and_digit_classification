{
 "cells": [
  {
   "cell_type": "code",
   "execution_count": 58,
   "metadata": {},
   "outputs": [],
   "source": [
    "import numpy as np\n",
    "import matplotlib.pyplot as plt\n",
    "from parse import parse\n",
    "import math\n",
    "import time\n",
    "import cv2"
   ]
  },
  {
   "cell_type": "code",
   "execution_count": 15,
   "metadata": {},
   "outputs": [],
   "source": [
    "train_images, train_labels = parse('facedata/facedatatrain', 'facedata/facedatatrainlabels', True)\n",
    "validation_images, validation_labels = parse('facedata/facedatavalidation', 'facedata/facedatavalidationlabels', True)\n",
    "test_images, test_labels = parse('facedata/facedatatest', 'facedata/facedatatestlabels', True)\n"
   ]
  },
  {
   "cell_type": "code",
   "execution_count": 16,
   "metadata": {},
   "outputs": [
    {
     "name": "stdout",
     "output_type": "stream",
     "text": [
      "[0.51884701 0.48115299]\n"
     ]
    }
   ],
   "source": [
    "base_rate_true = np.bincount(train_labels)/train_labels.shape[0]\n",
    "print(base_rate_true)"
   ]
  },
  {
   "cell_type": "code",
   "execution_count": 17,
   "metadata": {},
   "outputs": [],
   "source": [
    "kernel = np.ones((7,3))\n",
    "images = np.swapaxes(np.swapaxes(train_images.astype(np.float64), 0, 2), 0, 1)\n",
    "dst = cv2.filter2D(src = images, ddepth = -1, kernel = kernel, anchor = (0,0))\n",
    "train_zones = dst[::7,::3,:]\n",
    "\n",
    "vimages = np.swapaxes(np.swapaxes(validation_images.astype(np.float64), 0, 2), 0, 1)\n",
    "vdst = cv2.filter2D(src = vimages, ddepth = -1, kernel = kernel, anchor = (0,0))\n",
    "vzones = vdst[::7,::3,:]\n",
    "\n",
    "\n",
    "timages = np.swapaxes(np.swapaxes(test_images.astype(np.float64), 0, 2), 0, 1)\n",
    "tdst = cv2.filter2D(src = timages, ddepth = -1, kernel = kernel, anchor = (0,0))\n",
    "test_zones = tdst[::7,::3,:]"
   ]
  },
  {
   "cell_type": "code",
   "execution_count": 18,
   "metadata": {},
   "outputs": [],
   "source": [
    "def train_perceptron_faces(passes, labels, zones):\n",
    "    weights = np.zeros(200)\n",
    "    bias = 0\n",
    "    for k in range(passes):\n",
    "        for i in range(len(labels)):\n",
    "            arr = zones[:,:,i].ravel()\n",
    "            b = np.dot(weights, arr) +bias\n",
    "            if b < 0 and labels[i] == True:\n",
    "                weights += arr\n",
    "                bias += 1\n",
    "            elif b >= 0 and labels[i] == False:\n",
    "                weights -= arr\n",
    "                bias -= 1\n",
    "    return weights, bias\n"
   ]
  },
  {
   "cell_type": "code",
   "execution_count": 19,
   "metadata": {},
   "outputs": [],
   "source": [
    "def run_perceptron_faces(weights, labels, zones, bias):\n",
    "    tally = 0\n",
    "    for i in range(len(labels)):\n",
    "        arr = zones[:,:,i].ravel()\n",
    "        b = np.dot(weights, arr) + bias \n",
    "        if (b >= 0 and labels[i] == True) or (b < 0 and labels[i] == False):\n",
    "            tally += 1\n",
    "    return (tally/len(labels))\n"
   ]
  },
  {
   "cell_type": "code",
   "execution_count": 36,
   "metadata": {},
   "outputs": [
    {
     "data": {
      "text/plain": [
       "0.9003322259136213"
      ]
     },
     "execution_count": 36,
     "metadata": {},
     "output_type": "execute_result"
    }
   ],
   "source": [
    "w, b = train_perceptron_faces(2000, train_labels, train_zones)\n",
    "\n",
    "run_perceptron_faces(w, validation_labels, vzones, b)"
   ]
  },
  {
   "cell_type": "code",
   "execution_count": 70,
   "metadata": {},
   "outputs": [],
   "source": [
    "def run_percentage(zones, labels, tzones, tlabels, iters):\n",
    "    mean_acc = np.zeros(10)\n",
    "    std = np.zeros(10)\n",
    "    mean_runtime = np.zeros(10)\n",
    "    for i in range(1,11):\n",
    "        accuracy = np.zeros(iters, dtype=np.float64)\n",
    "        runtime = np.zeros(iters, dtype=np.float64)\n",
    "        for j in range(iters):\n",
    "            start_time = time.time()\n",
    "            amount = int(0.1 * i * len(zones[0][0]))\n",
    "            available_indices = np.random.choice(len(zones[0][0]), amount, replace = False)\n",
    "            available_zones = zones[:,:,available_indices]\n",
    "            available_labels= labels[available_indices]\n",
    "            w, b = train_perceptron_faces(200, available_labels, available_zones)\n",
    "            accuracy[j-1] = run_perceptron_faces(w, tlabels, tzones, b)\n",
    "            runtime[j-1] = time.time()-start_time\n",
    "        mean_acc[i-1] = np.mean(accuracy)\n",
    "        std[i-1] = np.std(accuracy)\n",
    "        mean_runtime[i-1] = np.mean(runtime)\n",
    "    return mean_acc, std, mean_runtime"
   ]
  },
  {
   "cell_type": "code",
   "execution_count": 71,
   "metadata": {},
   "outputs": [
    {
     "name": "stdout",
     "output_type": "stream",
     "text": [
      "[0.75583333 0.84       0.8275     0.86       0.87416667 0.87583333\n",
      " 0.88833333 0.8825     0.88666667 0.88916667] [0.04932179 0.02       0.03627633 0.03464102 0.02093309 0.01450575\n",
      " 0.01624466 0.01411756 0.01333333 0.01050793] [0.02802995 0.05446774 0.08240652 0.10974279 0.13826004 0.16129732\n",
      " 0.19120434 0.2186321  0.24494305 0.27042449]\n"
     ]
    },
    {
     "data": {
      "text/plain": [
       "<matplotlib.legend.Legend at 0x1f6f3da1d30>"
      ]
     },
     "execution_count": 71,
     "metadata": {},
     "output_type": "execute_result"
    },
    {
     "data": {
      "image/png": "[encoded data removed]",
      "text/plain": [
       "<Figure size 720x360 with 1 Axes>"
      ]
     },
     "metadata": {
      "needs_background": "light"
     },
     "output_type": "display_data"
    },
    {
     "data": {
      "image/png": "[encoded data removed]",
      "text/plain": [
       "<Figure size 720x360 with 1 Axes>"
      ]
     },
     "metadata": {
      "needs_background": "light"
     },
     "output_type": "display_data"
    }
   ],
   "source": [
    "x = np.linspace(.1*train_images.shape[0], train_images.shape[0], 10)\n",
    "acc, std, runtime= run_percentage(train_zones, train_labels, test_zones, test_labels, 8)\n",
    "print(acc, std, runtime)\n",
    "plt.figure(0,figsize = (10, 5))\n",
    "plt.plot(x, acc[:], label = \"Mean Test Accuracy\")\n",
    "plt.plot(x, std[:], label = \"Test Standard Deviation\")\n",
    "plt.legend()\n",
    "plt.figure(1, figsize=(10,5))\n",
    "plt.plot(x, runtime[:], label = \"Mean Runtime in Seconds\")\n",
    "plt.legend()"
   ]
  }
 ],
 "metadata": {
  "interpreter": {
   "hash": "21522df79a5f2f7576e87cd4971b777eef95bcbd6396c0a74d6cd78603fae977"
  },
  "kernelspec": {
   "display_name": "Python 3.8.10 64-bit ('pytorch': conda)",
   "language": "python",
   "name": "python3"
  },
  "language_info": {
   "codemirror_mode": {
    "name": "ipython",
    "version": 3
   },
   "file_extension": ".py",
   "mimetype": "text/x-python",
   "name": "python",
   "nbconvert_exporter": "python",
   "pygments_lexer": "ipython3",
   "version": "3.8.12"
  },
  "orig_nbformat": 4
 },
 "nbformat": 4,
 "nbformat_minor": 2
}
