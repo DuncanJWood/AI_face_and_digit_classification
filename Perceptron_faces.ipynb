{
 "cells": [
  {
   "cell_type": "code",
   "execution_count": 1,
   "metadata": {},
   "outputs": [],
   "source": [
    "import numpy as np\n",
    "import matplotlib.pyplot as plt\n",
    "from parse import parse\n",
    "import math\n",
    "import cv2"
   ]
  },
  {
   "cell_type": "code",
   "execution_count": 2,
   "metadata": {},
   "outputs": [
    {
     "name": "stdout",
     "output_type": "stream",
     "text": [
      "(150,)\n"
     ]
    }
   ],
   "source": [
    "train_images, train_labels = parse('facedata/facedatatrain', 'facedata/facedatatrainlabels', True)\n",
    "validation_images, validation_labels = parse('facedata/facedatavalidation', 'facedata/facedatavalidationlabels', True)\n",
    "test_images, test_labels = parse('facedata/facedatatest', 'facedata/facedatatestlabels', True)\n",
    "print(test_i).shape)"
   ]
  },
  {
   "cell_type": "code",
   "execution_count": 3,
   "metadata": {},
   "outputs": [
    {
     "name": "stdout",
     "output_type": "stream",
     "text": [
      "[0.51884701 0.48115299]\n"
     ]
    }
   ],
   "source": [
    "base_rate_true = np.bincount(train_labels)/train_labels.shape[0]\n",
    "print(base_rate_true)"
   ]
  },
  {
   "cell_type": "code",
   "execution_count": 53,
   "metadata": {},
   "outputs": [],
   "source": [
    "kernel = np.ones((7,3))\n",
    "images = np.swapaxes(np.swapaxes(train_images.astype(np.float64), 0, 2), 0, 1)\n",
    "dst = cv2.filter2D(src = images, ddepth = -1, kernel = kernel, anchor = (0,0))\n",
    "train_zones = dst[::7,::3,:]\n",
    "\n",
    "vimages = np.swapaxes(np.swapaxes(validation_images.astype(np.float64), 0, 2), 0, 1)\n",
    "vdst = cv2.filter2D(src = vimages, ddepth = -1, kernel = kernel, anchor = (0,0))\n",
    "vzones = vdst[::7,::3,:]\n",
    "\n",
    "\n",
    "timages = np.swapaxes(np.swapaxes(test_images.astype(np.float64), 0, 2), 0, 1)\n",
    "tdst = cv2.filter2D(src = timages, ddepth = -1, kernel = kernel, anchor = (0,0))\n",
    "test_zones = tdst[::7,::3,:]"
   ]
  },
  {
   "cell_type": "code",
   "execution_count": 51,
   "metadata": {},
   "outputs": [],
   "source": [
    "def train_perceptron_faces(passes, labels, zones):\n",
    "    weights = np.zeros(200)\n",
    "    bias = 0\n",
    "    for k in range(passes):\n",
    "        for i in range(len(labels)):\n",
    "            arr = zones[:,:,i].ravel()\n",
    "            b = np.dot(weights, arr) +bias\n",
    "            if b < 0 and labels[i] == True:\n",
    "                weights += arr\n",
    "                bias += 1\n",
    "            elif b >= 0 and labels[i] == False:\n",
    "                weights -= arr\n",
    "                bias -= 1\n",
    "    return weights, bias\n"
   ]
  },
  {
   "cell_type": "code",
   "execution_count": 52,
   "metadata": {},
   "outputs": [],
   "source": [
    "def run_perceptron_faces(weights, labels, zones, bias):\n",
    "    tally = 0\n",
    "    for i in range(len(labels)):\n",
    "        arr = zones[:,:,i].ravel()\n",
    "        b = np.dot(weights, arr) + bias \n",
    "        if (b >= 0 and labels[i] == True) or (b < 0 and labels[i] == False):\n",
    "            tally += 1\n",
    "    return (tally/len(labels))\n"
   ]
  },
  {
   "cell_type": "code",
   "execution_count": 56,
   "metadata": {},
   "outputs": [
    {
     "data": {
      "text/plain": [
       "0.9003322259136213"
      ]
     },
     "execution_count": 56,
     "metadata": {},
     "output_type": "execute_result"
    }
   ],
   "source": [
    "w, b = train_perceptron_faces(1000, train_labels, train_zones)\n",
    "\n",
    "run_perceptron_faces(w, validation_labels, vzones, b)"
   ]
  },
  {
   "cell_type": "code",
   "execution_count": 57,
   "metadata": {},
   "outputs": [],
   "source": [
    "def run_percentage(zones, labels, tzones, tlabels):\n",
    "    accuracy = np.zeros(10, dtype=np.float64)\n",
    "    for i in range(1,11):\n",
    "        amount = int(0.1 * i * len(zones[0][0]) -1)\n",
    "        available_indices = np.random.choice(len(zones[0][0]), amount, replace = False)\n",
    "        available_zones = zones[:,:,available_indices]\n",
    "        available_labels= labels[available_indices]\n",
    "        w, b = train_perceptron_faces(100, available_labels, available_zones)\n",
    "        accuracy[i-1] = run_perceptron_faces(w, tlabels, tzones, b)\n",
    "    return accuracy"
   ]
  },
  {
   "cell_type": "code",
   "execution_count": 62,
   "metadata": {},
   "outputs": [
    {
     "name": "stdout",
     "output_type": "stream",
     "text": [
      "[0.74       0.84666667 0.87333333 0.88       0.85333333 0.86666667\n",
      " 0.87333333 0.88       0.89333333 0.91333333]\n"
     ]
    },
    {
     "data": {
      "text/plain": [
       "<matplotlib.legend.Legend at 0x20fd0e86af0>"
      ]
     },
     "execution_count": 62,
     "metadata": {},
     "output_type": "execute_result"
    },
    {
     "data": {
      "image/png": "[encoded data removed]",
      "text/plain": [
       "<Figure size 720x360 with 1 Axes>"
      ]
     },
     "metadata": {
      "needs_background": "light"
     },
     "output_type": "display_data"
    }
   ],
   "source": [
    "x = np.linspace(.1*train_images.shape[0], train_images.shape[0], 10)\n",
    "acc = run_percentage(train_zones, train_labels, test_zones, test_labels)\n",
    "print(acc)\n",
    "plt.figure(figsize = (10, 5))\n",
    "plt.plot(x, acc[:], label = \"Test Accuracy\")\n",
    "plt.legend()"
   ]
  }
 ],
 "metadata": {
  "interpreter": {
   "hash": "21522df79a5f2f7576e87cd4971b777eef95bcbd6396c0a74d6cd78603fae977"
  },
  "kernelspec": {
   "display_name": "Python 3.8.10 64-bit ('pytorch': conda)",
   "language": "python",
   "name": "python3"
  },
  "language_info": {
   "codemirror_mode": {
    "name": "ipython",
    "version": 3
   },
   "file_extension": ".py",
   "mimetype": "text/x-python",
   "name": "python",
   "nbconvert_exporter": "python",
   "pygments_lexer": "ipython3",
   "version": "3.8.12"
  },
  "orig_nbformat": 4
 },
 "nbformat": 4,
 "nbformat_minor": 2
}
