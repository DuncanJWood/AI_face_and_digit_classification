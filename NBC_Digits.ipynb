{
 "cells": [
  {
   "cell_type": "code",
   "execution_count": 1,
   "metadata": {},
   "outputs": [],
   "source": [
    "import time\n",
    "import numpy as np\n",
    "import matplotlib.pyplot as plt\n",
    "from parse import parse\n",
    "import cv2"
   ]
  },
  {
   "cell_type": "code",
   "execution_count": 2,
   "metadata": {},
   "outputs": [],
   "source": [
    "train_images, train_labels = parse('digitdata/trainingimages', 'digitdata/traininglabels', True)\n",
    "validation_images, validation_labels = parse('digitdata/validationimages', 'digitdata/validationlabels', True)\n",
    "test_images, test_labels = parse('digitdata/testimages', 'digitdata/testlabels', True)"
   ]
  },
  {
   "cell_type": "code",
   "execution_count": 3,
   "metadata": {},
   "outputs": [
    {
     "name": "stdout",
     "output_type": "stream",
     "text": [
      "[0.0958 0.1126 0.0976 0.0986 0.107  0.0868 0.1002 0.11   0.0924 0.099 ]\n"
     ]
    }
   ],
   "source": [
    "base_rates = np.bincount(train_labels)/train_labels.shape[0]\n",
    "print(base_rates)"
   ]
  },
  {
   "cell_type": "code",
   "execution_count": 4,
   "metadata": {},
   "outputs": [],
   "source": [
    "kernel = np.ones((3,1))\n",
    "images = np.swapaxes(np.swapaxes(train_images.astype(np.float64), 0, 2), 0, 1)\n",
    "dst = cv2.filter2D(src = images[:,:,0:512], ddepth = -1, kernel = kernel, anchor = (0, 0))\n",
    "zones = dst[::3,::3,:]"
   ]
  },
  {
   "cell_type": "code",
   "execution_count": 5,
   "metadata": {},
   "outputs": [
    {
     "data": {
      "image/png": "[encoded data removed]",
      "text/plain": [
       "<Figure size 432x288 with 1 Axes>"
      ]
     },
     "metadata": {
      "needs_background": "light"
     },
     "output_type": "display_data"
    },
    {
     "data": {
      "image/png": "[encoded data removed]",
      "text/plain": [
       "<Figure size 432x288 with 1 Axes>"
      ]
     },
     "metadata": {
      "needs_background": "light"
     },
     "output_type": "display_data"
    },
    {
     "data": {
      "text/plain": [
       "<matplotlib.image.AxesImage at 0x1f6cd98be20>"
      ]
     },
     "execution_count": 5,
     "metadata": {},
     "output_type": "execute_result"
    },
    {
     "data": {
      "image/png": "[encoded data removed]",
      "text/plain": [
       "<Figure size 432x288 with 1 Axes>"
      ]
     },
     "metadata": {
      "needs_background": "light"
     },
     "output_type": "display_data"
    }
   ],
   "source": [
    "a = 0\n",
    "plt.imshow(train_images[a,:,:])\n",
    "plt.show()\n",
    "plt.imshow(dst[:,:,a])\n",
    "plt.show()\n",
    "plt.imshow(zones[:,:,a])"
   ]
  },
  {
   "cell_type": "code",
   "execution_count": 6,
   "metadata": {},
   "outputs": [],
   "source": [
    "def get_feature_probs(images = train_images, labels = train_labels, dim = (3,3), stride = -1, kernel = -1):\n",
    "\n",
    "    labels = labels.astype(int)\n",
    "\n",
    "    if stride == -1:\n",
    "        stride = dim\n",
    "\n",
    "    if kernel == -1:\n",
    "        kernel = np.ones(dim)\n",
    "\n",
    "    pixel_quant = dim[0]*dim[1] + 1\n",
    "\n",
    "    kernel = np.ones(dim)\n",
    "    images = np.swapaxes(np.swapaxes(images.astype(np.float64), 0, 2), 0, 1)\n",
    "\n",
    "    dst = np.zeros_like(images)\n",
    "\n",
    "    if images.shape[2] > 512:\n",
    "        for i in range(int(np.ceil(images.shape[2]/512))):\n",
    "            dst[:, :, i*512:(i+1)*512] = cv2.filter2D(src = images[:, :, i*512:(i+1)*512], ddepth = -1, kernel = kernel, anchor = (0,0))\n",
    "    else:\n",
    "        dst= cv2.filter2D(src = images, ddepth = -1, kernel = kernel, anchor = (0,0))\n",
    "\n",
    "    zones = dst.astype(int)[::stride[0],::stride[1],:].astype(int)\n",
    "    zones = np.reshape(zones, (zones.shape[0]*zones.shape[1], zones.shape[2]))\n",
    "\n",
    "    zone_probs = np.zeros((zones.shape[0], pixel_quant, base_rates.shape[0]))\n",
    "\n",
    "    for i, zone in enumerate(zones):\n",
    "        for number in range(0, base_rates.shape[0]):\n",
    "\n",
    "            quant = np.bincount(zone[labels == number])\n",
    "\n",
    "            quant = np.pad(quant, (0, pixel_quant - quant.shape[0]), constant_values = 0)\n",
    "\n",
    "            if np.max(quant) != 0:\n",
    "                zone_probs[i, :, number] = quant/np.sum(quant)\n",
    "\n",
    "        zeros = zone_probs == 0\n",
    "        zone_probs[zeros] = 0.000001\n",
    "\n",
    "    return zone_probs"
   ]
  },
  {
   "cell_type": "code",
   "execution_count": 7,
   "metadata": {},
   "outputs": [],
   "source": [
    "def get_features(images = train_images, dim = (3,3), stride = -1, kernel = -1):\n",
    "    if stride == -1:\n",
    "        stride = dim\n",
    "\n",
    "    if kernel == -1:\n",
    "        kernel = np.ones(dim)\n",
    "\n",
    "    kernel = np.ones(dim)\n",
    "    images = np.swapaxes(np.swapaxes(images.astype(np.float64), 0, 2), 0, 1)\n",
    "\n",
    "    dst = np.zeros_like(images)\n",
    "\n",
    "    if images.shape[2] > 512:\n",
    "        for i in range(int(np.ceil(images.shape[2]/512))):\n",
    "            dst[:, :, i*512:(i+1)*512] = cv2.filter2D(src = images[:, :, i*512:(i+1)*512], ddepth = -1, kernel = kernel, anchor = (0,0))\n",
    "    else:\n",
    "        dst= cv2.filter2D(src = images, ddepth = -1, kernel = kernel, anchor = (0,0))\n",
    "\n",
    "    zones = dst[::stride[0],::stride[1],:].astype(int)\n",
    "    zones = np.reshape(zones, (zones.shape[0]*zones.shape[1], zones.shape[2]))\n",
    "\n",
    "    return zones"
   ]
  },
  {
   "cell_type": "code",
   "execution_count": 8,
   "metadata": {},
   "outputs": [],
   "source": [
    "def predict(train_images = train_images, train_labels = train_labels, val_images = validation_images, val_labels = validation_labels):\n",
    "    dim = (3,1)\n",
    "\n",
    "    base_rates = np.bincount(train_labels)/train_labels.shape[0]\n",
    "\n",
    "    feature_probs = get_feature_probs(train_images, train_labels, dim, )\n",
    "    train_features = get_features(train_images, dim)\n",
    "    val_features = get_features(val_images, dim)\n",
    "\n",
    "    train_image_probs = np.product(feature_probs[np.arange(len(train_features))[:, np.newaxis], train_features], axis = 0)\n",
    "    train_preds = np.argmax(train_image_probs*base_rates, axis = 1)\n",
    "    train_acc = np.sum(train_preds == train_labels)/train_labels.shape[0]\n",
    "\n",
    "    val_image_probs = np.product(feature_probs[np.arange(len(val_features))[:, np.newaxis], val_features], axis = 0)\n",
    "    val_preds = np.argmax(val_image_probs* base_rates, axis = 1)\n",
    "    val_acc = np.sum(val_preds == val_labels)/val_labels.shape[0]\n",
    "\n",
    "    return train_acc, val_acc\n"
   ]
  },
  {
   "cell_type": "code",
   "execution_count": 9,
   "metadata": {},
   "outputs": [],
   "source": [
    "def main(train_images = train_images, train_labels = train_labels, test_images = validation_images, test_labels = validation_labels):\n",
    "    dim = (3,1)\n",
    "\n",
    "    base_rates = np.bincount(train_labels)/train_labels.shape[0]\n",
    "\n",
    "    t_begin = time.time()\n",
    "    feature_probs = get_feature_probs(train_images, train_labels, dim, )\n",
    "    t_end = time.time() - t_begin\n",
    "\n",
    "    train_features = get_features(train_images, dim)\n",
    "    test_features = get_features(test_images, dim)\n",
    "\n",
    "    train_image_probs = np.product(feature_probs[np.arange(len(train_features))[:, np.newaxis], train_features], axis = 0)\n",
    "    train_preds = np.argmax(train_image_probs*base_rates, axis = 1)\n",
    "    train_acc = np.sum(train_preds == train_labels)/train_labels.shape[0]\n",
    "\n",
    "    test_image_probs = np.product(feature_probs[np.arange(len(test_features))[:, np.newaxis], test_features], axis = 0)\n",
    "    test_preds = np.argmax(test_image_probs* base_rates, axis = 1)\n",
    "    test_acc = np.sum(test_preds == test_labels)/test_labels.shape[0]\n",
    "\n",
    "    return feature_probs, train_acc, test_acc, t_end"
   ]
  },
  {
   "cell_type": "code",
   "execution_count": 10,
   "metadata": {},
   "outputs": [],
   "source": [
    "mean_acc = np.zeros((10, 2), dtype= np.float64)\n",
    "std = np.zeros((10, 2), dtype= np.float64)\n",
    "time_func = np.zeros((10, 1), dtype = np.float64)\n",
    "models = []\n",
    "iterations = 12\n",
    "\n",
    "for i in range(1, 11):\n",
    "    accuracy = np.zeros((iterations, 2), dtype= np.float64)\n",
    "    avg_time = np.zeros((iterations, 1), dtype= np.float64)\n",
    "\n",
    "    for iteration in range(0, iterations):\n",
    "\n",
    "        ammount = int(0.1 * i * train_images.shape[0] )\n",
    "        available_indices = np.random.choice(train_images.shape[0], ammount, replace = False)\n",
    "        available_images = train_images[available_indices]\n",
    "        available_labels = train_labels[available_indices]\n",
    "\n",
    "        model, train_acc, test_acc, t = main(available_images, available_labels, test_images, test_labels)\n",
    "        accuracy[iteration] = train_acc, test_acc\n",
    "        avg_time[iteration] = t\n",
    "\n",
    "        if i == 10:\n",
    "            models.append(model)\n",
    "\n",
    "    mean_acc[i-1] = np.mean(accuracy, axis = 0)\n",
    "    std[i-1] = np.std(accuracy, axis = 0)\n",
    "    time_func[i-1] = np.mean(avg_time)"
   ]
  },
  {
   "cell_type": "code",
   "execution_count": 11,
   "metadata": {},
   "outputs": [
    {
     "name": "stdout",
     "output_type": "stream",
     "text": [
      "Average results with all training data over 12 runs\n",
      "Accuracy: Train = 0.8728, Test = 0.8030\n",
      "StD: Train = 0.0, Test = 0.0; should be 0\n",
      "Runtime = 0.140 seconds\n"
     ]
    }
   ],
   "source": [
    "print(f\"Average results with all training data over {iterations} runs\")\n",
    "print(\"Accuracy: Train = {:.4f}, Test = {:.4f}\".format(mean_acc[-1,0], mean_acc[-1,1]))\n",
    "print(\"StD: Train = {:.1f}, Test = {:.1f}; should be 0\".format(std[-1,0], std[-1,1]))\n",
    "print(\"Runtime = {:.3f} seconds\".format(time_func[-1][0]))"
   ]
  },
  {
   "cell_type": "code",
   "execution_count": 12,
   "metadata": {},
   "outputs": [
    {
     "name": "stdout",
     "output_type": "stream",
     "text": [
      "[[0.95616667 0.77291667]\n",
      " [0.91475    0.79275   ]\n",
      " [0.90177778 0.79741667]\n",
      " [0.89475    0.80233333]\n",
      " [0.88566667 0.80208333]\n",
      " [0.88144444 0.80441667]\n",
      " [0.87966667 0.80275   ]\n",
      " [0.87539583 0.8045    ]\n",
      " [0.87440741 0.80441667]\n",
      " [0.8728     0.803     ]]\n"
     ]
    },
    {
     "data": {
      "text/plain": [
       "<matplotlib.legend.Legend at 0x1f6cd9c5070>"
      ]
     },
     "execution_count": 12,
     "metadata": {},
     "output_type": "execute_result"
    },
    {
     "data": {
      "image/png": "[encoded data removed]",
      "text/plain": [
       "<Figure size 720x360 with 1 Axes>"
      ]
     },
     "metadata": {
      "needs_background": "light"
     },
     "output_type": "display_data"
    }
   ],
   "source": [
    "plt.figure(figsize = (10, 5))\n",
    "x = np.linspace(.1*train_images.shape[0], train_images.shape[0], 10)\n",
    "plt.plot(x, mean_acc[:,0], label = \"Training Accuracy\")\n",
    "plt.plot(x, mean_acc[:,1], label = \"Test Accuracy\")\n",
    "print(mean_acc)\n",
    "plt.legend()"
   ]
  },
  {
   "cell_type": "code",
   "execution_count": 13,
   "metadata": {},
   "outputs": [
    {
     "name": "stdout",
     "output_type": "stream",
     "text": [
      "[[7.89338682e-03 1.62299021e-02]\n",
      " [5.40254570e-03 8.47668371e-03]\n",
      " [6.10605852e-03 8.47012725e-03]\n",
      " [6.13222363e-03 6.71234352e-03]\n",
      " [4.22952585e-03 3.01270458e-03]\n",
      " [4.64146635e-03 5.82320549e-03]\n",
      " [2.31185449e-03 6.17960355e-03]\n",
      " [3.18600183e-03 4.57347424e-03]\n",
      " [1.43682702e-03 3.04023939e-03]\n",
      " [1.11022302e-16 2.22044605e-16]]\n"
     ]
    },
    {
     "data": {
      "image/png": "[encoded data removed]",
      "text/plain": [
       "<Figure size 720x360 with 1 Axes>"
      ]
     },
     "metadata": {
      "needs_background": "light"
     },
     "output_type": "display_data"
    }
   ],
   "source": [
    "plt.figure(figsize = (10, 5))\n",
    "x = np.linspace(.1*train_images.shape[0], train_images.shape[0], 10)\n",
    "plt.plot(x, std[:,0], label = \"Training Standard Deviation\")\n",
    "plt.plot(x, std[:,1], label = \"Test Standard Deviation\")\n",
    "plt.legend()\n",
    "print(std)"
   ]
  },
  {
   "cell_type": "code",
   "execution_count": 14,
   "metadata": {},
   "outputs": [
    {
     "data": {
      "text/plain": [
       "<matplotlib.legend.Legend at 0x1f6cd94c6a0>"
      ]
     },
     "execution_count": 14,
     "metadata": {},
     "output_type": "execute_result"
    },
    {
     "data": {
      "image/png": "[encoded data removed]",
      "text/plain": [
       "<Figure size 720x360 with 1 Axes>"
      ]
     },
     "metadata": {
      "needs_background": "light"
     },
     "output_type": "display_data"
    }
   ],
   "source": [
    "plt.figure(figsize = (10, 5))\n",
    "x = np.linspace(.1*train_images.shape[0], train_images.shape[0], 10)\n",
    "plt.plot(x, time_func, label = \"Runtime\")\n",
    "plt.legend()"
   ]
  }
 ],
 "metadata": {
  "interpreter": {
   "hash": "21522df79a5f2f7576e87cd4971b777eef95bcbd6396c0a74d6cd78603fae977"
  },
  "kernelspec": {
   "display_name": "Python 3.8.10 64-bit ('pytorch': conda)",
   "language": "python",
   "name": "python3"
  },
  "language_info": {
   "codemirror_mode": {
    "name": "ipython",
    "version": 3
   },
   "file_extension": ".py",
   "mimetype": "text/x-python",
   "name": "python",
   "nbconvert_exporter": "python",
   "pygments_lexer": "ipython3",
   "version": "3.8.12"
  },
  "orig_nbformat": 4
 },
 "nbformat": 4,
 "nbformat_minor": 2
}
