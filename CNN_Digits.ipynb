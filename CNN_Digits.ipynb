{
 "cells": [
  {
   "cell_type": "code",
   "execution_count": 250,
   "metadata": {},
   "outputs": [],
   "source": [
    "import time\n",
    "\n",
    "from dataclasses import dataclass\n",
    "\n",
    "import numpy as np\n",
    "import torch\n",
    "import torch.nn as nn\n",
    "import torch.optim as optim\n",
    "import torch.nn.functional as F\n",
    "from torch.utils.data import Dataset\n",
    "\n",
    "from torchvision import transforms\n",
    "\n",
    "import matplotlib.pyplot as plt\n",
    "\n",
    "from parse import parse"
   ]
  },
  {
   "cell_type": "markdown",
   "metadata": {},
   "source": [
    "# CNN Model Architecture"
   ]
  },
  {
   "cell_type": "code",
   "execution_count": 251,
   "metadata": {},
   "outputs": [],
   "source": [
    "class MyModel(nn.Module):\n",
    "    def __init__(self):\n",
    "        super().__init__()\n",
    "\n",
    "        # convolution layers\n",
    "        self._body = nn.Sequential(\n",
    "            \n",
    "            # Size = 32,32\n",
    "\n",
    "            nn.Conv2d(in_channels = 1, out_channels = 6, kernel_size = 3, bias = False, padding = 1),\n",
    "            nn.BatchNorm2d(6),\n",
    "            nn.ReLU(inplace = True),\n",
    "\n",
    "            nn.Conv2d(in_channels = 6, out_channels = 12, kernel_size = 3, bias = False, padding = 1),\n",
    "            nn.BatchNorm2d(12),\n",
    "            nn.ReLU(inplace = True),\n",
    "\n",
    "            nn.MaxPool2d(kernel_size = 2),\n",
    "\n",
    "            # Size = 16, 16\n",
    "\n",
    "            nn.Conv2d(in_channels = 12, out_channels = 24, kernel_size = 3, bias = False, padding = 1),\n",
    "            nn.BatchNorm2d(24),\n",
    "            nn.ReLU(inplace = True),\n",
    "\n",
    "            nn.Conv2d(in_channels = 24, out_channels = 48, kernel_size = 3, bias = False, padding = 1),\n",
    "            nn.BatchNorm2d(48),\n",
    "            nn.ReLU(inplace = True),\n",
    "\n",
    "            nn.MaxPool2d(kernel_size = 2),\n",
    "\n",
    "            # Size = 8, 8\n",
    "\n",
    "            nn.Conv2d(in_channels = 48, out_channels = 96, kernel_size = 3, bias = False, padding = 1),\n",
    "            nn.BatchNorm2d(96),\n",
    "            nn.ReLU(inplace = True),\n",
    "\n",
    "            nn.Conv2d(in_channels = 96, out_channels = 144, kernel_size = 3, bias = False, padding = 1),\n",
    "            nn.BatchNorm2d(144),\n",
    "            nn.ReLU(inplace = True),\n",
    "\n",
    "            nn.MaxPool2d(kernel_size = 2),\n",
    "\n",
    "            # Size = 4, 4\n",
    "\n",
    "            nn.Conv2d(in_channels = 144, out_channels = 216, kernel_size = 3, bias = False, padding = 1),\n",
    "            nn.BatchNorm2d(216),\n",
    "            nn.ReLU(inplace = True),\n",
    "\n",
    "            nn.Conv2d(in_channels = 216, out_channels = 324, kernel_size = 3, bias = False, padding = 1),\n",
    "            nn.BatchNorm2d(324),\n",
    "            nn.ReLU(inplace = True),\n",
    "\n",
    "            nn.MaxPool2d(kernel_size = 2),\n",
    "\n",
    "            # Out = 2, 2\n",
    "        )\n",
    "\n",
    "        # Fully connected layers\n",
    "        self._head = nn.Sequential(\n",
    "            nn.Linear(in_features=324 * 2 * 2, out_features=432), \n",
    "            nn.ReLU(inplace=True),\n",
    "\n",
    "            nn.Linear(in_features=432, out_features=144), \n",
    "            nn.ReLU(inplace=True),\n",
    "\n",
    "            nn.Linear(in_features=144, out_features=72),\n",
    "            nn.ReLU(inplace=True),\n",
    "\n",
    "            nn.Linear(in_features=72, out_features=10)\n",
    "\n",
    "        )\n",
    "        \n",
    "    def forward(self, data):\n",
    "        data = self._body(data)\n",
    "        data = data.view(data.shape[0], -1)\n",
    "        data = self._head(data)\n",
    "\n",
    "        return data"
   ]
  },
  {
   "cell_type": "markdown",
   "metadata": {},
   "source": [
    "## Display Network Architecture"
   ]
  },
  {
   "cell_type": "code",
   "execution_count": 252,
   "metadata": {},
   "outputs": [
    {
     "name": "stdout",
     "output_type": "stream",
     "text": [
      "MyModel(\n",
      "  (_body): Sequential(\n",
      "    (0): Conv2d(1, 6, kernel_size=(3, 3), stride=(1, 1), padding=(1, 1), bias=False)\n",
      "    (1): BatchNorm2d(6, eps=1e-05, momentum=0.1, affine=True, track_running_stats=True)\n",
      "    (2): ReLU(inplace=True)\n",
      "    (3): Conv2d(6, 12, kernel_size=(3, 3), stride=(1, 1), padding=(1, 1), bias=False)\n",
      "    (4): BatchNorm2d(12, eps=1e-05, momentum=0.1, affine=True, track_running_stats=True)\n",
      "    (5): ReLU(inplace=True)\n",
      "    (6): MaxPool2d(kernel_size=2, stride=2, padding=0, dilation=1, ceil_mode=False)\n",
      "    (7): Conv2d(12, 24, kernel_size=(3, 3), stride=(1, 1), padding=(1, 1), bias=False)\n",
      "    (8): BatchNorm2d(24, eps=1e-05, momentum=0.1, affine=True, track_running_stats=True)\n",
      "    (9): ReLU(inplace=True)\n",
      "    (10): Conv2d(24, 48, kernel_size=(3, 3), stride=(1, 1), padding=(1, 1), bias=False)\n",
      "    (11): BatchNorm2d(48, eps=1e-05, momentum=0.1, affine=True, track_running_stats=True)\n",
      "    (12): ReLU(inplace=True)\n",
      "    (13): MaxPool2d(kernel_size=2, stride=2, padding=0, dilation=1, ceil_mode=False)\n",
      "    (14): Conv2d(48, 96, kernel_size=(3, 3), stride=(1, 1), padding=(1, 1), bias=False)\n",
      "    (15): BatchNorm2d(96, eps=1e-05, momentum=0.1, affine=True, track_running_stats=True)\n",
      "    (16): ReLU(inplace=True)\n",
      "    (17): Conv2d(96, 144, kernel_size=(3, 3), stride=(1, 1), padding=(1, 1), bias=False)\n",
      "    (18): BatchNorm2d(144, eps=1e-05, momentum=0.1, affine=True, track_running_stats=True)\n",
      "    (19): ReLU(inplace=True)\n",
      "    (20): MaxPool2d(kernel_size=2, stride=2, padding=0, dilation=1, ceil_mode=False)\n",
      "    (21): Conv2d(144, 216, kernel_size=(3, 3), stride=(1, 1), padding=(1, 1), bias=False)\n",
      "    (22): BatchNorm2d(216, eps=1e-05, momentum=0.1, affine=True, track_running_stats=True)\n",
      "    (23): ReLU(inplace=True)\n",
      "    (24): Conv2d(216, 324, kernel_size=(3, 3), stride=(1, 1), padding=(1, 1), bias=False)\n",
      "    (25): BatchNorm2d(324, eps=1e-05, momentum=0.1, affine=True, track_running_stats=True)\n",
      "    (26): ReLU(inplace=True)\n",
      "    (27): MaxPool2d(kernel_size=2, stride=2, padding=0, dilation=1, ceil_mode=False)\n",
      "  )\n",
      "  (_head): Sequential(\n",
      "    (0): Linear(in_features=1296, out_features=432, bias=True)\n",
      "    (1): ReLU(inplace=True)\n",
      "    (2): Linear(in_features=432, out_features=144, bias=True)\n",
      "    (3): ReLU(inplace=True)\n",
      "    (4): Linear(in_features=144, out_features=72, bias=True)\n",
      "    (5): ReLU(inplace=True)\n",
      "    (6): Linear(in_features=72, out_features=10, bias=True)\n",
      "  )\n",
      ")\n"
     ]
    }
   ],
   "source": [
    "my_model = MyModel()\n",
    "print(my_model)"
   ]
  },
  {
   "cell_type": "markdown",
   "metadata": {},
   "source": [
    "# Custom Dataset Class"
   ]
  },
  {
   "cell_type": "code",
   "execution_count": 253,
   "metadata": {},
   "outputs": [],
   "source": [
    "class DigitsDataset(Dataset):\n",
    "    def __init__(self, predict = 'train', percent = 1.0, transform = None):\n",
    "\n",
    "        # initialize the data dictionary\n",
    "        self.data_dict = {'image': [], 'label': []}\n",
    "\n",
    "        if predict.lower() == 'train':\n",
    "            \n",
    "            images, labels = parse('digitdata/trainingimages', 'digitdata/traininglabels', False)\n",
    "\n",
    "            # Take a random sample of the training data proportional to percent argument (percent = 1.0 means using all data)\n",
    "            ammount = int(percent * images.shape[0])\n",
    "            available_indices = np.random.choice(images.shape[0], ammount, replace = False)\n",
    "            available_labels = labels[available_indices]\n",
    "            available_images = images[available_indices]   \n",
    "\n",
    "            self.data_dict['label'] = torch.tensor(available_labels).long()\n",
    "            self.data_dict['image'] = torch.tensor(np.expand_dims(available_images, axis=1)).float()\n",
    "            \n",
    "\n",
    "        elif predict.lower() == 'val':\n",
    "            images, labels = parse('digitdata/validationimages', 'digitdata/validationlabels', False)\n",
    "            self.data_dict['label'] = torch.tensor(labels).long()\n",
    "            self.data_dict['image'] = torch.tensor(np.expand_dims(images, axis=1)).float()\n",
    "\n",
    "        elif predict.lower() == 'test':\n",
    "            images, labels = parse('digitdata/testimages', 'digitdata/testlabels', False)\n",
    "            self.data_dict['label'] = torch.tensor(labels).long()\n",
    "            self.data_dict['image'] = torch.tensor(np.expand_dims(images, axis=1)).float()\n",
    "            \n",
    "        self.classes = np.array([\"Not Face\", \"Face\"])\n",
    "\n",
    "        self.transform = transform\n",
    "        self.predict = predict\n",
    "\n",
    "\n",
    "    def __len__(self):\n",
    "\n",
    "        return len(self.data_dict['image'])\n",
    "\n",
    "\n",
    "    def __getitem__(self, idx):\n",
    "\n",
    "        image = self.data_dict['image'][idx]\n",
    "\n",
    "        if self.transform:\n",
    "            image = self.transform(image)\n",
    "\n",
    "        target = self.data_dict['label'][idx]\n",
    "\n",
    "        return image, target\n"
   ]
  },
  {
   "cell_type": "markdown",
   "metadata": {},
   "source": [
    "## Get DataLoaders for Training and Validation"
   ]
  },
  {
   "cell_type": "code",
   "execution_count": 266,
   "metadata": {},
   "outputs": [],
   "source": [
    "def get_data(batch_size, val = True, percent = 1.0):\n",
    "        \n",
    "    transform = transforms.Compose([transforms.Resize((32,32))])\n",
    "\n",
    "    train_dataset =  DigitsDataset(predict = 'train', percent = percent, transform = transform)\n",
    "\n",
    "    if val:\n",
    "        test_dataset =  DigitsDataset(predict = 'val', transform = transform)\n",
    "    else:\n",
    "        test_dataset =  DigitsDataset(predict = 'test', transform = transform)\n",
    "\n",
    "    train_loader = torch.utils.data.DataLoader(train_dataset, batch_size=batch_size, shuffle=True)\n",
    "    test_loader = torch.utils.data.DataLoader(test_dataset, batch_size=batch_size, shuffle=True)\n",
    "        \n",
    "    return train_loader, test_loader"
   ]
  },
  {
   "cell_type": "markdown",
   "metadata": {},
   "source": [
    "## Training Configuration"
   ]
  },
  {
   "cell_type": "code",
   "execution_count": 267,
   "metadata": {},
   "outputs": [],
   "source": [
    "@dataclass\n",
    "class TrainingConfiguration:\n",
    "    batch_size: int = 32 # amount of data to pass through the network at each forward-backward iteration\n",
    "    epochs: int = 6 # number of times the whole dataset will be passed through the network\n",
    "    learning_rate: float = 0.001 # determines the speed of network's weights update\n",
    "    val: bool = True # use validation or test data for validation (True means validation data will be used)\n",
    "    percent: float = 1.0 # How much of the training data to use for training\n",
    "    device: str = 'cuda' # Set defualt device"
   ]
  },
  {
   "cell_type": "markdown",
   "metadata": {},
   "source": [
    "# Training"
   ]
  },
  {
   "cell_type": "code",
   "execution_count": 268,
   "metadata": {},
   "outputs": [],
   "source": [
    "def train(train_config, model, optimizer, train_loader):\n",
    "    \n",
    "    model.train()\n",
    "    \n",
    "    # get accuracy\n",
    "    batch_acc = np.array([])\n",
    "        \n",
    "    for data, target in train_loader:\n",
    "        \n",
    "        target_index = target.clone()\n",
    "        data = data.to(train_config.device)\n",
    "        target = target.to(train_config.device)\n",
    "\n",
    "        # reset parameters gradient to zero\n",
    "        optimizer.zero_grad(set_to_none=True)\n",
    "        \n",
    "        # forward pass\n",
    "        output = model(data)\n",
    "        \n",
    "        # calculate loss function loss\n",
    "        loss = F.cross_entropy(output, target)\n",
    "        \n",
    "        # back propagation\n",
    "        loss.backward()\n",
    "        optimizer.step()\n",
    "        \n",
    "        # Get correct predictions from score and target label\n",
    "        prob = F.softmax(output, dim = 1)\n",
    "        pred = torch.max(prob.data, dim = 1)[1]  \n",
    "        correct = torch.sum(pred.cpu()== target_index)\n",
    "            \n",
    "        # Get accuracy\n",
    "        acc = float(correct / len(data))\n",
    "        \n",
    "        batch_acc = np.append(batch_acc, [acc])\n",
    "\n",
    "    epoch_acc = batch_acc.mean()\n",
    "    return epoch_acc"
   ]
  },
  {
   "cell_type": "markdown",
   "metadata": {},
   "source": [
    "# Validation"
   ]
  },
  {
   "cell_type": "code",
   "execution_count": 328,
   "metadata": {},
   "outputs": [],
   "source": [
    "def validate(train_config, model, test_loader):\n",
    "    model.eval()\n",
    "    correct = 0\n",
    "\n",
    "    with torch.no_grad():\n",
    "\n",
    "        for data, target in test_loader:\n",
    "            indx_target = target.clone()\n",
    "            data = data.to(train_config.device)\n",
    "            target = target.to(train_config.device)\n",
    "            \n",
    "            output = model(data)\n",
    "            \n",
    "            # Get correct predictions from score and target label\n",
    "            prob = F.softmax(output, dim=1)\n",
    "            pred = torch.max(prob.data, dim = 1)[1] \n",
    "            correct += torch.sum(pred.cpu() == indx_target)  \n",
    "        \n",
    "        accuracy = float(correct / len(test_loader.dataset))\n",
    "        \n",
    "    return accuracy"
   ]
  },
  {
   "cell_type": "markdown",
   "metadata": {},
   "source": [
    "# Main"
   ]
  },
  {
   "cell_type": "code",
   "execution_count": 270,
   "metadata": {},
   "outputs": [],
   "source": [
    "def main(training_configuration=TrainingConfiguration()):\n",
    "\n",
    "        torch.manual_seed(42)\n",
    "\n",
    "        # training_configuration\n",
    "        batch_size = training_configuration.batch_size\n",
    "        epochs = training_configuration.epochs\n",
    "        val = training_configuration.val\n",
    "        percent = training_configuration.percent\n",
    "        lr = training_configuration.learning_rate\n",
    "    \n",
    "        if torch.cuda.is_available():\n",
    "            device = \"cuda\"\n",
    "            torch.backends.cudnn_benchmark_enabled = True\n",
    "            torch.backends.cudnn.deterministic = True\n",
    "        else:\n",
    "            device = \"cpu\"\n",
    "\n",
    "        training_configuration = TrainingConfiguration(device=device)\n",
    "\n",
    "        # data loader\n",
    "        train_loader, test_loader = get_data(batch_size=batch_size, val=val, percent = percent)\n",
    "\n",
    "        # initiate model\n",
    "        model = MyModel()\n",
    "        model.to(training_configuration.device)\n",
    "\n",
    "        optimizer = optim.SGD(model.parameters(), lr=lr, momentum = 0.9)\n",
    "        \n",
    "        t_begin = time.time()\n",
    "        for _ in range(epochs):\n",
    "            train_acc = train(training_configuration, model, optimizer, train_loader)\n",
    "        t_end = time.time() - t_begin\n",
    "\n",
    "        test_acc = validate(training_configuration, model, test_loader)\n",
    "        \n",
    "        return model, train_acc, test_acc, time.time() - t_end"
   ]
  },
  {
   "cell_type": "markdown",
   "metadata": {},
   "source": [
    "## Train with Increasing Ammounts of Data"
   ]
  },
  {
   "cell_type": "code",
   "execution_count": 284,
   "metadata": {},
   "outputs": [
    {
     "name": "stdout",
     "output_type": "stream",
     "text": [
      "0.9958200636942676\n",
      "0.9599999785423279\n"
     ]
    }
   ],
   "source": [
    "model, train_acc, test_acc, t = main(training_configuration=TrainingConfiguration(percent = 1.0, val = False, epochs = 6))\n",
    "print(train_acc)\n",
    "print(test_acc)"
   ]
  },
  {
   "cell_type": "code",
   "execution_count": null,
   "metadata": {},
   "outputs": [],
   "source": [
    "mean_acc = np.zeros((10, 2), dtype= np.float64)\n",
    "std = np.zeros((10, 2), dtype= np.float64)\n",
    "time_func = np.zeros((10, 1), dtype = np.float64)\n",
    "models = []\n",
    "iterations = 12\n",
    "\n",
    "for i in range(1, 11):\n",
    "    accuracy = np.zeros((iterations, 2), dtype= np.float64)\n",
    "    avg_time = np.zeros((iterations, 1), dtype= np.float64)\n",
    "\n",
    "    for iteration in range(0, iterations):\n",
    "        model, train_acc, test_acc, t = main(TrainingConfiguration(percent = 0.1*i, val = False, epochs=8))\n",
    "        accuracy[iteration] = train_acc, test_acc\n",
    "        avg_time[iteration] = t\n",
    "        \n",
    "        if i == 10:\n",
    "            models.append(model)\n",
    "\n",
    "    mean_acc[i-1] = np.mean(accuracy, axis = 0)\n",
    "    std[i-1] = np.std(accuracy, axis = 0)\n",
    "    time_func[i-1] = np.mean(avg_time)\n",
    "\n",
    "model = models[np.argmax(accuracy[:,1])]\n"
   ]
  },
  {
   "cell_type": "code",
   "execution_count": 329,
   "metadata": {},
   "outputs": [
    {
     "name": "stdout",
     "output_type": "stream",
     "text": [
      "Average results with all training data over 12 runs\n",
      "Accuracy: Train = 0.9997, Test = 0.9658\n",
      "StD: Train = 0.000248, Test = 0.003105\n",
      "Runtime = 8.870 seconds\n"
     ]
    }
   ],
   "source": [
    "print(f\"Average results with all training data over {iterations} runs\")\n",
    "print(\"Accuracy: Train = {:.4f}, Test = {:.4f}\".format(mean_acc[-1,0], mean_acc[-1,1]))\n",
    "print(\"StD: Train = {:.6f}, Test = {:.6f}\".format(std[-1,0], std[-1,1]))\n",
    "print(\"Runtime = {:.3f} seconds\".format(time_func[-1][0]))"
   ]
  },
  {
   "cell_type": "code",
   "execution_count": 290,
   "metadata": {},
   "outputs": [
    {
     "data": {
      "text/plain": [
       "<matplotlib.legend.Legend at 0x20f15cf8bb0>"
      ]
     },
     "execution_count": 290,
     "metadata": {},
     "output_type": "execute_result"
    },
    {
     "data": {
      "image/png": "[encoded data removed]",
      "text/plain": [
       "<Figure size 720x360 with 1 Axes>"
      ]
     },
     "metadata": {
      "needs_background": "light"
     },
     "output_type": "display_data"
    }
   ],
   "source": [
    "plt.figure(figsize = (10, 5))\n",
    "x = np.linspace(1000, 5000, 10)\n",
    "plt.plot(x, mean_acc[:,0], label = \"Training Accuracy\")\n",
    "plt.plot(x, mean_acc[:,1], label = \"Test Accuracy\")\n",
    "plt.legend()"
   ]
  },
  {
   "cell_type": "code",
   "execution_count": 293,
   "metadata": {},
   "outputs": [
    {
     "data": {
      "text/plain": [
       "<matplotlib.legend.Legend at 0x20f1fb2b220>"
      ]
     },
     "execution_count": 293,
     "metadata": {},
     "output_type": "execute_result"
    },
    {
     "data": {
      "image/png": "[encoded data removed]",
      "text/plain": [
       "<Figure size 720x360 with 1 Axes>"
      ]
     },
     "metadata": {
      "needs_background": "light"
     },
     "output_type": "display_data"
    }
   ],
   "source": [
    "plt.figure(figsize = (10, 5))\n",
    "x = np.linspace(1000, 5000, 10)\n",
    "plt.plot(x, std[:,0], label = \"Training Standard Deviation\")\n",
    "plt.plot(x, std[:,1], label = \"Test Standard Deviation\")\n",
    "plt.legend()"
   ]
  },
  {
   "cell_type": "code",
   "execution_count": 294,
   "metadata": {},
   "outputs": [
    {
     "data": {
      "text/plain": [
       "<matplotlib.legend.Legend at 0x20f237e7f10>"
      ]
     },
     "execution_count": 294,
     "metadata": {},
     "output_type": "execute_result"
    },
    {
     "data": {
      "image/png": "[encoded data removed]",
      "text/plain": [
       "<Figure size 720x360 with 1 Axes>"
      ]
     },
     "metadata": {
      "needs_background": "light"
     },
     "output_type": "display_data"
    }
   ],
   "source": [
    "plt.figure(figsize = (10, 5))\n",
    "x = np.linspace(1000, 5000, 10)\n",
    "plt.plot(x, time_func, label = \"Runtime\")\n",
    "plt.legend()"
   ]
  },
  {
   "cell_type": "markdown",
   "metadata": {},
   "source": [
    "## Model Prediction"
   ]
  },
  {
   "cell_type": "code",
   "execution_count": 309,
   "metadata": {},
   "outputs": [],
   "source": [
    "def prediction(model, train_config, inp):\n",
    "    \n",
    "    model.to(train_config.device)\n",
    "    data = inp.to(train_config.device)\n",
    "\n",
    "    model.eval()\n",
    "    out = model(data)\n",
    "\n",
    "    probs = F.softmax(out,1)\n",
    "    confs = torch.max(probs.data, 1)[0]\n",
    "    pred_labels = torch.max(probs.data, 1)[1]\n",
    "    \n",
    "    return pred_labels.cpu(), confs.cpu()"
   ]
  },
  {
   "cell_type": "markdown",
   "metadata": {},
   "source": [
    "## Perform Inference on Sample Images"
   ]
  },
  {
   "cell_type": "code",
   "execution_count": 310,
   "metadata": {},
   "outputs": [
    {
     "name": "stdout",
     "output_type": "stream",
     "text": [
      "Predicted: 9 (0.99)| Truth: 9\n"
     ]
    },
    {
     "data": {
      "image/png": "[encoded data removed]",
      "text/plain": [
       "<Figure size 720x432 with 1 Axes>"
      ]
     },
     "metadata": {
      "needs_background": "light"
     },
     "output_type": "display_data"
    },
    {
     "name": "stdout",
     "output_type": "stream",
     "text": [
      "Predicted: 0 (0.99)| Truth: 0\n"
     ]
    },
    {
     "data": {
      "image/png": "[encoded data removed]",
      "text/plain": [
       "<Figure size 720x432 with 1 Axes>"
      ]
     },
     "metadata": {
      "needs_background": "light"
     },
     "output_type": "display_data"
    },
    {
     "name": "stdout",
     "output_type": "stream",
     "text": [
      "Predicted: 2 (0.99)| Truth: 2\n"
     ]
    },
    {
     "data": {
      "image/png": "[encoded data removed]",
      "text/plain": [
       "<Figure size 720x432 with 1 Axes>"
      ]
     },
     "metadata": {
      "needs_background": "light"
     },
     "output_type": "display_data"
    },
    {
     "name": "stdout",
     "output_type": "stream",
     "text": [
      "Predicted: 5 (0.97)| Truth: 5\n"
     ]
    },
    {
     "data": {
      "image/png": "[encoded data removed]",
      "text/plain": [
       "<Figure size 720x432 with 1 Axes>"
      ]
     },
     "metadata": {
      "needs_background": "light"
     },
     "output_type": "display_data"
    },
    {
     "name": "stdout",
     "output_type": "stream",
     "text": [
      "Predicted: 1 (0.99)| Truth: 1\n"
     ]
    },
    {
     "data": {
      "image/png": "[encoded data removed]",
      "text/plain": [
       "<Figure size 720x432 with 1 Axes>"
      ]
     },
     "metadata": {
      "needs_background": "light"
     },
     "output_type": "display_data"
    }
   ],
   "source": [
    "batch_size = 5\n",
    "train_config = TrainingConfiguration()\n",
    "\n",
    "if torch.cuda.is_available():\n",
    "    train_config.device = \"cuda\"\n",
    "else:\n",
    "    train_config.device = \"cpu\"\n",
    "\n",
    "# load testdata with image transformation\n",
    "transform = transforms.Compose([transforms.Resize((32,32))])\n",
    "\n",
    "test_loader = torch.utils.data.DataLoader( DigitsDataset(predict = 'test', transform = transform), batch_size=5, shuffle = False)\n",
    "\n",
    "display_loader = torch.utils.data.DataLoader( DigitsDataset(predict = 'test', transform = None), batch_size=5, shuffle = False)\n",
    "\n",
    "for data, label in test_loader:\n",
    "    # pass the loaded model\n",
    "    preds, probs = prediction(model, train_config, data)\n",
    "    break\n",
    "\n",
    "for data, label in display_loader:\n",
    "    for index, img in enumerate(data):\n",
    "        print(f\"Predicted: {preds[index]} ({float(int(probs[index]*100))/100})| Truth: {label[index]}\".format())\n",
    "        plt.imshow(img.cpu()[0]) \n",
    "        plt.show()\n",
    "    break"
   ]
  }
 ],
 "metadata": {
  "interpreter": {
   "hash": "21522df79a5f2f7576e87cd4971b777eef95bcbd6396c0a74d6cd78603fae977"
  },
  "kernelspec": {
   "display_name": "Python 3.8.10 64-bit ('pytorch': conda)",
   "language": "python",
   "name": "python3"
  },
  "language_info": {
   "codemirror_mode": {
    "name": "ipython",
    "version": 3
   },
   "file_extension": ".py",
   "mimetype": "text/x-python",
   "name": "python",
   "nbconvert_exporter": "python",
   "pygments_lexer": "ipython3",
   "version": "3.8.10"
  },
  "orig_nbformat": 4
 },
 "nbformat": 4,
 "nbformat_minor": 2
}
