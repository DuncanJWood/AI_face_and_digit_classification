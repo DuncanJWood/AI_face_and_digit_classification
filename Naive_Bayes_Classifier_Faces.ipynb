{
 "cells": [
  {
   "cell_type": "code",
   "execution_count": 492,
   "metadata": {},
   "outputs": [],
   "source": [
    "import numpy as np\n",
    "import matplotlib.pyplot as plt\n",
    "from parse import parse\n",
    "import cv2"
   ]
  },
  {
   "cell_type": "code",
   "execution_count": 1078,
   "metadata": {},
   "outputs": [],
   "source": [
    "train_images, train_labels = parse('facedata/facedatatrain', 'facedata/facedatatrainlabels', False)\n",
    "validation_images, validation_labels = parse('facedata/facedatavalidation', 'facedata/facedatavalidationlabels', False)\n",
    "test_images, test_labels = parse('facedata/facedatatest', 'facedata/facedatatestlabels', False)"
   ]
  },
  {
   "cell_type": "code",
   "execution_count": 235,
   "metadata": {},
   "outputs": [
    {
     "name": "stdout",
     "output_type": "stream",
     "text": [
      "[0.51884701 0.48115299]\n"
     ]
    }
   ],
   "source": [
    "base_rate_true = np.bincount(train_labels)/train_labels.shape[0]\n",
    "print(base_rate_true)"
   ]
  },
  {
   "cell_type": "code",
   "execution_count": 782,
   "metadata": {},
   "outputs": [],
   "source": [
    "kernel = np.ones((7,6))\n",
    "images = np.swapaxes(np.swapaxes(train_images.astype(np.float64), 0, 2), 0, 1)\n",
    "dst = cv2.filter2D(src = images, ddepth = -1, kernel = kernel, anchor = (0,0))\n",
    "zones = dst[::7,::6,:]"
   ]
  },
  {
   "cell_type": "code",
   "execution_count": null,
   "metadata": {},
   "outputs": [],
   "source": [
    "a = 0\n",
    "plt.imshow(train_images[a,:,:])\n",
    "plt.show()\n",
    "plt.imshow(dst[:,:,a])\n",
    "plt.show()\n",
    "plt.imshow(dst[::7,::6,a])\n",
    "plt.show()\n",
    "plt.imshow(zones[:,:,a])"
   ]
  },
  {
   "cell_type": "code",
   "execution_count": 1091,
   "metadata": {},
   "outputs": [],
   "source": [
    "def get_feature_probs(images = train_images, labels = train_labels, dim = (7,6), stride = -1, kernel = -1):\n",
    "\n",
    "    labels = labels.astype(bool)\n",
    "\n",
    "    if stride == -1:\n",
    "        stride = dim\n",
    "\n",
    "    if kernel == -1:\n",
    "        kernel = np.ones(dim)\n",
    "\n",
    "    pixel_quant = dim[0]*dim[1] + 1\n",
    "\n",
    "    kernel = np.ones(dim)\n",
    "    images = np.swapaxes(np.swapaxes(images.astype(np.float64), 0, 2), 0, 1)\n",
    "    dst = cv2.filter2D(src = images, ddepth = -1, kernel = kernel, anchor = (0,0))\n",
    "\n",
    "    zones = dst[::stride[0],::stride[1],:].astype(int)\n",
    "    zones = np.reshape(zones, (zones.shape[0]*zones.shape[1], zones.shape[2]))\n",
    "\n",
    "    zone_probs = np.zeros((zones.shape[0], pixel_quant, 2))\n",
    "\n",
    "    for i, zone in enumerate(zones):\n",
    "        quant_false = np.bincount(zone[np.invert(labels)])\n",
    "        quant_false = np.pad(quant_false, (0, pixel_quant - quant_false.shape[0]), constant_values = 0)\n",
    "        quant_false = quant_false/np.sum(quant_false)\n",
    "\n",
    "        quant_true = np.bincount(zone[labels])\n",
    "        quant_true = np.pad(quant_true, (0, pixel_quant - quant_true.shape[0]), constant_values = 0)\n",
    "        quant_true = quant_true/np.sum(quant_true)\n",
    "\n",
    "        zone_probs[i, :, 0], zone_probs[i, :, 1] = quant_false, quant_true\n",
    "\n",
    "        zeros = zone_probs == 0\n",
    "        zone_probs[zeros] = 0.000001\n",
    "\n",
    "    return zone_probs"
   ]
  },
  {
   "cell_type": "code",
   "execution_count": 1092,
   "metadata": {},
   "outputs": [],
   "source": [
    "def get_features(images = train_images, dim = (7,3), stride = -1, kernel = -1):\n",
    "    if stride == -1:\n",
    "        stride = dim\n",
    "\n",
    "    if kernel == -1:\n",
    "        kernel = np.ones(dim)\n",
    "\n",
    "    pixel_quant = dim[0]*dim[1] + 1\n",
    "\n",
    "    kernel = np.ones(dim)\n",
    "    images = np.swapaxes(np.swapaxes(images.astype(np.float64), 0, 2), 0, 1)\n",
    "    dst = cv2.filter2D(src = images, ddepth = -1, kernel = kernel, anchor = (0,0))\n",
    "\n",
    "    zones = dst[::stride[0],::stride[1],:].astype(int)\n",
    "    zones = np.reshape(zones, (zones.shape[0]*zones.shape[1], zones.shape[2]))\n",
    "    #zones = np.swapaxes(zones, 0, 1)\n",
    "\n",
    "    return zones"
   ]
  },
  {
   "cell_type": "code",
   "execution_count": 1093,
   "metadata": {},
   "outputs": [],
   "source": [
    "def predict(train_images = train_images, train_labels = train_labels, val_images = validation_images, val_labels = validation_labels):\n",
    "    dim = (7,3)\n",
    "\n",
    "    base_rate_true = np.bincount(train_labels)/train_labels.shape[0]\n",
    "\n",
    "    feature_probs = get_feature_probs(train_images, train_labels, dim, )\n",
    "    train_features = get_features(train_images, dim)\n",
    "    val_features = get_features(val_images, dim)\n",
    "\n",
    "    train_image_probs = np.product(feature_probs[np.arange(len(train_features))[:, np.newaxis], train_features], axis = 0)\n",
    "    train_preds = train_image_probs[:,0]*base_rate_true[0] < train_image_probs[:,1]*base_rate_true[1]\n",
    "    train_acc = np.sum(train_preds == train_labels)/train_labels.shape[0]\n",
    "\n",
    "    val_image_probs = np.product(feature_probs[np.arange(len(val_features))[:, np.newaxis], val_features], axis = 0)\n",
    "    val_preds = val_image_probs[:,0]*base_rate_true[0] < val_image_probs[:,1]*base_rate_true[1]\n",
    "    val_acc = np.sum(val_preds == val_labels)/val_labels.shape[0]\n",
    "\n",
    "    return train_acc, val_acc\n"
   ]
  },
  {
   "cell_type": "code",
   "execution_count": 1103,
   "metadata": {},
   "outputs": [
    {
     "name": "stdout",
     "output_type": "stream",
     "text": [
      "[0.98891353 0.94352159]\n"
     ]
    }
   ],
   "source": [
    "accuracy = np.zeros((10, 2), dtype= np.float64)\n",
    "for i in range(1, 11):\n",
    "    ammount = int(0.1 * i * train_images.shape[0] )\n",
    "    available_indices = np.random.choice(train_images.shape[0], ammount, replace = False)\n",
    "    available_images = train_images[available_indices]\n",
    "    available_labels = train_labels[available_indices]\n",
    "    accuracy[i-1] = np.array(predict(available_images, available_labels, validation_images, validation_labels))\n",
    "print(accuracy[-1,:])"
   ]
  },
  {
   "cell_type": "code",
   "execution_count": 1104,
   "metadata": {},
   "outputs": [
    {
     "data": {
      "text/plain": [
       "<matplotlib.legend.Legend at 0x20e2904cbe0>"
      ]
     },
     "execution_count": 1104,
     "metadata": {},
     "output_type": "execute_result"
    },
    {
     "data": {
      "image/png": "[encoded data removed]",
      "text/plain": [
       "<Figure size 720x360 with 1 Axes>"
      ]
     },
     "metadata": {
      "needs_background": "light"
     },
     "output_type": "display_data"
    }
   ],
   "source": [
    "plt.figure(figsize = (10, 5))\n",
    "x = np.linspace(10, 100, 10)\n",
    "plt.plot(x, accuracy[:,0], label = \"Training Accuracy\")\n",
    "plt.plot(x, accuracy[:,1], label = \"Validation Accuracy\")\n",
    "plt.legend()"
   ]
  }
 ],
 "metadata": {
  "interpreter": {
   "hash": "21522df79a5f2f7576e87cd4971b777eef95bcbd6396c0a74d6cd78603fae977"
  },
  "kernelspec": {
   "display_name": "Python 3.8.10 64-bit ('pytorch': conda)",
   "language": "python",
   "name": "python3"
  },
  "language_info": {
   "codemirror_mode": {
    "name": "ipython",
    "version": 3
   },
   "file_extension": ".py",
   "mimetype": "text/x-python",
   "name": "python",
   "nbconvert_exporter": "python",
   "pygments_lexer": "ipython3",
   "version": "3.8.10"
  },
  "orig_nbformat": 4
 },
 "nbformat": 4,
 "nbformat_minor": 2
}
