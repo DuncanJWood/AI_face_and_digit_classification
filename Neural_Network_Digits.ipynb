{
 "cells": [
  {
   "cell_type": "code",
   "execution_count": 1,
   "metadata": {},
   "outputs": [],
   "source": [
    "import os\n",
    "import time\n",
    "\n",
    "from typing import Iterable\n",
    "from dataclasses import dataclass\n",
    "\n",
    "import numpy as np\n",
    "import torch\n",
    "import torch.nn as nn\n",
    "import torch.optim as optim\n",
    "import torch.nn.functional as F\n",
    "from torch.utils.data import Dataset\n",
    "\n",
    "from torchvision import datasets, transforms\n",
    "import torchvision\n",
    "\n",
    "import matplotlib.pyplot as plt\n",
    "\n",
    "from parse import parse"
   ]
  },
  {
   "cell_type": "code",
   "execution_count": 2,
   "metadata": {},
   "outputs": [],
   "source": [
    "required_training = True"
   ]
  },
  {
   "cell_type": "markdown",
   "metadata": {},
   "source": [
    "# CNN Model Architecture"
   ]
  },
  {
   "cell_type": "code",
   "execution_count": 24,
   "metadata": {},
   "outputs": [],
   "source": [
    "class MyModel(nn.Module):\n",
    "    def __init__(self):\n",
    "        super().__init__()\n",
    "\n",
    "        # convolution layers\n",
    "        self._body = nn.Sequential(\n",
    "            \n",
    "            # In = 64,64\n",
    "            nn.Conv2d(in_channels = 1, out_channels = 6, kernel_size = 3, bias = False, padding = 1),\n",
    "            nn.BatchNorm2d(6),\n",
    "            # ReLU activation\n",
    "            nn.ReLU(inplace = True),\n",
    "\n",
    "            nn.Conv2d(in_channels = 6, out_channels = 12, kernel_size = 3, bias = False, padding = 1),\n",
    "            nn.BatchNorm2d(12),\n",
    "            # ReLU activation\n",
    "            nn.ReLU(inplace = True),\n",
    "\n",
    "            nn.MaxPool2d(kernel_size = 2),\n",
    "            # Out = 32, 32\n",
    "\n",
    "\n",
    "            # In = 32, 32\n",
    "            nn.Conv2d(in_channels = 12, out_channels = 24, kernel_size = 3, bias = False, padding = 1),\n",
    "            nn.BatchNorm2d(24),\n",
    "            nn.ReLU(inplace = True),\n",
    "\n",
    "            nn.Conv2d(in_channels = 24, out_channels = 48, kernel_size = 3, bias = False, padding = 1),\n",
    "            nn.BatchNorm2d(48),\n",
    "            nn.ReLU(inplace = True),\n",
    "\n",
    "            nn.MaxPool2d(kernel_size = 2),\n",
    "            #  Out = 16, 16\n",
    "            \n",
    "\n",
    "            # In = 16,16\n",
    "            nn.Conv2d(in_channels = 48, out_channels = 96, kernel_size = 3, bias = False, padding = 1),\n",
    "            nn.BatchNorm2d(96),\n",
    "            nn.ReLU(inplace = True),\n",
    "\n",
    "            nn.Conv2d(in_channels = 96, out_channels = 144, kernel_size = 3, bias = False, padding = 1),\n",
    "            nn.BatchNorm2d(144),\n",
    "            nn.ReLU(inplace = True),\n",
    "\n",
    "            nn.MaxPool2d(kernel_size = 2),\n",
    "            #  Out = 8, 8\n",
    "\n",
    "            # In = 8, 8\n",
    "            nn.Conv2d(in_channels = 144, out_channels = 216, kernel_size = 3, bias = False, padding = 1),\n",
    "            nn.BatchNorm2d(216),\n",
    "            nn.ReLU(inplace = True),\n",
    "\n",
    "            nn.Conv2d(in_channels = 216, out_channels = 324, kernel_size = 3, bias = False, padding = 1),\n",
    "            nn.BatchNorm2d(324),\n",
    "            nn.ReLU(inplace = True),\n",
    "\n",
    "            nn.MaxPool2d(kernel_size = 2),\n",
    "            # Out = 4, 4\n",
    "        )\n",
    "\n",
    "        # Fully connected layers\n",
    "        self._head = nn.Sequential(\n",
    "            # First fully connected layer\n",
    "            # in_features = total number of weights in last conv layer = 16 * 5 * 5\n",
    "            # nn.Linear(in_features=18 * 14 * 14, out_features=120), \n",
    "            nn.Linear(in_features=324 * 2 * 2, out_features=432), \n",
    "\n",
    "            # ReLU activation\n",
    "            nn.ReLU(inplace=True),\n",
    "\n",
    "            # second fully connected layer\n",
    "            # in_features = output of last linear layer = 120 \n",
    "            nn.Linear(in_features=432, out_features=144), \n",
    "\n",
    "            # ReLU activation\n",
    "            nn.ReLU(inplace=True),\n",
    "\n",
    "            # third fully connected layer\n",
    "            nn.Linear(in_features=144, out_features=72), \n",
    "\n",
    "            # ReLU activation\n",
    "            nn.ReLU(inplace=True),\n",
    "\n",
    "            # Third fully connected layer which is also output layer\n",
    "            nn.Linear(in_features=72, out_features=10)\n",
    "\n",
    "        )\n",
    "        \n",
    "    def forward(self, x):\n",
    "        # apply feature extractor\n",
    "        x = self._body(x)\n",
    "        \n",
    "        # flatten the output of conv layers\n",
    "        # dimension should be batch_size * number_of weight_in_last conv_layer\n",
    "        x = x.view(x.size()[0], -1)\n",
    "\n",
    "        x = self._head(x)\n",
    "\n",
    "        return x"
   ]
  },
  {
   "cell_type": "markdown",
   "metadata": {},
   "source": [
    "## Display The Network"
   ]
  },
  {
   "cell_type": "code",
   "execution_count": 25,
   "metadata": {},
   "outputs": [
    {
     "name": "stdout",
     "output_type": "stream",
     "text": [
      "MyModel(\n",
      "  (_body): Sequential(\n",
      "    (0): Conv2d(1, 6, kernel_size=(3, 3), stride=(1, 1), padding=(1, 1), bias=False)\n",
      "    (1): BatchNorm2d(6, eps=1e-05, momentum=0.1, affine=True, track_running_stats=True)\n",
      "    (2): ReLU(inplace=True)\n",
      "    (3): Conv2d(6, 12, kernel_size=(3, 3), stride=(1, 1), padding=(1, 1), bias=False)\n",
      "    (4): BatchNorm2d(12, eps=1e-05, momentum=0.1, affine=True, track_running_stats=True)\n",
      "    (5): ReLU(inplace=True)\n",
      "    (6): MaxPool2d(kernel_size=2, stride=2, padding=0, dilation=1, ceil_mode=False)\n",
      "    (7): Conv2d(12, 24, kernel_size=(3, 3), stride=(1, 1), padding=(1, 1), bias=False)\n",
      "    (8): BatchNorm2d(24, eps=1e-05, momentum=0.1, affine=True, track_running_stats=True)\n",
      "    (9): ReLU(inplace=True)\n",
      "    (10): Conv2d(24, 48, kernel_size=(3, 3), stride=(1, 1), padding=(1, 1), bias=False)\n",
      "    (11): BatchNorm2d(48, eps=1e-05, momentum=0.1, affine=True, track_running_stats=True)\n",
      "    (12): ReLU(inplace=True)\n",
      "    (13): MaxPool2d(kernel_size=2, stride=2, padding=0, dilation=1, ceil_mode=False)\n",
      "    (14): Conv2d(48, 96, kernel_size=(3, 3), stride=(1, 1), padding=(1, 1), bias=False)\n",
      "    (15): BatchNorm2d(96, eps=1e-05, momentum=0.1, affine=True, track_running_stats=True)\n",
      "    (16): ReLU(inplace=True)\n",
      "    (17): Conv2d(96, 144, kernel_size=(3, 3), stride=(1, 1), padding=(1, 1), bias=False)\n",
      "    (18): BatchNorm2d(144, eps=1e-05, momentum=0.1, affine=True, track_running_stats=True)\n",
      "    (19): ReLU(inplace=True)\n",
      "    (20): MaxPool2d(kernel_size=2, stride=2, padding=0, dilation=1, ceil_mode=False)\n",
      "    (21): Conv2d(144, 216, kernel_size=(3, 3), stride=(1, 1), padding=(1, 1), bias=False)\n",
      "    (22): BatchNorm2d(216, eps=1e-05, momentum=0.1, affine=True, track_running_stats=True)\n",
      "    (23): ReLU(inplace=True)\n",
      "    (24): Conv2d(216, 324, kernel_size=(3, 3), stride=(1, 1), padding=(1, 1), bias=False)\n",
      "    (25): BatchNorm2d(324, eps=1e-05, momentum=0.1, affine=True, track_running_stats=True)\n",
      "    (26): ReLU(inplace=True)\n",
      "    (27): MaxPool2d(kernel_size=2, stride=2, padding=0, dilation=1, ceil_mode=False)\n",
      "  )\n",
      "  (_head): Sequential(\n",
      "    (0): Linear(in_features=1296, out_features=432, bias=True)\n",
      "    (1): ReLU(inplace=True)\n",
      "    (2): Linear(in_features=432, out_features=144, bias=True)\n",
      "    (3): ReLU(inplace=True)\n",
      "    (4): Linear(in_features=144, out_features=72, bias=True)\n",
      "    (5): ReLU(inplace=True)\n",
      "    (6): Linear(in_features=72, out_features=10, bias=True)\n",
      "  )\n",
      ")\n"
     ]
    }
   ],
   "source": [
    "# 2) DISPLAY THE NETWORK\n",
    "my_model = MyModel()\n",
    "print(my_model)\n",
    "\n",
    "# for index, layer in enumerate(my_model.features):\n",
    "#     filter = layer.weight.data.clone()"
   ]
  },
  {
   "cell_type": "markdown",
   "metadata": {},
   "source": [
    "# Get Data"
   ]
  },
  {
   "cell_type": "code",
   "execution_count": 26,
   "metadata": {},
   "outputs": [],
   "source": [
    "class DigitsDataset(Dataset):\n",
    "    def __init__(self, predict = 'train', transform = None):\n",
    "        \"\"\"\n",
    "        init method of the class.\n",
    "\n",
    "        Parameters:\n",
    "\n",
    "        predict (string): whether to get train, val, or test data\n",
    "        transform (method): method that will take PIL image and transform it.\n",
    "\n",
    "        \"\"\"\n",
    "        # initialize the data dictionary\n",
    "        self.data_dict = {\n",
    "            'image': [],\n",
    "            'label': []\n",
    "        }\n",
    "\n",
    "        if predict.lower() == 'train':\n",
    "            images, labels = parse('digitdata/trainingimages', 'digitdata/traininglabels', False)\n",
    "            self.data_dict['label'] = torch.tensor(labels).long()\n",
    "            self.data_dict['image'] = torch.tensor(np.expand_dims(images, axis=1)).float().cuda()\n",
    "\n",
    "        elif predict.lower() == 'val':\n",
    "            images, labels = parse('digitdata/validationimages', 'digitdata/validationlabels', False)\n",
    "            self.data_dict['label'] = torch.tensor(labels).long()\n",
    "            self.data_dict['image'] = torch.tensor(np.expand_dims(images, axis=1)).float().cuda()\n",
    "\n",
    "        elif predict.lower() == 'test':\n",
    "            images, labels = parse('digitdata/testimages', 'digitdata/testlabels', False)\n",
    "            self.data_dict['label'] = torch.tensor(labels).long()\n",
    "            self.data_dict['image'] = torch.tensor(np.expand_dims(images, axis=1)).float().cuda()\n",
    "            \n",
    "        self.classes = np.array([\"Not Face\", \"Face\"])\n",
    "\n",
    "        self.transform = transform\n",
    "        self.predict = predict\n",
    "\n",
    "    def __len__(self):\n",
    "        \"\"\"\n",
    "        return length of the dataset\n",
    "        \"\"\"\n",
    "        return len(self.data_dict['image'])\n",
    "\n",
    "\n",
    "    def __getitem__(self, idx):\n",
    "        \"\"\"\n",
    "        For given index, return images with resize and preprocessing.\n",
    "        \"\"\"\n",
    "        # breakpoint()\n",
    "        image = self.data_dict['image'][idx]\n",
    "        # breakpoint()\n",
    "        if self.transform:\n",
    "            image = self.transform(image)\n",
    "        target = self.data_dict['label'][idx]\n",
    "        return image, target\n",
    "\n",
    "    def name(self, label):\n",
    "        \"\"\"\n",
    "        class label to common name mapping\n",
    "        \"\"\"\n",
    "\n",
    "        return self.classes[label]\n"
   ]
  },
  {
   "cell_type": "code",
   "execution_count": 41,
   "metadata": {},
   "outputs": [],
   "source": [
    "def get_data(batch_size, val = True, transform = None, num_workers=1):\n",
    "        \n",
    "    if transform:\n",
    "        transform = transforms.Compose([\n",
    "            # this re-scale image tensor values between 0-1. image_tensor /= 255\n",
    "            transforms.Resize(32),\n",
    "            # subtract mean and divide by variance.\n",
    "            # transforms.Normalize(mean, std)\n",
    "        ])\n",
    "    else:\n",
    "        transform = None\n",
    "    \n",
    "    train_dataset =  DigitsDataset('train', transform)\n",
    "    if val:\n",
    "        test_dataset =  DigitsDataset('val', transform)\n",
    "    else:\n",
    "        test_dataset =  DigitsDataset('test', transform)\n",
    "\n",
    "    # train dataloader\n",
    "    train_loader = torch.utils.data.DataLoader(\n",
    "        train_dataset,\n",
    "        batch_size=batch_size,\n",
    "        shuffle=True,\n",
    "    )\n",
    " \n",
    "    # test dataloader\n",
    "    test_loader = torch.utils.data.DataLoader(\n",
    "        test_dataset,\n",
    "        batch_size=batch_size,\n",
    "        shuffle=True,\n",
    "    )\n",
    "        \n",
    "    return train_loader, test_loader"
   ]
  },
  {
   "cell_type": "markdown",
   "metadata": {},
   "source": [
    "## System Configuration"
   ]
  },
  {
   "cell_type": "code",
   "execution_count": 28,
   "metadata": {},
   "outputs": [],
   "source": [
    "@dataclass\n",
    "class SystemConfiguration:\n",
    "    '''\n",
    "    Describes the common system setting needed for reproducible training\n",
    "    '''\n",
    "    seed: int = 42  # seed number to set the state of all random number generators\n",
    "    cudnn_benchmark_enabled: bool = True  # enable CuDNN benchmark for the sake of performance\n",
    "    cudnn_deterministic: bool = True  # make cudnn deterministic (reproducible training)\n"
   ]
  },
  {
   "cell_type": "markdown",
   "metadata": {},
   "source": [
    "## Training Configuration"
   ]
  },
  {
   "cell_type": "code",
   "execution_count": 29,
   "metadata": {},
   "outputs": [],
   "source": [
    "@dataclass\n",
    "class TrainingConfiguration:\n",
    "    '''\n",
    "    Describes configuration of the training process\n",
    "    '''\n",
    "    batch_size: int = 32 # amount of data to pass through the network at each forward-backward iteration\n",
    "    epochs_count: int = 10  # number of times the whole dataset will be passed through the network\n",
    "    learning_rate: float = 0.001  # determines the speed of network's weights update\n",
    "        \n",
    "    log_interval: int = 100  # how many batches to wait between logging training status\n",
    "    test_interval: int = 1 # how many epochs to wait before another test. Set to 1 to get val loss at each epoch\n",
    "    data_root: str = \"../resource/lib/publicdata/images\"  # folder to save data\n",
    "    val: bool = True\n",
    "    num_workers: int = 10  # number of concurrent processes using to prepare data\n",
    "    device: str = 'cuda'  # device to use for training.\n",
    "    # update changed parameters in below coding block.\n",
    "    # Please do not change \"data_root\" \n",
    "    \n",
    "    # learning_rate = 0.001\n",
    "    # test_interval = 1\n",
    "    # batch_size = 64\n",
    "    # epochs_count = 2"
   ]
  },
  {
   "cell_type": "markdown",
   "metadata": {},
   "source": [
    "## System Setup"
   ]
  },
  {
   "cell_type": "code",
   "execution_count": 30,
   "metadata": {},
   "outputs": [],
   "source": [
    "def setup_system(system_config: SystemConfiguration) -> None:\n",
    "    torch.manual_seed(system_config.seed)\n",
    "    if torch.cuda.is_available():\n",
    "        torch.backends.cudnn_benchmark_enabled = system_config.cudnn_benchmark_enabled\n",
    "        torch.backends.cudnn.deterministic = system_config.cudnn_deterministic"
   ]
  },
  {
   "cell_type": "markdown",
   "metadata": {},
   "source": [
    "# Training"
   ]
  },
  {
   "cell_type": "code",
   "execution_count": 55,
   "metadata": {},
   "outputs": [],
   "source": [
    "def train(\n",
    "    train_config: TrainingConfiguration, model: nn.Module, optimizer: torch.optim.Optimizer,\n",
    "    train_loader: torch.utils.data.DataLoader, epoch_idx: int\n",
    ") -> None:\n",
    "    \n",
    "    # change model in training mood\n",
    "    model.train()\n",
    "    \n",
    "    # to get batch loss\n",
    "    batch_loss = np.array([])\n",
    "    \n",
    "    # to get batch accuracy\n",
    "    batch_acc = np.array([])\n",
    "        \n",
    "    for batch_idx, (data, target) in enumerate(train_loader):\n",
    "        \n",
    "        # clone target\n",
    "        indx_target = target.clone()\n",
    "        # send data to device (its is medatory if GPU has to be used)\n",
    "        data = data.to(train_config.device)\n",
    "        # send target to device\n",
    "        target = target.to(train_config.device)\n",
    "\n",
    "        # reset parameters gradient to zero\n",
    "        optimizer.zero_grad(set_to_none=True)\n",
    "        \n",
    "        # forward pass to the model\n",
    "        output = model(data)\n",
    "        \n",
    "        # cross entropy loss\n",
    "        loss = F.cross_entropy(output, target)\n",
    "        \n",
    "        # find gradients w.r.t training parameters\n",
    "        loss.backward()\n",
    "        # Update parameters using gardients\n",
    "        optimizer.step()\n",
    "        \n",
    "        batch_loss = np.append(batch_loss, [loss.item()])\n",
    "        \n",
    "        # Score to probability using softmax\n",
    "        prob = F.softmax(output, dim=1)\n",
    "            \n",
    "        # get the index of the max probability\n",
    "        pred = prob.data.max(dim=1)[1]  \n",
    "                        \n",
    "        # correct prediction\n",
    "        correct = pred.cpu().eq(indx_target).sum()\n",
    "            \n",
    "        # accuracy\n",
    "        acc = float(correct) / float(len(data))\n",
    "        \n",
    "        batch_acc = np.append(batch_acc, [acc])\n",
    "\n",
    "        if batch_idx % train_config.log_interval == 0 and batch_idx > 0:              \n",
    "            print(\n",
    "                'Train Epoch: {} [{}/{}] Loss: {:.6f} Acc: {:.4f}'.format(\n",
    "                    epoch_idx, batch_idx * len(data), len(train_loader.dataset), loss.item(), acc\n",
    "                )\n",
    "            )\n",
    "            \n",
    "    epoch_loss = batch_loss.mean()\n",
    "    epoch_acc = batch_acc.mean()\n",
    "    return epoch_loss, epoch_acc\n"
   ]
  },
  {
   "cell_type": "markdown",
   "metadata": {},
   "source": [
    "# Validation"
   ]
  },
  {
   "cell_type": "code",
   "execution_count": 56,
   "metadata": {},
   "outputs": [],
   "source": [
    "def validate(\n",
    "    train_config: TrainingConfiguration,\n",
    "    model: nn.Module,\n",
    "    test_loader: torch.utils.data.DataLoader,\n",
    ") -> float:\n",
    "    model.eval()\n",
    "    test_loss = 0\n",
    "    count_corect_predictions = 0\n",
    "\n",
    "    with torch.no_grad():\n",
    "\n",
    "        for data, target in test_loader:\n",
    "            indx_target = target.clone()\n",
    "            data = data.to(train_config.device)\n",
    "            \n",
    "            target = target.to(train_config.device)\n",
    "            \n",
    "            output = model(data)\n",
    "            # add loss for each mini batch\n",
    "            test_loss += F.cross_entropy(output, target).item()\n",
    "            \n",
    "            # Score to probability using softmax\n",
    "            prob = F.softmax(output, dim=1)\n",
    "            \n",
    "            # get the index of the max probability\n",
    "            pred = prob.data.max(dim=1)[1] \n",
    "            \n",
    "            # add correct prediction count\n",
    "            count_corect_predictions += pred.cpu().eq(indx_target).sum()\n",
    "\n",
    "        # average over number of mini-batches\n",
    "        test_loss = test_loss / len(test_loader)  \n",
    "        \n",
    "        # average over number of dataset\n",
    "        accuracy = 100. * count_corect_predictions / len(test_loader.dataset)\n",
    "        \n",
    "        print(\n",
    "            '\\nTest set: Average loss: {:.4f}, Accuracy: {}/{} ({:.0f}%)\\n'.format(\n",
    "                test_loss, count_corect_predictions, len(test_loader.dataset), accuracy\n",
    "            )\n",
    "        )\n",
    "\n",
    "    return test_loss, accuracy/100.0"
   ]
  },
  {
   "cell_type": "markdown",
   "metadata": {},
   "source": [
    "## Saving The Model"
   ]
  },
  {
   "cell_type": "code",
   "execution_count": 57,
   "metadata": {},
   "outputs": [],
   "source": [
    "def save_model(model, device, model_dir='models', model_file_name='digits_cnn_model.pt'):\n",
    "    \n",
    "        if not os.path.exists(model_dir):\n",
    "            os.makedirs(model_dir)\n",
    "\n",
    "        model_path = os.path.join(model_dir, model_file_name)\n",
    "\n",
    "        # make sure you transfer the model to cpu.\n",
    "        if device == 'cuda':\n",
    "            model.to('cpu')\n",
    "\n",
    "        # save the state_dict\n",
    "        torch.save(model.state_dict(), model_path)\n",
    "        \n",
    "        if device == 'cuda':\n",
    "            model.to('cuda')\n",
    "        \n",
    "        return"
   ]
  },
  {
   "cell_type": "markdown",
   "metadata": {},
   "source": [
    "# Main"
   ]
  },
  {
   "cell_type": "code",
   "execution_count": 58,
   "metadata": {},
   "outputs": [],
   "source": [
    "def main(system_configuration=SystemConfiguration(), training_configuration=TrainingConfiguration()):\n",
    "        \n",
    "        # system configuration\n",
    "        setup_system(system_configuration)\n",
    "\n",
    "        # batch size\n",
    "        batch_size_to_set = training_configuration.batch_size\n",
    "\n",
    "        # if GPU is available use training config, \n",
    "        # else lowers batch_size, num_workers and epochs count\n",
    "        if torch.cuda.is_available():\n",
    "            device = \"cuda\"\n",
    "        else:\n",
    "            device = \"cpu\"\n",
    "            batch_size_to_set = 16\n",
    "\n",
    "        # data loader\n",
    "        train_loader, test_loader = get_data(\n",
    "            batch_size=batch_size_to_set,\n",
    "            val=training_configuration.val,\n",
    "            transform = True\n",
    "        )\n",
    "        \n",
    "        # Update training configuration\n",
    "        training_configuration = TrainingConfiguration(\n",
    "            device=device,\n",
    "            batch_size = batch_size_to_set,\n",
    "        )\n",
    "\n",
    "        # initiate model\n",
    "        model = MyModel()\n",
    "            \n",
    "        # send model to device (GPU/CPU)\n",
    "        model.to(training_configuration.device)\n",
    "\n",
    "        # optimizer\n",
    "        optimizer = optim.SGD(\n",
    "            model.parameters(),\n",
    "            lr=training_configuration.learning_rate,\n",
    "            momentum = 0.9\n",
    "        )\n",
    "\n",
    "        best_loss = torch.tensor(np.inf)\n",
    "        best_accuracy = torch.tensor(0)\n",
    "        \n",
    "        # epoch train/test loss\n",
    "        epoch_train_loss = np.array([])\n",
    "        epoch_test_loss = np.array([])\n",
    "        \n",
    "        # epch train/test accuracy\n",
    "        epoch_train_acc = np.array([])\n",
    "        epoch_test_acc = np.array([])\n",
    "        \n",
    "        # trainig time measurement\n",
    "        t_begin = time.time()\n",
    "        for epoch in range(training_configuration.epochs_count):\n",
    "            \n",
    "            train_loss, train_acc = train(training_configuration, model, optimizer, train_loader, epoch)\n",
    "            \n",
    "            epoch_train_loss = np.append(epoch_train_loss, [train_loss])\n",
    "            \n",
    "            epoch_train_acc = np.append(epoch_train_acc, [train_acc])\n",
    "\n",
    "            elapsed_time = time.time() - t_begin\n",
    "            speed_epoch = elapsed_time / (epoch + 1)\n",
    "            speed_batch = speed_epoch / len(train_loader)\n",
    "            eta = speed_epoch * training_configuration.epochs_count - elapsed_time\n",
    "            \n",
    "            print(\n",
    "                \"Elapsed {:.2f}s, {:.2f} s/epoch, {:.2f} s/batch, ets {:.2f}s\".format(\n",
    "                    elapsed_time, speed_epoch, speed_batch, eta\n",
    "                )\n",
    "            )\n",
    "\n",
    "            if epoch % training_configuration.test_interval == 0:\n",
    "                current_loss, current_accuracy = validate(training_configuration, model, test_loader)\n",
    "                \n",
    "                epoch_test_loss = np.append(epoch_test_loss, [current_loss])\n",
    "            \n",
    "                epoch_test_acc = np.append(epoch_test_acc, [current_accuracy])\n",
    "                \n",
    "                if current_loss < best_loss:\n",
    "                    best_loss = current_loss\n",
    "                \n",
    "                if current_accuracy > best_accuracy:\n",
    "                    best_accuracy = current_accuracy\n",
    "                    print('Accuracy improved, saving the model.\\n')\n",
    "                    save_model(model, device)\n",
    "\n",
    "                \n",
    "        print(\"Total time: {:.2f}, Best Loss: {:.3f}, Best Accuracy: {:.3f}\".format(time.time() - t_begin, best_loss, \n",
    "                                                                                    best_accuracy))\n",
    "        \n",
    "        return model, epoch_train_loss, epoch_train_acc, epoch_test_loss, epoch_test_acc"
   ]
  },
  {
   "cell_type": "markdown",
   "metadata": {},
   "source": [
    "## Start Training"
   ]
  },
  {
   "cell_type": "code",
   "execution_count": 59,
   "metadata": {},
   "outputs": [
    {
     "name": "stdout",
     "output_type": "stream",
     "text": [
      "Train Epoch: 0 [3200/5000] Loss: 2.137306 Acc: 0.7188\n",
      "Elapsed 1.15s, 1.15 s/epoch, 0.01 s/batch, ets 10.38s\n",
      "\n",
      "Test set: Average loss: 1.7572, Accuracy: 699/1000 (70%)\n",
      "\n",
      "Accuracy improved, saving the model.\n",
      "\n",
      "Train Epoch: 1 [3200/5000] Loss: 0.454417 Acc: 0.9688\n",
      "Elapsed 2.46s, 1.23 s/epoch, 0.01 s/batch, ets 9.83s\n",
      "\n",
      "Test set: Average loss: 0.3610, Accuracy: 921/1000 (92%)\n",
      "\n",
      "Accuracy improved, saving the model.\n",
      "\n",
      "Train Epoch: 2 [3200/5000] Loss: 0.117109 Acc: 1.0000\n",
      "Elapsed 3.71s, 1.24 s/epoch, 0.01 s/batch, ets 8.65s\n",
      "\n",
      "Test set: Average loss: 0.2051, Accuracy: 933/1000 (93%)\n",
      "\n",
      "Accuracy improved, saving the model.\n",
      "\n",
      "Train Epoch: 3 [3200/5000] Loss: 0.061201 Acc: 1.0000\n",
      "Elapsed 4.98s, 1.25 s/epoch, 0.01 s/batch, ets 7.47s\n",
      "\n",
      "Test set: Average loss: 0.1437, Accuracy: 955/1000 (96%)\n",
      "\n",
      "Accuracy improved, saving the model.\n",
      "\n",
      "Train Epoch: 4 [3200/5000] Loss: 0.040871 Acc: 0.9688\n",
      "Elapsed 6.24s, 1.25 s/epoch, 0.01 s/batch, ets 6.24s\n",
      "\n",
      "Test set: Average loss: 0.1451, Accuracy: 954/1000 (95%)\n",
      "\n",
      "Train Epoch: 5 [3200/5000] Loss: 0.009161 Acc: 1.0000\n",
      "Elapsed 7.48s, 1.25 s/epoch, 0.01 s/batch, ets 4.99s\n",
      "\n",
      "Test set: Average loss: 0.1980, Accuracy: 936/1000 (94%)\n",
      "\n",
      "Train Epoch: 6 [3200/5000] Loss: 0.011123 Acc: 1.0000\n",
      "Elapsed 8.71s, 1.24 s/epoch, 0.01 s/batch, ets 3.73s\n",
      "\n",
      "Test set: Average loss: 0.0916, Accuracy: 968/1000 (97%)\n",
      "\n",
      "Accuracy improved, saving the model.\n",
      "\n",
      "Train Epoch: 7 [3200/5000] Loss: 0.006921 Acc: 1.0000\n",
      "Elapsed 9.98s, 1.25 s/epoch, 0.01 s/batch, ets 2.49s\n",
      "\n",
      "Test set: Average loss: 0.0884, Accuracy: 972/1000 (97%)\n",
      "\n",
      "Accuracy improved, saving the model.\n",
      "\n",
      "Train Epoch: 8 [3200/5000] Loss: 0.004202 Acc: 1.0000\n",
      "Elapsed 11.24s, 1.25 s/epoch, 0.01 s/batch, ets 1.25s\n",
      "\n",
      "Test set: Average loss: 0.0863, Accuracy: 970/1000 (97%)\n",
      "\n",
      "Train Epoch: 9 [3200/5000] Loss: 0.010334 Acc: 1.0000\n",
      "Elapsed 12.47s, 1.25 s/epoch, 0.01 s/batch, ets 0.00s\n",
      "\n",
      "Test set: Average loss: 0.0824, Accuracy: 974/1000 (97%)\n",
      "\n",
      "Accuracy improved, saving the model.\n",
      "\n",
      "Total time: 12.59, Best Loss: 0.082, Best Accuracy: 0.974\n"
     ]
    }
   ],
   "source": [
    "if required_training:\n",
    "    model, epoch_train_loss, epoch_train_acc, epoch_test_loss, epoch_test_acc = main()"
   ]
  },
  {
   "cell_type": "markdown",
   "metadata": {},
   "source": [
    "## Plot Loss"
   ]
  },
  {
   "cell_type": "code",
   "execution_count": 60,
   "metadata": {},
   "outputs": [
    {
     "data": {
      "image/png": "[encoded data removed]",
      "text/plain": [
       "<Figure size 720x432 with 1 Axes>"
      ]
     },
     "metadata": {
      "needs_background": "light"
     },
     "output_type": "display_data"
    }
   ],
   "source": [
    "plt.rcParams[\"figure.figsize\"] = (10, 6)\n",
    "x = range(len(epoch_train_loss))\n",
    "\n",
    "plt.figure\n",
    "plt.plot(x, epoch_train_loss, color='r', label=\"train loss\")\n",
    "plt.plot(x, epoch_test_loss, color='b', label=\"val loss\")\n",
    "plt.xlabel('epoch no.')\n",
    "plt.ylabel('loss')\n",
    "plt.legend(loc='upper right')\n",
    "plt.title('Training and Validation Loss')\n",
    "plt.show()"
   ]
  },
  {
   "cell_type": "markdown",
   "metadata": {},
   "source": [
    "## Plot Accuracy"
   ]
  },
  {
   "cell_type": "code",
   "execution_count": 61,
   "metadata": {},
   "outputs": [
    {
     "data": {
      "image/png": "[encoded data removed]",
      "text/plain": [
       "<Figure size 720x432 with 1 Axes>"
      ]
     },
     "metadata": {
      "needs_background": "light"
     },
     "output_type": "display_data"
    }
   ],
   "source": [
    "plt.rcParams[\"figure.figsize\"] = (10, 6)\n",
    "x = range(len(epoch_train_loss))\n",
    "\n",
    "plt.figure\n",
    "plt.plot(x, epoch_train_acc, color='r', label=\"train accuracy\")\n",
    "plt.plot(x, epoch_test_acc, color='b', label=\"val accuracy\")\n",
    "plt.xlabel('epoch no.')\n",
    "plt.ylabel('loss')\n",
    "plt.legend(loc='upper right')\n",
    "plt.title('Training and Validation Accuracy')\n",
    "plt.show()"
   ]
  },
  {
   "cell_type": "markdown",
   "metadata": {},
   "source": [
    "## Loading the Model"
   ]
  },
  {
   "cell_type": "code",
   "execution_count": 62,
   "metadata": {},
   "outputs": [
    {
     "data": {
      "text/plain": [
       "<All keys matched successfully>"
      ]
     },
     "execution_count": 62,
     "metadata": {},
     "output_type": "execute_result"
    }
   ],
   "source": [
    "cnn_model = MyModel()\n",
    "\n",
    "models = 'models'\n",
    "\n",
    "model_file_name = 'digits_cnn_model.pt'\n",
    "\n",
    "model_path = os.path.join(models, model_file_name)\n",
    "\n",
    "# loading the model and getting model parameters by using load_state_dict\n",
    "cnn_model.load_state_dict(torch.load(model_path))"
   ]
  },
  {
   "cell_type": "markdown",
   "metadata": {},
   "source": [
    "## Model Prediction"
   ]
  },
  {
   "cell_type": "code",
   "execution_count": 63,
   "metadata": {},
   "outputs": [],
   "source": [
    "def prediction(model, train_config, batch_input):\n",
    "    \n",
    "    # send model to cpu/cuda according to your system configuration\n",
    "    model.to(train_config.device)\n",
    "    \n",
    "    # it is important to do model.eval() before prediction\n",
    "    model.eval()\n",
    "\n",
    "    data = batch_input.to(train_config.device)\n",
    "\n",
    "    output = model(data)\n",
    "\n",
    "    # Score to probability using softmax\n",
    "    prob = F.softmax(output, dim=1)\n",
    "\n",
    "    # get the max probability\n",
    "    pred_prob = prob.data.max(dim=1)[0]\n",
    "    \n",
    "    # get the index of the max probability\n",
    "    pred_index = prob.data.max(dim=1)[1]\n",
    "    \n",
    "    return pred_index.cpu().numpy(), pred_prob.cpu().numpy()"
   ]
  },
  {
   "cell_type": "markdown",
   "metadata": {},
   "source": [
    "## Perform Inference on Sample Images"
   ]
  },
  {
   "cell_type": "code",
   "execution_count": 64,
   "metadata": {},
   "outputs": [
    {
     "data": {
      "image/png": "[encoded data removed]",
      "text/plain": [
       "<Figure size 216x216 with 1 Axes>"
      ]
     },
     "metadata": {
      "needs_background": "light"
     },
     "output_type": "display_data"
    },
    {
     "data": {
      "image/png": "[encoded data removed]",
      "text/plain": [
       "<Figure size 216x216 with 1 Axes>"
      ]
     },
     "metadata": {
      "needs_background": "light"
     },
     "output_type": "display_data"
    },
    {
     "data": {
      "image/png": "[encoded data removed]",
      "text/plain": [
       "<Figure size 216x216 with 1 Axes>"
      ]
     },
     "metadata": {
      "needs_background": "light"
     },
     "output_type": "display_data"
    },
    {
     "data": {
      "image/png": "[encoded data removed]",
      "text/plain": [
       "<Figure size 216x216 with 1 Axes>"
      ]
     },
     "metadata": {
      "needs_background": "light"
     },
     "output_type": "display_data"
    },
    {
     "data": {
      "image/png": "[encoded data removed]",
      "text/plain": [
       "<Figure size 216x216 with 1 Axes>"
      ]
     },
     "metadata": {
      "needs_background": "light"
     },
     "output_type": "display_data"
    }
   ],
   "source": [
    "classes = ('0', '1', '2', '3', '4', '5', '6', '7', '8', '9')\n",
    "\n",
    "batch_size = 5\n",
    "train_config = TrainingConfiguration()\n",
    "\n",
    "if torch.cuda.is_available():\n",
    "    train_config.device = \"cuda\"\n",
    "else:\n",
    "    train_config.device = \"cpu\"\n",
    "\n",
    "# load testdata with image transformation\n",
    "transform = transforms.Compose([\n",
    "    transforms.Resize(32),\n",
    "    ])\n",
    "\n",
    "test_loader = torch.utils.data.DataLoader(\n",
    "    DigitsDataset('test', transform),\n",
    "    batch_size=batch_size,\n",
    "    shuffle=False,\n",
    "    )\n",
    "\n",
    "for data, _ in test_loader:\n",
    "    # pass the loaded model\n",
    "    pred, prob = prediction(cnn_model, train_config, data)\n",
    "    break\n",
    "    \n",
    "\n",
    "plt.rcParams[\"figure.figsize\"] = (3, 3)\n",
    "for images, label in test_loader:\n",
    "    for i, img in enumerate(images):\n",
    "        img = transforms.functional.to_pil_image(img)\n",
    "        plt.imshow(img)\n",
    "        plt.gca().set_title('Pred: {0}({1:0.2}), Label: {2}'.format(classes[pred[i]], prob[i], classes[label[i]]))\n",
    "        plt.show()\n",
    "    break"
   ]
  }
 ],
 "metadata": {
  "interpreter": {
   "hash": "21522df79a5f2f7576e87cd4971b777eef95bcbd6396c0a74d6cd78603fae977"
  },
  "kernelspec": {
   "display_name": "Python 3.8.10 64-bit ('pytorch': conda)",
   "language": "python",
   "name": "python3"
  },
  "language_info": {
   "codemirror_mode": {
    "name": "ipython",
    "version": 3
   },
   "file_extension": ".py",
   "mimetype": "text/x-python",
   "name": "python",
   "nbconvert_exporter": "python",
   "pygments_lexer": "ipython3",
   "version": "3.8.10"
  },
  "orig_nbformat": 4
 },
 "nbformat": 4,
 "nbformat_minor": 2
}
