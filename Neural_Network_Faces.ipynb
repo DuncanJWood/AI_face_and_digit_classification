{
 "cells": [
  {
   "cell_type": "code",
   "execution_count": 1,
   "metadata": {},
   "outputs": [],
   "source": [
    "import os\n",
    "import time\n",
    "\n",
    "from dataclasses import dataclass\n",
    "\n",
    "import numpy as np\n",
    "import torch\n",
    "import torch.nn as nn\n",
    "import torch.optim as optim\n",
    "import torch.nn.functional as F\n",
    "from torch.utils.data import Dataset\n",
    "\n",
    "from torchvision import transforms\n",
    "\n",
    "import matplotlib.pyplot as plt\n",
    "\n",
    "from parse import parse"
   ]
  },
  {
   "cell_type": "markdown",
   "metadata": {},
   "source": [
    "# CNN Model Architecture"
   ]
  },
  {
   "cell_type": "code",
   "execution_count": 120,
   "metadata": {},
   "outputs": [],
   "source": [
    "class MyModel(nn.Module):\n",
    "    def __init__(self):\n",
    "        super().__init__()\n",
    "\n",
    "        # convolution layers\n",
    "        self._body = nn.Sequential(\n",
    "            \n",
    "            # Size = 64,64\n",
    "\n",
    "            nn.Conv2d(in_channels = 1, out_channels = 6, kernel_size = 3, bias = False, padding = 1),\n",
    "            nn.BatchNorm2d(6),\n",
    "            nn.ReLU(inplace = True),\n",
    "\n",
    "            nn.Conv2d(in_channels = 6, out_channels = 12, kernel_size = 3, bias = False, padding = 1),\n",
    "            nn.BatchNorm2d(12),\n",
    "            nn.ReLU(inplace = True),\n",
    "\n",
    "            nn.MaxPool2d(kernel_size = 2),\n",
    "\n",
    "            # Size = 32, 32\n",
    "\n",
    "            nn.Conv2d(in_channels = 12, out_channels = 24, kernel_size = 3, bias = False, padding = 1),\n",
    "            nn.BatchNorm2d(24),\n",
    "            nn.ReLU(inplace = True),\n",
    "\n",
    "            nn.Conv2d(in_channels = 24, out_channels = 48, kernel_size = 3, bias = False, padding = 1),\n",
    "            nn.BatchNorm2d(48),\n",
    "            nn.ReLU(inplace = True),\n",
    "\n",
    "            nn.MaxPool2d(kernel_size = 2),\n",
    "\n",
    "            # Size = 16, 16\n",
    "\n",
    "            nn.Conv2d(in_channels = 48, out_channels = 96, kernel_size = 3, bias = False, padding = 1),\n",
    "            nn.BatchNorm2d(96),\n",
    "            nn.ReLU(inplace = True),\n",
    "\n",
    "            nn.Conv2d(in_channels = 96, out_channels = 144, kernel_size = 3, bias = False, padding = 1),\n",
    "            nn.BatchNorm2d(144),\n",
    "            nn.ReLU(inplace = True),\n",
    "\n",
    "            nn.MaxPool2d(kernel_size = 2),\n",
    "\n",
    "            # Size = 8, 8\n",
    "\n",
    "            nn.Conv2d(in_channels = 144, out_channels = 216, kernel_size = 3, bias = False, padding = 1),\n",
    "            nn.BatchNorm2d(216),\n",
    "            nn.ReLU(inplace = True),\n",
    "\n",
    "            nn.Conv2d(in_channels = 216, out_channels = 324, kernel_size = 3, bias = False, padding = 1),\n",
    "            nn.BatchNorm2d(324),\n",
    "            nn.ReLU(inplace = True),\n",
    "\n",
    "            nn.MaxPool2d(kernel_size = 2),\n",
    "\n",
    "            # Out = 4, 4\n",
    "        )\n",
    "\n",
    "        # Fully connected layers\n",
    "        self._head = nn.Sequential(\n",
    "            nn.Linear(in_features=324 * 4 * 4, out_features=432), \n",
    "            nn.ReLU(inplace=True),\n",
    "\n",
    "            nn.Linear(in_features=432, out_features=144), \n",
    "            nn.ReLU(inplace=True),\n",
    "\n",
    "            nn.Linear(in_features=144, out_features=72),\n",
    "            nn.ReLU(inplace=True),\n",
    "\n",
    "            nn.Linear(in_features=72, out_features=2)\n",
    "        )\n",
    "        \n",
    "    def forward(self, data):\n",
    "        data = self._body(data)\n",
    "        data = data.view(data.shape[0], -1)\n",
    "        data = self._head(data)\n",
    "\n",
    "        return data"
   ]
  },
  {
   "cell_type": "markdown",
   "metadata": {},
   "source": [
    "## Display The Network"
   ]
  },
  {
   "cell_type": "code",
   "execution_count": 3,
   "metadata": {},
   "outputs": [
    {
     "name": "stdout",
     "output_type": "stream",
     "text": [
      "MyModel(\n",
      "  (_body): Sequential(\n",
      "    (0): Conv2d(1, 6, kernel_size=(3, 3), stride=(1, 1), padding=(1, 1), bias=False)\n",
      "    (1): BatchNorm2d(6, eps=1e-05, momentum=0.1, affine=True, track_running_stats=True)\n",
      "    (2): ReLU(inplace=True)\n",
      "    (3): Conv2d(6, 12, kernel_size=(3, 3), stride=(1, 1), padding=(1, 1), bias=False)\n",
      "    (4): BatchNorm2d(12, eps=1e-05, momentum=0.1, affine=True, track_running_stats=True)\n",
      "    (5): ReLU(inplace=True)\n",
      "    (6): MaxPool2d(kernel_size=2, stride=2, padding=0, dilation=1, ceil_mode=False)\n",
      "    (7): Conv2d(12, 24, kernel_size=(3, 3), stride=(1, 1), padding=(1, 1), bias=False)\n",
      "    (8): BatchNorm2d(24, eps=1e-05, momentum=0.1, affine=True, track_running_stats=True)\n",
      "    (9): ReLU(inplace=True)\n",
      "    (10): Conv2d(24, 48, kernel_size=(3, 3), stride=(1, 1), padding=(1, 1), bias=False)\n",
      "    (11): BatchNorm2d(48, eps=1e-05, momentum=0.1, affine=True, track_running_stats=True)\n",
      "    (12): ReLU(inplace=True)\n",
      "    (13): MaxPool2d(kernel_size=2, stride=2, padding=0, dilation=1, ceil_mode=False)\n",
      "    (14): Conv2d(48, 96, kernel_size=(3, 3), stride=(1, 1), padding=(1, 1), bias=False)\n",
      "    (15): BatchNorm2d(96, eps=1e-05, momentum=0.1, affine=True, track_running_stats=True)\n",
      "    (16): ReLU(inplace=True)\n",
      "    (17): Conv2d(96, 144, kernel_size=(3, 3), stride=(1, 1), padding=(1, 1), bias=False)\n",
      "    (18): BatchNorm2d(144, eps=1e-05, momentum=0.1, affine=True, track_running_stats=True)\n",
      "    (19): ReLU(inplace=True)\n",
      "    (20): MaxPool2d(kernel_size=2, stride=2, padding=0, dilation=1, ceil_mode=False)\n",
      "    (21): Conv2d(144, 216, kernel_size=(3, 3), stride=(1, 1), padding=(1, 1), bias=False)\n",
      "    (22): BatchNorm2d(216, eps=1e-05, momentum=0.1, affine=True, track_running_stats=True)\n",
      "    (23): ReLU(inplace=True)\n",
      "    (24): Conv2d(216, 324, kernel_size=(3, 3), stride=(1, 1), padding=(1, 1), bias=False)\n",
      "    (25): BatchNorm2d(324, eps=1e-05, momentum=0.1, affine=True, track_running_stats=True)\n",
      "    (26): ReLU(inplace=True)\n",
      "    (27): MaxPool2d(kernel_size=2, stride=2, padding=0, dilation=1, ceil_mode=False)\n",
      "  )\n",
      "  (_head): Sequential(\n",
      "    (0): Linear(in_features=5184, out_features=432, bias=True)\n",
      "    (1): ReLU(inplace=True)\n",
      "    (2): Linear(in_features=432, out_features=144, bias=True)\n",
      "    (3): ReLU(inplace=True)\n",
      "    (4): Linear(in_features=144, out_features=72, bias=True)\n",
      "    (5): ReLU(inplace=True)\n",
      "    (6): Linear(in_features=72, out_features=2, bias=True)\n",
      "  )\n",
      ")\n"
     ]
    }
   ],
   "source": [
    "my_model = MyModel()\n",
    "print(my_model)"
   ]
  },
  {
   "cell_type": "markdown",
   "metadata": {},
   "source": [
    "# Custom Dataset Class"
   ]
  },
  {
   "cell_type": "code",
   "execution_count": 30,
   "metadata": {},
   "outputs": [],
   "source": [
    "class FacesDataset(Dataset):\n",
    "    def __init__(self, predict = 'train', percent = 1.0, transform = None):\n",
    "\n",
    "        # initialize the data dictionary\n",
    "        self.data_dict = {'image': [], 'label': []}\n",
    "\n",
    "        if predict.lower() == 'train':\n",
    "            images, labels = parse('facedata/facedatatrain', 'facedata/facedatatrainlabels', False)\n",
    "\n",
    "            # Take a random sample of the training data proportional to percent argument (percent = 1.0 means using all data)\n",
    "            ammount = int(percent * images.shape[0])\n",
    "            available_indices = np.random.choice(images.shape[0], ammount, replace = False)\n",
    "            available_labels = labels[available_indices]\n",
    "            available_images = images[available_indices]      \n",
    "\n",
    "            self.data_dict['label'] = torch.tensor(available_labels).long()\n",
    "            self.data_dict['image'] = torch.tensor(np.expand_dims(available_images, axis=1)).float()\n",
    "\n",
    "\n",
    "        elif predict.lower() == 'val':\n",
    "            images, labels = parse('facedata/facedatavalidation', 'facedata/facedatavalidationlabels', False)\n",
    "            self.data_dict['label'] = torch.tensor(labels).long()\n",
    "            self.data_dict['image'] = torch.tensor(np.expand_dims(images, axis=1)).float()\n",
    "\n",
    "        elif predict.lower() == 'test':\n",
    "            images, labels = parse('facedata/facedatatest', 'facedata/facedatatestlabels', False)\n",
    "            self.data_dict['label'] = torch.tensor(labels).long()\n",
    "            self.data_dict['image'] = torch.tensor(np.expand_dims(images, axis=1)).float()\n",
    "            \n",
    "        self.classes = np.array([\"Not Face\", \"Face\"])\n",
    "\n",
    "        self.transform = transform\n",
    "        self.predict = predict\n",
    "\n",
    "\n",
    "    def __len__(self):\n",
    "\n",
    "        return len(self.data_dict['image'])\n",
    "\n",
    "\n",
    "    def __getitem__(self, idx):\n",
    "\n",
    "        image = self.data_dict['image'][idx]\n",
    "\n",
    "        if self.transform:\n",
    "            image = self.transform(image)\n",
    "\n",
    "        target = self.data_dict['label'][idx]\n",
    "\n",
    "        return image, target\n"
   ]
  },
  {
   "cell_type": "markdown",
   "metadata": {},
   "source": [
    "## Get DataLoaders for Train and Validation"
   ]
  },
  {
   "cell_type": "code",
   "execution_count": 31,
   "metadata": {},
   "outputs": [],
   "source": [
    "def get_data(batch_size, val = True, percent = 1.0):\n",
    "        \n",
    "    transform = transforms.Compose([transforms.Resize((64,64))])\n",
    "\n",
    "    train_dataset =  FacesDataset(predict = 'train', percent = percent, transform = transform)\n",
    "\n",
    "    if val:\n",
    "        test_dataset =  FacesDataset(predict = 'val', transform = transform)\n",
    "    else:\n",
    "        test_dataset =  FacesDataset(predict = 'test', transform = transform)\n",
    "\n",
    "    train_loader = torch.utils.data.DataLoader(train_dataset, batch_size=batch_size, shuffle=True)\n",
    "    test_loader = torch.utils.data.DataLoader(test_dataset, batch_size=batch_size, shuffle=True)\n",
    "        \n",
    "    return train_loader, test_loader"
   ]
  },
  {
   "cell_type": "markdown",
   "metadata": {},
   "source": [
    "## Training Configuration"
   ]
  },
  {
   "cell_type": "code",
   "execution_count": 32,
   "metadata": {},
   "outputs": [],
   "source": [
    "@dataclass\n",
    "class TrainingConfiguration:\n",
    "    batch_size: int = 32 # amount of data to pass through the network at each forward-backward iteration\n",
    "    epochs: int = 6 # number of times the whole dataset will be passed through the network\n",
    "    learning_rate: float = 0.001 # determines the speed of network's weights update\n",
    "    val: bool = True # use validation or test data for validation (True means validation data will be used)\n",
    "    percent: float = 1.0 # How much of the training data to use for training\n",
    "    device: str = 'cuda' # Set defualt device"
   ]
  },
  {
   "cell_type": "markdown",
   "metadata": {},
   "source": [
    "# Training"
   ]
  },
  {
   "cell_type": "code",
   "execution_count": 33,
   "metadata": {},
   "outputs": [],
   "source": [
    "def train(train_config, model, optimizer, train_loader):\n",
    "    \n",
    "    model.train()\n",
    "    \n",
    "    # get accuracy\n",
    "    batch_acc = np.array([])\n",
    "        \n",
    "    for data, target in train_loader:\n",
    "        \n",
    "        target_index = target.clone()\n",
    "        data = data.to(train_config.device)\n",
    "        target = target.to(train_config.device)\n",
    "\n",
    "        # reset parameters gradient to zero\n",
    "        optimizer.zero_grad(set_to_none=True)\n",
    "        \n",
    "        # forward pass\n",
    "        output = model(data)\n",
    "        \n",
    "        # calculate loss function loss\n",
    "        loss = F.cross_entropy(output, target)\n",
    "        \n",
    "        # back propagation\n",
    "        loss.backward()\n",
    "        optimizer.step()\n",
    "        \n",
    "        # Get correct predictions from score and target label\n",
    "        prob = F.softmax(output, dim = 1)\n",
    "        pred = torch.max(prob.data, dim = 1)[1]  \n",
    "        correct = torch.sum(pred.cpu()== target_index)\n",
    "            \n",
    "        # Get accuracy\n",
    "        acc = float(correct / len(data))\n",
    "        \n",
    "        batch_acc = np.append(batch_acc, [acc])\n",
    "\n",
    "    epoch_acc = batch_acc.mean()\n",
    "    return epoch_acc"
   ]
  },
  {
   "cell_type": "markdown",
   "metadata": {},
   "source": [
    "# Validation"
   ]
  },
  {
   "cell_type": "code",
   "execution_count": 75,
   "metadata": {},
   "outputs": [],
   "source": [
    "def validate(train_config, model, test_loader):\n",
    "    model.eval()\n",
    "    correct = 0\n",
    "\n",
    "    with torch.no_grad():\n",
    "\n",
    "        for data, target in test_loader:\n",
    "            target_index = target.clone()\n",
    "            data = data.to(train_config.device)\n",
    "            target = target.to(train_config.device)\n",
    "            \n",
    "            output = model(data)\n",
    "            \n",
    "            # Get correct predictions from score and target label\n",
    "            prob = F.softmax(output, dim = 1)\n",
    "            pred = torch.max(prob.data, dim = 1)[1] \n",
    "            correct += torch.sum(pred.cpu() == target_index)  \n",
    "        \n",
    "        accuracy = float(correct / len(test_loader.dataset))\n",
    "        \n",
    "    return accuracy"
   ]
  },
  {
   "cell_type": "markdown",
   "metadata": {},
   "source": [
    "# Main"
   ]
  },
  {
   "cell_type": "code",
   "execution_count": 67,
   "metadata": {},
   "outputs": [],
   "source": [
    "def main(train_config=TrainingConfiguration()):\n",
    "\n",
    "        torch.manual_seed(42)\n",
    "\n",
    "        # train_config\n",
    "        batch_size = train_config.batch_size\n",
    "        epochs = train_config.epochs\n",
    "        val = train_config.val\n",
    "        percent = train_config.percent\n",
    "        lr = train_config.learning_rate\n",
    "    \n",
    "        if torch.cuda.is_available():\n",
    "            device = \"cuda\"\n",
    "            torch.backends.cudnn_benchmark_enabled = True\n",
    "            torch.backends.cudnn.deterministic = True\n",
    "        else:\n",
    "            device = \"cpu\"\n",
    "\n",
    "        train_config = TrainingConfiguration(device=device)\n",
    "\n",
    "        # data loader\n",
    "        train_loader, test_loader = get_data(\n",
    "            batch_size=batch_size,\n",
    "            val=val,\n",
    "            percent = percent,\n",
    "        )\n",
    "\n",
    "        # initiate model\n",
    "        model = MyModel()\n",
    "        model.to(train_config.device)\n",
    "\n",
    "        optimizer = optim.SGD(model.parameters(), lr=lr, momentum = 0.9)\n",
    "        \n",
    "        t_begin = time.time()\n",
    "        for _ in range(epochs):\n",
    "            train_acc = train(train_config, model, optimizer, train_loader)\n",
    "                \n",
    "        test_acc = validate(train_config, model, test_loader)\n",
    "        \n",
    "        return model, train_acc, test_acc, time.time() - t_begin"
   ]
  },
  {
   "cell_type": "markdown",
   "metadata": {},
   "source": [
    "## Start Training"
   ]
  },
  {
   "cell_type": "code",
   "execution_count": 121,
   "metadata": {},
   "outputs": [
    {
     "name": "stdout",
     "output_type": "stream",
     "text": [
      "150\n",
      "0.9979166666666667\n",
      "0.9866666793823242\n"
     ]
    }
   ],
   "source": [
    "model, train_acc, test_acc, t = main(train_config=TrainingConfiguration(percent = 1.0, val = False, epochs = 8))\n",
    "print(train_acc)\n",
    "print(test_acc)"
   ]
  },
  {
   "cell_type": "code",
   "execution_count": null,
   "metadata": {},
   "outputs": [],
   "source": [
    "mean_acc = np.zeros((10, 2), dtype= np.float64)\n",
    "std = np.zeros((10, 2), dtype= np.float64)\n",
    "time_func = np.zeros((10, 1), dtype = np.float64)\n",
    "models = []\n",
    "iterations = 12\n",
    "\n",
    "for i in range(1, 11):\n",
    "    accuracy = np.zeros((iterations, 2), dtype= np.float64)\n",
    "    avg_time = np.zeros((iterations, 1), dtype= np.float64)\n",
    "\n",
    "    for iteration in range(0, iterations):\n",
    "        model, train_acc, test_acc, t = main(TrainingConfiguration(percent = 0.1*i, val = False, epochs=8))\n",
    "        accuracy[iteration] = train_acc, test_acc\n",
    "        avg_time[iteration] = t\n",
    "        \n",
    "        if i == 10:\n",
    "            models.append(model)\n",
    "\n",
    "    mean_acc[i-1] = np.mean(accuracy, axis = 0)\n",
    "    std[i-1] = np.std(accuracy, axis = 0)\n",
    "    time_func[i-1] = np.mean(avg_time)\n",
    "\n",
    "model = models[np.argmax(accuracy[:,1])]"
   ]
  },
  {
   "cell_type": "code",
   "execution_count": 123,
   "metadata": {},
   "outputs": [
    {
     "name": "stdout",
     "output_type": "stream",
     "text": [
      "Average results with all training data over 12 runs\n",
      "Accuracy: Train = 0.9907, Test = 0.9706\n",
      "StD: Train = 0.006499, Test = 0.018749\n",
      "Runtime = 1.398 seconds\n"
     ]
    }
   ],
   "source": [
    "print(f\"Average results with all training data over {iterations} runs\")\n",
    "print(\"Accuracy: Train = {:.4f}, Test = {:.4f}\".format(mean_acc[-1,0], mean_acc[-1,1]))\n",
    "print(\"StD: Train = {:.6f}, Test = {:.6f}\".format(std[-1,0], std[-1,1]))\n",
    "print(\"Runtime = {:.3f} seconds\".format(time_func[-1][0]))"
   ]
  },
  {
   "cell_type": "code",
   "execution_count": 59,
   "metadata": {},
   "outputs": [
    {
     "data": {
      "text/plain": [
       "<matplotlib.legend.Legend at 0x252a8295dc0>"
      ]
     },
     "execution_count": 59,
     "metadata": {},
     "output_type": "execute_result"
    },
    {
     "data": {
      "image/png": "[encoded data removed]",
      "text/plain": [
       "<Figure size 720x360 with 1 Axes>"
      ]
     },
     "metadata": {
      "needs_background": "light"
     },
     "output_type": "display_data"
    }
   ],
   "source": [
    "plt.figure(figsize = (10, 5))\n",
    "x = np.linspace(.1*451, 451, 10)\n",
    "plt.plot(x, mean_acc[:,0], label = \"Training Accuracy\")\n",
    "plt.plot(x, mean_acc[:,1], label = \"Test Accuracy\")\n",
    "plt.legend()"
   ]
  },
  {
   "cell_type": "code",
   "execution_count": 60,
   "metadata": {},
   "outputs": [
    {
     "data": {
      "text/plain": [
       "<matplotlib.legend.Legend at 0x2529ecf2100>"
      ]
     },
     "execution_count": 60,
     "metadata": {},
     "output_type": "execute_result"
    },
    {
     "data": {
      "image/png": "[encoded data removed]",
      "text/plain": [
       "<Figure size 720x360 with 1 Axes>"
      ]
     },
     "metadata": {
      "needs_background": "light"
     },
     "output_type": "display_data"
    }
   ],
   "source": [
    "plt.figure(figsize = (10, 5))\n",
    "x = np.linspace(.1*451, 451, 10)\n",
    "plt.plot(x, std[:,0], label = \"Training Standard Deviation\")\n",
    "plt.plot(x, std[:,1], label = \"Test Standard Deviation\")\n",
    "plt.legend()"
   ]
  },
  {
   "cell_type": "code",
   "execution_count": 64,
   "metadata": {},
   "outputs": [
    {
     "data": {
      "text/plain": [
       "<matplotlib.legend.Legend at 0x2531bee12b0>"
      ]
     },
     "execution_count": 64,
     "metadata": {},
     "output_type": "execute_result"
    },
    {
     "data": {
      "image/png": "[encoded data removed]",
      "text/plain": [
       "<Figure size 720x360 with 1 Axes>"
      ]
     },
     "metadata": {
      "needs_background": "light"
     },
     "output_type": "display_data"
    }
   ],
   "source": [
    "plt.figure(figsize = (10, 5))\n",
    "x = np.linspace(.1*451, 451, 10)\n",
    "plt.plot(x, time_func, label = \"Runtime\")\n",
    "plt.legend()"
   ]
  },
  {
   "cell_type": "markdown",
   "metadata": {},
   "source": [
    "## Model Prediction"
   ]
  },
  {
   "cell_type": "code",
   "execution_count": 62,
   "metadata": {},
   "outputs": [],
   "source": [
    "def prediction(model, train_config, inp):\n",
    "    \n",
    "    model.to(train_config.device)\n",
    "    data = inp.to(train_config.device)\n",
    "\n",
    "    model.eval()\n",
    "    out = model(data)\n",
    "\n",
    "    probs = F.softmax(out,1)\n",
    "    confs = torch.max(probs.data, 1)[0]\n",
    "    pred_labels = torch.max(probs.data, 1)[1]\n",
    "    \n",
    "    return pred_labels.cpu(), confs.cpu()"
   ]
  },
  {
   "cell_type": "markdown",
   "metadata": {},
   "source": [
    "## Perform Inference on Sample Images"
   ]
  },
  {
   "cell_type": "code",
   "execution_count": 63,
   "metadata": {},
   "outputs": [
    {
     "name": "stdout",
     "output_type": "stream",
     "text": [
      "Predicted: Face (0.98)| Truth: Face\n"
     ]
    },
    {
     "data": {
      "image/png": "[encoded data removed]",
      "text/plain": [
       "<Figure size 432x288 with 1 Axes>"
      ]
     },
     "metadata": {
      "needs_background": "light"
     },
     "output_type": "display_data"
    },
    {
     "name": "stdout",
     "output_type": "stream",
     "text": [
      "Predicted: Face (0.86)| Truth: Face\n"
     ]
    },
    {
     "data": {
      "image/png": "[encoded data removed]",
      "text/plain": [
       "<Figure size 432x288 with 1 Axes>"
      ]
     },
     "metadata": {
      "needs_background": "light"
     },
     "output_type": "display_data"
    },
    {
     "name": "stdout",
     "output_type": "stream",
     "text": [
      "Predicted: Face (0.94)| Truth: Face\n"
     ]
    },
    {
     "data": {
      "image/png": "[encoded data removed]",
      "text/plain": [
       "<Figure size 432x288 with 1 Axes>"
      ]
     },
     "metadata": {
      "needs_background": "light"
     },
     "output_type": "display_data"
    },
    {
     "name": "stdout",
     "output_type": "stream",
     "text": [
      "Predicted: Face (0.87)| Truth: Face\n"
     ]
    },
    {
     "data": {
      "image/png": "[encoded data removed]",
      "text/plain": [
       "<Figure size 432x288 with 1 Axes>"
      ]
     },
     "metadata": {
      "needs_background": "light"
     },
     "output_type": "display_data"
    },
    {
     "name": "stdout",
     "output_type": "stream",
     "text": [
      "Predicted: Face (0.95)| Truth: Face\n"
     ]
    },
    {
     "data": {
      "image/png": "[encoded data removed]",
      "text/plain": [
       "<Figure size 432x288 with 1 Axes>"
      ]
     },
     "metadata": {
      "needs_background": "light"
     },
     "output_type": "display_data"
    }
   ],
   "source": [
    "classes = ('Not Face', 'Face')\n",
    "\n",
    "batch_size = 5\n",
    "train_config = TrainingConfiguration()\n",
    "\n",
    "if torch.cuda.is_available():\n",
    "    train_config.device = \"cuda\"\n",
    "else:\n",
    "    train_config.device = \"cpu\"\n",
    "\n",
    "# load testdata with image transformation\n",
    "transform = transforms.Compose([transforms.Resize((64,64))])\n",
    "\n",
    "test_loader = torch.utils.data.DataLoader( FacesDataset(predict = 'test', transform = transform), batch_size=5, shuffle = False)\n",
    "\n",
    "display_loader = torch.utils.data.DataLoader( FacesDataset(predict = 'test', transform = None), batch_size=5, shuffle = False)\n",
    "\n",
    "for data, label in test_loader:\n",
    "    # pass the loaded model\n",
    "    preds, probs = prediction(model, train_config, data)\n",
    "    break\n",
    "\n",
    "for data, label in display_loader:\n",
    "    for index, img in enumerate(data):\n",
    "        print(f\"Predicted: {classes[preds[index]]} ({float(int(probs[index]*100))/100})| Truth: {classes[label[index]]}\".format())\n",
    "        plt.imshow(img.cpu()[0], ) \n",
    "        plt.show()\n",
    "    break"
   ]
  }
 ],
 "metadata": {
  "interpreter": {
   "hash": "21522df79a5f2f7576e87cd4971b777eef95bcbd6396c0a74d6cd78603fae977"
  },
  "kernelspec": {
   "display_name": "Python 3.8.10 64-bit ('pytorch': conda)",
   "language": "python",
   "name": "python3"
  },
  "language_info": {
   "codemirror_mode": {
    "name": "ipython",
    "version": 3
   },
   "file_extension": ".py",
   "mimetype": "text/x-python",
   "name": "python",
   "nbconvert_exporter": "python",
   "pygments_lexer": "ipython3",
   "version": "3.8.10"
  },
  "orig_nbformat": 4
 },
 "nbformat": 4,
 "nbformat_minor": 2
}
