{
 "cells": [
  {
   "cell_type": "code",
   "execution_count": 1,
   "metadata": {},
   "outputs": [],
   "source": [
    "import numpy as np\n",
    "import matplotlib.pyplot as plt\n",
    "from parse import parse\n",
    "import cv2"
   ]
  },
  {
   "cell_type": "code",
   "execution_count": 2,
   "metadata": {},
   "outputs": [],
   "source": [
    "train_images, train_labels = parse('digitdata/trainingimages', 'digitdata/traininglabels', True)\n",
    "validation_images, validation_labels = parse('digitdata/validationimages', 'digitdata/validationlabels', True)\n",
    "test_images, test_labels = parse('digitdata/testimages', 'digitdata/testlabels', True)"
   ]
  },
  {
   "cell_type": "code",
   "execution_count": 64,
   "metadata": {},
   "outputs": [
    {
     "name": "stdout",
     "output_type": "stream",
     "text": [
      "[0.0958 0.1126 0.0976 0.0986 0.107  0.0868 0.1002 0.11   0.0924 0.099 ]\n"
     ]
    }
   ],
   "source": [
    "base_rates = np.bincount(train_labels)/train_labels.shape[0]\n",
    "print(base_rates)"
   ]
  },
  {
   "cell_type": "code",
   "execution_count": 55,
   "metadata": {},
   "outputs": [],
   "source": [
    "kernel = np.ones((3,3))\n",
    "images = np.swapaxes(np.swapaxes(train_images.astype(np.float64), 0, 2), 0, 1)\n",
    "dst = cv2.filter2D(src = images[:,:,0:512], ddepth = -1, kernel = kernel, anchor = (0, 0))\n",
    "zones = dst[::3,::3,:]"
   ]
  },
  {
   "cell_type": "code",
   "execution_count": null,
   "metadata": {},
   "outputs": [],
   "source": [
    "a = 0\n",
    "plt.imshow(train_images[a,:,:])\n",
    "plt.show()\n",
    "plt.imshow(dst[:,:,a])\n",
    "plt.show()\n",
    "plt.imshow(zones[:,:,a])"
   ]
  },
  {
   "cell_type": "code",
   "execution_count": 112,
   "metadata": {},
   "outputs": [],
   "source": [
    "def get_feature_probs(images = train_images, labels = train_labels, dim = (3,3), stride = -1, kernel = -1):\n",
    "\n",
    "    labels = labels.astype(bool)\n",
    "\n",
    "    if stride == -1:\n",
    "        stride = dim\n",
    "\n",
    "    if kernel == -1:\n",
    "        kernel = np.ones(dim)\n",
    "\n",
    "    pixel_quant = dim[0]*dim[1] + 1\n",
    "\n",
    "    kernel = np.ones(dim)\n",
    "    images = np.swapaxes(np.swapaxes(images.astype(np.float64), 0, 2), 0, 1)\n",
    "\n",
    "    dst = np.zeros_like(images)\n",
    "\n",
    "    if images.shape[2] > 512:\n",
    "        for i in range(int(np.ceil(images.shape[2]/512))):\n",
    "            dst[:, :, i*512:(i+1)*512] = cv2.filter2D(src = images[:, :, i*512:(i+1)*512], ddepth = -1, kernel = kernel, anchor = (0,0))\n",
    "    else:\n",
    "        dst= cv2.filter2D(src = images, ddepth = -1, kernel = kernel, anchor = (0,0))\n",
    "\n",
    "    zones = dst[::stride[0],::stride[1],:].astype(int)\n",
    "    zones = np.reshape(zones, (zones.shape[0]*zones.shape[1], zones.shape[2]))\n",
    "\n",
    "    zone_probs = np.zeros((zones.shape[0], pixel_quant, base_rates.shape[0]))\n",
    "\n",
    "    for i, zone in enumerate(zones):\n",
    "        for number in range(0, base_rates.shape[0]):\n",
    "\n",
    "            quant = np.bincount(zone[labels == number])\n",
    "\n",
    "            quant = np.pad(quant, (0, pixel_quant - quant.shape[0]), constant_values = 0)\n",
    "\n",
    "            if np.max(quant) != 0:\n",
    "                zone_probs[i, :, number] = quant/np.sum(quant)\n",
    "\n",
    "        zeros = zone_probs == 0\n",
    "        zone_probs[zeros] = 0.000001\n",
    "\n",
    "    return zone_probs"
   ]
  },
  {
   "cell_type": "code",
   "execution_count": null,
   "metadata": {},
   "outputs": [],
   "source": [
    "def get_feature_probs(images = train_images, labels = train_labels, dim = (3,3), stride = -1, kernel = -1):\n",
    "\n",
    "    labels = labels.astype(bool)\n",
    "\n",
    "    if stride == -1:\n",
    "        stride = dim\n",
    "\n",
    "    if kernel == -1:\n",
    "        kernel = np.ones(dim)\n",
    "\n",
    "    pixel_quant = dim[0]*dim[1] + 1\n",
    "\n",
    "    kernel = np.ones(dim)\n",
    "    images = np.swapaxes(np.swapaxes(images.astype(np.float64), 0, 2), 0, 1)\n",
    "\n",
    "    dst = np.zeros_like(images)\n",
    "\n",
    "    if images.shape[2] > 512:\n",
    "        for i in range(int(np.ceil(images.shape[2]/512))):\n",
    "            dst[:, :, i*512:(i+1)*512] = cv2.filter2D(src = images[:, :, i*512:(i+1)*512], ddepth = -1, kernel = kernel, anchor = (0,0))\n",
    "    else:\n",
    "        dst= cv2.filter2D(src = images, ddepth = -1, kernel = kernel, anchor = (0,0))\n",
    "\n",
    "    zones = dst[::stride[0],::stride[1],:].astype(int)\n",
    "    zones = np.reshape(zones, (zones.shape[0]*zones.shape[1], zones.shape[2]))\n",
    "\n",
    "    zone_probs = np.zeros((zones.shape[0], pixel_quant, base_rates.shape[0]))\n",
    "\n",
    "    for i, zone in enumerate(zones):\n",
    "        for number in range(0, base_rates.shape[0]):\n",
    "\n",
    "            quant = np.bincount(zone[labels == number])\n",
    "\n",
    "            quant = np.pad(quant, (0, pixel_quant - quant.shape[0]), constant_values = 0)\n",
    "\n",
    "            if np.max(quant) != 0:\n",
    "                zone_probs[i, :, number] = quant/np.sum(quant)\n",
    "\n",
    "        zeros = zone_probs == 0\n",
    "        zone_probs[zeros] = 0.000001\n",
    "\n",
    "    return zone_probs"
   ]
  },
  {
   "cell_type": "code",
   "execution_count": 113,
   "metadata": {},
   "outputs": [],
   "source": [
    "def get_features(images = train_images, dim = (3,3), stride = -1, kernel = -1):\n",
    "    if stride == -1:\n",
    "        stride = dim\n",
    "\n",
    "    if kernel == -1:\n",
    "        kernel = np.ones(dim)\n",
    "\n",
    "    kernel = np.ones(dim)\n",
    "    images = np.swapaxes(np.swapaxes(images.astype(np.float64), 0, 2), 0, 1)\n",
    "\n",
    "    dst = np.zeros_like(images)\n",
    "\n",
    "    if images.shape[2] > 512:\n",
    "        for i in range(int(np.ceil(images.shape[2]/512))):\n",
    "            dst[:, :, i*512:(i+1)*512] = cv2.filter2D(src = images[:, :, i*512:(i+1)*512], ddepth = -1, kernel = kernel, anchor = (0,0))\n",
    "    else:\n",
    "        dst= cv2.filter2D(src = images, ddepth = -1, kernel = kernel, anchor = (0,0))\n",
    "\n",
    "    zones = dst[::stride[0],::stride[1],:].astype(int)\n",
    "    zones = np.reshape(zones, (zones.shape[0]*zones.shape[1], zones.shape[2]))\n",
    "\n",
    "    return zones"
   ]
  },
  {
   "cell_type": "code",
   "execution_count": 124,
   "metadata": {},
   "outputs": [],
   "source": [
    "def predict(train_images = train_images, train_labels = train_labels, val_images = validation_images, val_labels = validation_labels):\n",
    "    dim = (1,1)\n",
    "\n",
    "    base_rates = np.bincount(train_labels)/train_labels.shape[0]\n",
    "\n",
    "    feature_probs = get_feature_probs(train_images, train_labels, dim, )\n",
    "    train_features = get_features(train_images, dim)\n",
    "    val_features = get_features(val_images, dim)\n",
    "\n",
    "    train_image_probs = np.product(feature_probs[np.arange(len(train_features))[:, np.newaxis], train_features], axis = 0)\n",
    "    train_preds = np.argmax(train_image_probs*base_rates, axis = 1)\n",
    "    train_acc = np.sum(train_preds == train_labels)/train_labels.shape[0]\n",
    "\n",
    "    val_image_probs = np.product(feature_probs[np.arange(len(val_features))[:, np.newaxis], val_features], axis = 0)\n",
    "    val_preds = np.argmax(val_image_probs* base_rates, axis = 1)\n",
    "    val_acc = np.sum(val_preds == val_labels)/val_labels.shape[0]\n",
    "\n",
    "    return train_acc, val_acc\n"
   ]
  },
  {
   "cell_type": "code",
   "execution_count": 125,
   "metadata": {},
   "outputs": [
    {
     "name": "stdout",
     "output_type": "stream",
     "text": [
      "[0.2008 0.202 ]\n"
     ]
    }
   ],
   "source": [
    "accuracy = np.zeros((10, 2), dtype= np.float64)\n",
    "for i in range(1, 11):\n",
    "    ammount = int(0.1 * i * train_images.shape[0] )\n",
    "    available_indices = np.random.choice(train_images.shape[0], ammount, replace = False)\n",
    "    available_images = train_images[available_indices]\n",
    "    available_labels = train_labels[available_indices]\n",
    "    accuracy[i-1] = np.array(predict(available_images, available_labels, validation_images, validation_labels))\n",
    "print(accuracy[-1,:])"
   ]
  },
  {
   "cell_type": "code",
   "execution_count": 123,
   "metadata": {},
   "outputs": [
    {
     "name": "stdout",
     "output_type": "stream",
     "text": [
      "[0.2008 0.202 ]\n"
     ]
    },
    {
     "data": {
      "image/png": "[encoded data removed]",
      "text/plain": [
       "<Figure size 720x360 with 1 Axes>"
      ]
     },
     "metadata": {
      "needs_background": "light"
     },
     "output_type": "display_data"
    }
   ],
   "source": [
    "plt.figure(figsize = (10, 5))\n",
    "x = np.linspace(10, 100, 10)\n",
    "plt.plot(x, accuracy[:,0], label = \"Training Accuracy\")\n",
    "plt.plot(x, accuracy[:,1], label = \"Validation Accuracy\")\n",
    "plt.legend()\n",
    "print(accuracy[-1,:])"
   ]
  }
 ],
 "metadata": {
  "interpreter": {
   "hash": "21522df79a5f2f7576e87cd4971b777eef95bcbd6396c0a74d6cd78603fae977"
  },
  "kernelspec": {
   "display_name": "Python 3.8.10 64-bit ('pytorch': conda)",
   "language": "python",
   "name": "python3"
  },
  "language_info": {
   "codemirror_mode": {
    "name": "ipython",
    "version": 3
   },
   "file_extension": ".py",
   "mimetype": "text/x-python",
   "name": "python",
   "nbconvert_exporter": "python",
   "pygments_lexer": "ipython3",
   "version": "3.8.10"
  },
  "orig_nbformat": 4
 },
 "nbformat": 4,
 "nbformat_minor": 2
}
