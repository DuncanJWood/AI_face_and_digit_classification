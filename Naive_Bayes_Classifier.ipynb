{
 "cells": [
  {
   "cell_type": "code",
   "execution_count": 1,
   "metadata": {},
   "outputs": [],
   "source": [
    "import numpy as np\n",
    "import matplotlib.pyplot as plt\n",
    "from parse import parse"
   ]
  },
  {
   "cell_type": "code",
   "execution_count": 176,
   "metadata": {},
   "outputs": [],
   "source": [
    "train_images, train_labels = parse('facedata/facedatatrain', 'facedata/facedatatrainlabels', False)\n",
    "validation_images, validation_labels = parse('facedata/facedatavalidation', 'facedata/facedatavalidationlabels', False)\n",
    "test_images, test_labels = parse('facedata/facedatatest', 'facedata/facedatatestlabels', False)"
   ]
  },
  {
   "cell_type": "code",
   "execution_count": 81,
   "metadata": {},
   "outputs": [],
   "source": [
    "train_images, train_labels = parse('digitdata/trainingimages', 'digitdata/traininglabels', True)\n",
    "validation_images, validation_labels = parse('digitdata/validationimages', 'digitdata/validationlabels', True)\n",
    "test_images, test_labels = parse('digitdata/testimages', 'digitdata/testlabels', True)"
   ]
  },
  {
   "cell_type": "code",
   "execution_count": 235,
   "metadata": {},
   "outputs": [
    {
     "name": "stdout",
     "output_type": "stream",
     "text": [
      "[0.51884701 0.48115299]\n"
     ]
    }
   ],
   "source": [
    "base_rate_true = np.bincount(train_labels)/train_labels.shape[0]\n",
    "print(base_rate_true)"
   ]
  },
  {
   "cell_type": "code",
   "execution_count": null,
   "metadata": {},
   "outputs": [],
   "source": [
    "num_black_pixels = np.sum(images, axis = (1,2))"
   ]
  },
  {
   "cell_type": "code",
   "execution_count": 277,
   "metadata": {},
   "outputs": [],
   "source": [
    "def black_pixels_in_zone(images, labels, roi):\n",
    "    images = images[:, roi[0]:roi[2], roi[1]:roi[3]]\n",
    "\n",
    "    pixels_in_zone = images[0].shape[0]*images[0].shape[1]\n",
    "    # print(pixels_in_zone)\n",
    "    black_pixels_prob = np.zeros((pixels_in_zone , 2))\n",
    "\n",
    "    for index in range(0, pixels_in_zone):\n",
    "        black_pixels_prob[index, 1] = np.sum(np.sum(images[labels.astype(bool)], axis = (1, 2)) == index)/labels[labels.astype(bool)].shape[0]\n",
    "        black_pixels_prob[index, 0] = np.sum(np.sum(images[np.invert(labels.astype(bool))], axis = (1, 2)) == index)/images[np.invert(labels.astype(bool))].shape[0]\n",
    "\n",
    "    return black_pixels_prob"
   ]
  },
  {
   "cell_type": "code",
   "execution_count": 236,
   "metadata": {},
   "outputs": [],
   "source": [
    "arr= np.array([0,1,2,3,4,5])"
   ]
  },
  {
   "cell_type": "code",
   "execution_count": 240,
   "metadata": {},
   "outputs": [
    {
     "data": {
      "text/plain": [
       "array([1, 2, 3, 4, 5])"
      ]
     },
     "execution_count": 240,
     "metadata": {},
     "output_type": "execute_result"
    }
   ],
   "source": [
    "arr[1:None]"
   ]
  },
  {
   "cell_type": "code",
   "execution_count": 304,
   "metadata": {},
   "outputs": [],
   "source": [
    "def zone_sum_prob(images, labels, num_of_zones):\n",
    "    div = np.sqrt(num_of_zones)\n",
    "\n",
    "    height = int(images[0].shape[0] // div)\n",
    "    width = int(images[0].shape[1] // div)\n",
    "    # number_of_zones = height * width\n",
    "    # print(type(height))\n",
    "    probs = []\n",
    "\n",
    "    i = 0 \n",
    "    j = 0 - width\n",
    "    for index in range(0, num_of_zones):\n",
    "\n",
    "        if index % div == 0:\n",
    "            j += width\n",
    "            i = 0\n",
    "        else:\n",
    "            i += height\n",
    "\n",
    "        zone_prob = black_pixels_in_zone(images, labels, [i, j, i + height, j + width])\n",
    "        probs.append(zone_prob)\n",
    "\n",
    "        \n",
    "        \n",
    "    # print(len(probs))\n",
    "    for index, prob in enumerate(probs):\n",
    "        # print(prob.shape)\n",
    "        if prob.shape[0] == 0:\n",
    "            print(index)\n",
    "    # print(probs)\n",
    "    return np.stack(probs, axis = 0)\n",
    "\n",
    "\n"
   ]
  },
  {
   "cell_type": "code",
   "execution_count": 305,
   "metadata": {},
   "outputs": [],
   "source": [
    "def zone_sum(images, labels, num_of_zones):\n",
    "    div = np.sqrt(num_of_zones)\n",
    "\n",
    "    height = int(images[0].shape[0] // div)\n",
    "    width = int(images[0].shape[1] // div)\n",
    "    # number_of_zones = height * width\n",
    "    # print(type(height))\n",
    "    sums = []\n",
    "\n",
    "    i = 0 \n",
    "    j = 0 - width\n",
    "    for index in range(0, num_of_zones):\n",
    "        if index % div == 0:\n",
    "            j += width\n",
    "            i = 0\n",
    "        else:\n",
    "            i += height\n",
    "\n",
    "        zone_sum  = np.sum(images[:,i:i+height, j:j+width], axis =(1, 2))\n",
    "        sums.append(zone_sum)\n",
    "\n",
    "    return np.stack(sums, axis = 0)"
   ]
  },
  {
   "cell_type": "code",
   "execution_count": 306,
   "metadata": {},
   "outputs": [],
   "source": [
    "zone_probs = zone_sum_prob(train_images, train_labels, 100)"
   ]
  },
  {
   "cell_type": "code",
   "execution_count": 307,
   "metadata": {},
   "outputs": [
    {
     "data": {
      "text/plain": [
       "(100, 42, 2)"
      ]
     },
     "execution_count": 307,
     "metadata": {},
     "output_type": "execute_result"
    }
   ],
   "source": [
    "zone_probs.shape"
   ]
  },
  {
   "cell_type": "code",
   "execution_count": 308,
   "metadata": {},
   "outputs": [],
   "source": [
    "zone_sums = zone_sum(train_images, train_labels, 100)"
   ]
  },
  {
   "cell_type": "code",
   "execution_count": 313,
   "metadata": {},
   "outputs": [
    {
     "data": {
      "text/plain": [
       "dtype('int32')"
      ]
     },
     "execution_count": 313,
     "metadata": {},
     "output_type": "execute_result"
    }
   ],
   "source": [
    "zone_sums.dtype"
   ]
  },
  {
   "cell_type": "code",
   "execution_count": 314,
   "metadata": {},
   "outputs": [
    {
     "ename": "ValueError",
     "evalue": "Need at least 0 and at most 32 array objects.",
     "output_type": "error",
     "traceback": [
      "\u001b[1;31m---------------------------------------------------------------------------\u001b[0m",
      "\u001b[1;31mValueError\u001b[0m                                Traceback (most recent call last)",
      "\u001b[1;32m~\\AppData\\Local\\Temp/ipykernel_17340/3956214199.py\u001b[0m in \u001b[0;36m<module>\u001b[1;34m\u001b[0m\n\u001b[1;32m----> 1\u001b[1;33m \u001b[0mzone_sums\u001b[0m\u001b[1;33m.\u001b[0m\u001b[0mchoose\u001b[0m\u001b[1;33m(\u001b[0m\u001b[0mzone_probs\u001b[0m\u001b[1;33m)\u001b[0m\u001b[1;33m\u001b[0m\u001b[1;33m\u001b[0m\u001b[0m\n\u001b[0m",
      "\u001b[1;31mValueError\u001b[0m: Need at least 0 and at most 32 array objects."
     ]
    }
   ],
   "source": [
    "zone_sums.choose(zone_probs)"
   ]
  },
  {
   "cell_type": "code",
   "execution_count": null,
   "metadata": {},
   "outputs": [],
   "source": [
    "zone_probs()"
   ]
  },
  {
   "cell_type": "code",
   "execution_count": 220,
   "metadata": {},
   "outputs": [],
   "source": [
    "num_pixels_prob_1 = black_pixels_in_zone(train_images, train_labels, [0, 0, 7, 6])"
   ]
  },
  {
   "cell_type": "code",
   "execution_count": 227,
   "metadata": {},
   "outputs": [
    {
     "data": {
      "text/plain": [
       "array([0.48717949, 0.53917051])"
      ]
     },
     "execution_count": 227,
     "metadata": {},
     "output_type": "execute_result"
    }
   ],
   "source": [
    "num_pixels_prob_1[np.argmax(num_pixels_prob_1[:,0])]"
   ]
  },
  {
   "cell_type": "code",
   "execution_count": 229,
   "metadata": {},
   "outputs": [
    {
     "data": {
      "text/plain": [
       "0.5188470066518847"
      ]
     },
     "execution_count": 229,
     "metadata": {},
     "output_type": "execute_result"
    }
   ],
   "source": [
    "predictions = num_pixels_prob_1[num_pixels, 0] * base_rate_true[0] < num_pixels_prob_1[num_pixels, 1] * base_rate_true[0]\n",
    "np.sum(predictions == train_labels)/train_labels.shape[0]"
   ]
  },
  {
   "cell_type": "code",
   "execution_count": 209,
   "metadata": {},
   "outputs": [
    {
     "data": {
      "text/plain": [
       "array([0.51884701, 0.48115299])"
      ]
     },
     "execution_count": 209,
     "metadata": {},
     "output_type": "execute_result"
    }
   ],
   "source": [
    "base_rate_true"
   ]
  },
  {
   "cell_type": "code",
   "execution_count": 187,
   "metadata": {},
   "outputs": [],
   "source": [
    "num_pixels = np.sum(train_images, axis = (1, 2))"
   ]
  },
  {
   "cell_type": "code",
   "execution_count": 188,
   "metadata": {},
   "outputs": [
    {
     "data": {
      "text/plain": [
       "(451,)"
      ]
     },
     "execution_count": 188,
     "metadata": {},
     "output_type": "execute_result"
    }
   ],
   "source": [
    "num_pixels.shape"
   ]
  },
  {
   "cell_type": "code",
   "execution_count": 231,
   "metadata": {},
   "outputs": [],
   "source": [
    "pixels_in_image = train_images[0].shape[0]*train_images[0].shape[1]\n",
    "num_pixels_prob = np.zeros((pixels_in_image, 2))\n",
    "for index in range(0, pixels_in_image):\n",
    "    num_pixels_prob[index, 1] = np.sum(np.sum(train_images[train_labels.astype(bool)], axis = (1, 2)) == index)/train_labels[train_labels.astype(bool)].shape[0]\n",
    "    num_pixels_prob[index, 0] = np.sum(np.sum(train_images[np.invert(train_labels.astype(bool))], axis = (1, 2)) == index)/train_images[np.invert(train_labels.astype(bool))].shape[0]"
   ]
  },
  {
   "cell_type": "code",
   "execution_count": 232,
   "metadata": {},
   "outputs": [
    {
     "data": {
      "text/plain": [
       "0.8248337028824834"
      ]
     },
     "execution_count": 232,
     "metadata": {},
     "output_type": "execute_result"
    }
   ],
   "source": [
    "predictions = num_pixels_prob[num_pixels, 0] * base_rate_true[0] < num_pixels_prob[num_pixels, 1] * base_rate_true[0]\n",
    "np.sum(predictions == train_labels)/train_labels.shape[0]"
   ]
  },
  {
   "cell_type": "code",
   "execution_count": 210,
   "metadata": {},
   "outputs": [],
   "source": [
    "num_pixels_validation = np.sum(validation_images, axis = (1, 2))"
   ]
  },
  {
   "cell_type": "code",
   "execution_count": 233,
   "metadata": {},
   "outputs": [
    {
     "data": {
      "text/plain": [
       "0.6046511627906976"
      ]
     },
     "execution_count": 233,
     "metadata": {},
     "output_type": "execute_result"
    }
   ],
   "source": [
    "predictions = num_pixels_prob[num_pixels_validation, 0] * base_rate_true[0] < num_pixels_prob[num_pixels_validation, 1] * base_rate_true[0]\n",
    "np.sum(predictions == validation_labels)/validation_labels.shape[0]"
   ]
  },
  {
   "cell_type": "code",
   "execution_count": 203,
   "metadata": {},
   "outputs": [
    {
     "data": {
      "text/plain": [
       "217"
      ]
     },
     "execution_count": 203,
     "metadata": {},
     "output_type": "execute_result"
    }
   ],
   "source": [
    "train_labels[train_labels.astype(bool)].shape[0]"
   ]
  },
  {
   "cell_type": "code",
   "execution_count": 199,
   "metadata": {},
   "outputs": [
    {
     "data": {
      "text/plain": [
       "451"
      ]
     },
     "execution_count": 199,
     "metadata": {},
     "output_type": "execute_result"
    }
   ],
   "source": [
    "train_images[train_labels].shape[0]"
   ]
  },
  {
   "cell_type": "code",
   "execution_count": 204,
   "metadata": {},
   "outputs": [
    {
     "data": {
      "text/plain": [
       "1.0"
      ]
     },
     "execution_count": 204,
     "metadata": {},
     "output_type": "execute_result"
    }
   ],
   "source": [
    "np.sum(np.sum(train_images[train_labels], axis = (1, 2)) == 728)/train_labels[train_labels.astype(bool)].shape[0]"
   ]
  },
  {
   "cell_type": "code",
   "execution_count": 182,
   "metadata": {},
   "outputs": [
    {
     "data": {
      "text/plain": [
       "0.0"
      ]
     },
     "execution_count": 182,
     "metadata": {},
     "output_type": "execute_result"
    }
   ],
   "source": [
    "np.sum(np.sum(train_images[train_labels], axis = (1, 2)) == 422)/train_images[train_labels].shape[0]"
   ]
  },
  {
   "cell_type": "code",
   "execution_count": 186,
   "metadata": {},
   "outputs": [
    {
     "data": {
      "text/plain": [
       "0"
      ]
     },
     "execution_count": 186,
     "metadata": {},
     "output_type": "execute_result"
    }
   ],
   "source": [
    "np.argmax(num_pixels_prob[:, 1])"
   ]
  }
 ],
 "metadata": {
  "interpreter": {
   "hash": "21522df79a5f2f7576e87cd4971b777eef95bcbd6396c0a74d6cd78603fae977"
  },
  "kernelspec": {
   "display_name": "Python 3.8.10 64-bit ('pytorch': conda)",
   "language": "python",
   "name": "python3"
  },
  "language_info": {
   "codemirror_mode": {
    "name": "ipython",
    "version": 3
   },
   "file_extension": ".py",
   "mimetype": "text/x-python",
   "name": "python",
   "nbconvert_exporter": "python",
   "pygments_lexer": "ipython3",
   "version": "3.8.10"
  },
  "orig_nbformat": 4
 },
 "nbformat": 4,
 "nbformat_minor": 2
}
