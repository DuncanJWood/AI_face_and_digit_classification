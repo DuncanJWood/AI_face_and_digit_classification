{
 "cells": [
  {
   "cell_type": "code",
   "execution_count": 492,
   "metadata": {},
   "outputs": [],
   "source": [
    "import numpy as np\n",
    "import matplotlib.pyplot as plt\n",
    "from parse import parse\n",
    "import cv2"
   ]
  },
  {
   "cell_type": "code",
   "execution_count": 176,
   "metadata": {},
   "outputs": [],
   "source": [
    "train_images, train_labels = parse('facedata/facedatatrain', 'facedata/facedatatrainlabels', False)\n",
    "validation_images, validation_labels = parse('facedata/facedatavalidation', 'facedata/facedatavalidationlabels', False)\n",
    "test_images, test_labels = parse('facedata/facedatatest', 'facedata/facedatatestlabels', False)"
   ]
  },
  {
   "cell_type": "code",
   "execution_count": 81,
   "metadata": {},
   "outputs": [],
   "source": [
    "train_images, train_labels = parse('digitdata/trainingimages', 'digitdata/traininglabels', True)\n",
    "validation_images, validation_labels = parse('digitdata/validationimages', 'digitdata/validationlabels', True)\n",
    "test_images, test_labels = parse('digitdata/testimages', 'digitdata/testlabels', True)"
   ]
  },
  {
   "cell_type": "code",
   "execution_count": 235,
   "metadata": {},
   "outputs": [
    {
     "name": "stdout",
     "output_type": "stream",
     "text": [
      "[0.51884701 0.48115299]\n"
     ]
    }
   ],
   "source": [
    "base_rate_true = np.bincount(train_labels)/train_labels.shape[0]\n",
    "print(base_rate_true)"
   ]
  },
  {
   "cell_type": "code",
   "execution_count": 686,
   "metadata": {},
   "outputs": [],
   "source": [
    "kernel = np.ones((7,3))\n",
    "images = np.swapaxes(np.swapaxes(train_images.astype(np.float64), 0, 2), 0, 1)\n",
    "dst = cv2.filter2D(src = images, ddepth = -1, kernel = kernel, anchor = (0,0))\n",
    "zones = dst[::7,::6,:]"
   ]
  },
  {
   "cell_type": "code",
   "execution_count": 687,
   "metadata": {},
   "outputs": [
    {
     "data": {
      "image/png": "[encoded data removed]",
      "text/plain": [
       "<Figure size 432x288 with 1 Axes>"
      ]
     },
     "metadata": {
      "needs_background": "light"
     },
     "output_type": "display_data"
    },
    {
     "data": {
      "image/png": "[encoded data removed]",
      "text/plain": [
       "<Figure size 432x288 with 1 Axes>"
      ]
     },
     "metadata": {
      "needs_background": "light"
     },
     "output_type": "display_data"
    },
    {
     "data": {
      "image/png": "[encoded data removed]",
      "text/plain": [
       "<Figure size 432x288 with 1 Axes>"
      ]
     },
     "metadata": {
      "needs_background": "light"
     },
     "output_type": "display_data"
    },
    {
     "data": {
      "text/plain": [
       "<matplotlib.image.AxesImage at 0x20e25460ee0>"
      ]
     },
     "execution_count": 687,
     "metadata": {},
     "output_type": "execute_result"
    },
    {
     "data": {
      "image/png": "[encoded data removed]",
      "text/plain": [
       "<Figure size 432x288 with 1 Axes>"
      ]
     },
     "metadata": {
      "needs_background": "light"
     },
     "output_type": "display_data"
    }
   ],
   "source": [
    "a = 0\n",
    "plt.imshow(train_images[a,:,:])\n",
    "plt.show()\n",
    "plt.imshow(dst[:,:,a])\n",
    "plt.show()\n",
    "plt.imshow(dst[::7,::6,a])\n",
    "plt.show()\n",
    "plt.imshow(zones[:,:,a])"
   ]
  },
  {
   "cell_type": "code",
   "execution_count": 580,
   "metadata": {},
   "outputs": [
    {
     "data": {
      "text/plain": [
       "array([[0., 0., 0., 0., 0., 6., 0., 0., 0., 0.],\n",
       "       [0., 0., 0., 1., 3., 0., 3., 3., 3., 3.],\n",
       "       [0., 0., 5., 5., 2., 6., 5., 0., 1., 3.],\n",
       "       [0., 0., 0., 0., 0., 3., 3., 0., 0., 1.],\n",
       "       [0., 5., 0., 4., 3., 3., 5., 3., 0., 6.],\n",
       "       [0., 3., 0., 2., 1., 7., 0., 7., 0., 0.],\n",
       "       [0., 0., 4., 6., 8., 7., 7., 7., 2., 1.],\n",
       "       [0., 0., 2., 7., 4., 0., 4., 2., 4., 5.],\n",
       "       [0., 0., 3., 2., 1., 7., 1., 0., 6., 3.],\n",
       "       [2., 3., 0., 3., 0., 0., 0., 3., 3., 3.]])"
      ]
     },
     "execution_count": 580,
     "metadata": {},
     "output_type": "execute_result"
    }
   ],
   "source": [
    "zones[:,:,a]"
   ]
  },
  {
   "cell_type": "code",
   "execution_count": 680,
   "metadata": {},
   "outputs": [],
   "source": [
    "def get_feature_probs(images = train_images, labels = train_labels, dim = (7,6), stride = -1, kernel = -1):\n",
    "\n",
    "    labels = train_labels.astype(bool)\n",
    "\n",
    "    if stride == -1:\n",
    "        stride = dim\n",
    "\n",
    "    if kernel == -1:\n",
    "        kernel = np.ones(dim)\n",
    "\n",
    "    pixel_quant = dim[0]*dim[1]\n",
    "\n",
    "    kernel = np.ones(dim)\n",
    "    images = np.swapaxes(np.swapaxes(images.astype(np.float64), 0, 2), 0, 1)\n",
    "    dst = cv2.filter2D(src = images, ddepth = -1, kernel = kernel)\n",
    "\n",
    "    zones = dst[::stride[0],::stride[1],:].astype(int)\n",
    "    zones = np.reshape(zones, (zones.shape[0]*zones.shape[1], 451))\n",
    "\n",
    "    zone_probs = np.zeros((zones.shape[0], pixel_quant, 2))\n",
    "\n",
    "    for i, zone in enumerate(zones):\n",
    "        quant_false = np.bincount(zone[np.invert(labels)])\n",
    "        quant_false = np.pad(quant_false, (0, pixel_quant - quant_false.shape[0]), constant_values = 0)\n",
    "        quant_false = quant_false/np.sum(quant_false)\n",
    "\n",
    "        quant_true = np.bincount(zone[labels])\n",
    "        quant_true = np.pad(quant_true, (0, pixel_quant - quant_true.shape[0]), constant_values = 0)\n",
    "        quant_true = quant_true/np.sum(quant_true)\n",
    "\n",
    "        zone_probs[i, :, 0], zone_probs[i, :, 1] = quant_false, quant_true\n",
    "\n",
    "        zeros = zone_probs == 0\n",
    "        zone_probs[zeros] = 0.000001\n",
    "\n",
    "    return zone_probs"
   ]
  },
  {
   "cell_type": "code",
   "execution_count": 681,
   "metadata": {},
   "outputs": [
    {
     "ename": "SyntaxError",
     "evalue": "unexpected EOF while parsing (Temp/ipykernel_17340/38671275.py, line 1)",
     "output_type": "error",
     "traceback": [
      "\u001b[1;36m  File \u001b[1;32m\"C:\\Users\\17329\\AppData\\Local\\Temp/ipykernel_17340/38671275.py\"\u001b[1;36m, line \u001b[1;32m1\u001b[0m\n\u001b[1;33m    def feature_probs(images = train_images, labels = train_labels, dim = (7,6), stride = -1, kernel = -1):\u001b[0m\n\u001b[1;37m                                                                                                           ^\u001b[0m\n\u001b[1;31mSyntaxError\u001b[0m\u001b[1;31m:\u001b[0m unexpected EOF while parsing\n"
     ]
    }
   ],
   "source": [
    "def get_features(images = train_images, dim = (7,6), stride = -1, kernel = -1):\n",
    "    if stride == -1:\n",
    "        stride = dim\n",
    "\n",
    "    if kernel == -1:\n",
    "        kernel = np.ones(dim)\n",
    "\n",
    "    pixel_quant = dim[0]*dim[1]\n",
    "\n",
    "    kernel = np.ones(dim)\n",
    "    images = np.swapaxes(np.swapaxes(images.astype(np.float64), 0, 2), 0, 1)\n",
    "    dst = cv2.filter2D(src = images, ddepth = -1, kernel = kernel)\n",
    "\n",
    "    zones = dst[::stride[0],::stride[1],:].astype(int)\n",
    "    zones = np.reshape(zones, (zones.shape[0]*zones.shape[1], 451))\n",
    "\n",
    "    "
   ]
  },
  {
   "cell_type": "code",
   "execution_count": 683,
   "metadata": {},
   "outputs": [],
   "source": [
    "images = train_images \n",
    "labels = train_labels\n",
    "dim = (7,6) \n",
    "stride = -1 \n",
    "kernel = -1\n",
    "\n",
    "if stride == -1:\n",
    "    stride = dim\n",
    "\n",
    "if kernel == -1:\n",
    "    kernel = np.ones(dim)\n",
    "\n",
    "pixel_quant = dim[0]*dim[1]\n",
    "\n",
    "kernel = np.ones(dim)\n",
    "images = np.swapaxes(np.swapaxes(images.astype(np.float64), 0, 2), 0, 1)\n",
    "dst = cv2.filter2D(src = images, ddepth = -1, kernel = kernel)\n",
    "\n",
    "zones = dst[::stride[0],::stride[1],:].astype(int)\n",
    "zones = np.reshape(zones, (zones.shape[0]*zones.shape[1], 451))"
   ]
  },
  {
   "cell_type": "code",
   "execution_count": 677,
   "metadata": {},
   "outputs": [],
   "source": [
    "zone_probs = get_feature_probs(train_images, train_labels, dim=(7,6), stride = -1, kernel = -1)"
   ]
  },
  {
   "cell_type": "code",
   "execution_count": 679,
   "metadata": {},
   "outputs": [
    {
     "data": {
      "text/plain": [
       "(100, 42, 2)"
      ]
     },
     "execution_count": 679,
     "metadata": {},
     "output_type": "execute_result"
    }
   ],
   "source": [
    "zone_probs.shape"
   ]
  },
  {
   "cell_type": "code",
   "execution_count": 620,
   "metadata": {},
   "outputs": [
    {
     "data": {
      "text/plain": [
       "array([298,   0,  11,   0,  15,   0,  13,   0,   8,   0,  64,   0,  23,\n",
       "         0,  16,   0,   3,   0,   0,   0,   0,   0,   0,   0,   0,   0,\n",
       "         0,   0,   0,   0,   0,   0,   0,   0,   0,   0,   0,   0,   0,\n",
       "         0,   0,   0], dtype=int64)"
      ]
     },
     "execution_count": 620,
     "metadata": {},
     "output_type": "execute_result"
    }
   ],
   "source": [
    "np.pad(quantities, (0, pixel_probs[:,0].shape[0] - quantities.shape[0]), constant_values = 0)"
   ]
  },
  {
   "cell_type": "code",
   "execution_count": 634,
   "metadata": {},
   "outputs": [
    {
     "data": {
      "text/plain": [
       "array([298,   0,  11,   0,  15,   0,  13,   0,   8,   0,  64,   0,  23,\n",
       "         0,  16,   0,   3], dtype=int64)"
      ]
     },
     "execution_count": 634,
     "metadata": {},
     "output_type": "execute_result"
    }
   ],
   "source": [
    "np.bincount(zones[0,0,:])"
   ]
  },
  {
   "cell_type": "code",
   "execution_count": 602,
   "metadata": {},
   "outputs": [
    {
     "data": {
      "text/plain": [
       "(10, 10, 451)"
      ]
     },
     "execution_count": 602,
     "metadata": {},
     "output_type": "execute_result"
    }
   ],
   "source": [
    "zones.shape"
   ]
  },
  {
   "cell_type": "code",
   "execution_count": 603,
   "metadata": {},
   "outputs": [
    {
     "data": {
      "text/plain": [
       "45100"
      ]
     },
     "execution_count": 603,
     "metadata": {},
     "output_type": "execute_result"
    }
   ],
   "source": [
    "10*10*451"
   ]
  },
  {
   "cell_type": "code",
   "execution_count": 600,
   "metadata": {},
   "outputs": [
    {
     "data": {
      "text/plain": [
       "array([ 0,  6,  0,  0,  0,  0,  0,  0,  0,  0,  0,  0,  0, 10,  0, 10,  0,\n",
       "        0,  0, 10,  0, 12, 10,  0, 16,  0,  0,  0,  0, 10,  0,  0, 10,  0,\n",
       "        0,  6,  0,  0,  0,  0, 10,  0,  0,  8,  0,  0,  4,  8,  0,  4,  0,\n",
       "       10, 16, 10,  6,  6,  0,  0, 10,  0,  0,  0,  0,  6,  2,  0,  0,  0,\n",
       "        0,  0,  0, 10,  0, 10,  0,  0,  0, 10,  0,  0,  0,  0, 10,  0,  0,\n",
       "        0,  8,  0, 12, 12, 10,  0, 10, 10,  0, 10,  0,  0,  0,  0,  0,  0,\n",
       "        0, 10,  0, 10,  4,  0,  0,  0,  0,  0,  0, 10,  0,  0,  0,  6, 10,\n",
       "        0, 10,  0, 10,  8,  0,  0,  0,  0,  0,  0, 10,  0,  0,  0,  0, 10,\n",
       "        0,  0,  0,  0, 12,  0, 10,  0, 10, 10,  0,  0,  0,  0,  0,  0,  0,\n",
       "        0,  0, 12,  0,  0,  0, 14, 12,  0,  0,  6,  0,  0,  0, 10,  0,  0,\n",
       "       10, 12,  0, 10,  2,  0,  0,  0,  0,  4,  0,  0,  0,  0,  0,  2, 10,\n",
       "        0,  4,  0, 10,  0, 10,  0,  0,  0,  0,  6, 10, 12, 10,  2,  0,  0,\n",
       "        0, 10,  0,  0,  0,  0, 12,  0,  0,  0,  0,  4,  0,  2,  0, 12, 12,\n",
       "        4,  4,  6,  0,  0,  0, 12,  0,  0,  0,  0, 10,  0,  0,  0,  0,  0,\n",
       "       14,  0,  0, 14,  2,  0,  8,  6, 10,  0, 10,  0,  0,  0,  0, 14,  0,\n",
       "        0, 10,  0,  0,  0, 12,  0,  0, 14,  0,  0,  0,  0,  0, 14,  8,  0,\n",
       "       10, 14, 10,  0,  4, 12,  0,  0, 14,  0, 10,  0,  8,  0,  0, 10,  0,\n",
       "        0,  0,  0, 10,  0,  0, 14,  0,  0,  6,  0,  0,  0,  0,  0,  0, 10,\n",
       "       14, 10,  0,  0,  0,  8,  0,  0,  0,  0,  0, 12, 10,  0,  0,  0,  0,\n",
       "        0,  0, 10,  6,  0,  0,  0,  0,  0, 10,  6,  0, 12,  0, 12,  0, 14,\n",
       "        0,  0, 14,  0, 12,  0,  4,  0, 10,  0,  4,  0, 10,  4,  0,  0,  0,\n",
       "        0,  0,  0,  0,  0,  2, 10,  2,  0,  0, 12,  0,  0,  0,  0, 10,  0,\n",
       "        4,  0, 12,  0,  0,  0,  0,  0,  0, 10,  0,  0, 10,  0,  0,  0,  0,\n",
       "       12, 10, 12,  0, 10,  0,  0,  2, 14,  2,  0,  0,  0,  0,  0, 16,  0,\n",
       "        0, 14, 10,  0,  0,  2,  0,  0,  0,  0,  0,  0, 14,  0,  0,  0,  4,\n",
       "        0,  0,  0,  4,  0, 14, 12,  0,  0,  0, 10,  0,  0,  0,  0,  0, 10,\n",
       "        0,  0,  0,  0,  0, 10,  0,  0,  0])"
      ]
     },
     "execution_count": 600,
     "metadata": {},
     "output_type": "execute_result"
    }
   ],
   "source": [
    "zones[0,0,:]"
   ]
  },
  {
   "cell_type": "code",
   "execution_count": null,
   "metadata": {},
   "outputs": [],
   "source": [
    "num_black_pixels = np.sum(images, axis = (1,2))"
   ]
  },
  {
   "cell_type": "code",
   "execution_count": 277,
   "metadata": {},
   "outputs": [],
   "source": [
    "def black_pixels_in_zone(images, labels, roi):\n",
    "    images = images[:, roi[0]:roi[2], roi[1]:roi[3]]\n",
    "\n",
    "    pixels_in_zone = images[0].shape[0]*images[0].shape[1]\n",
    "    # print(pixels_in_zone)\n",
    "    black_pixels_prob = np.zeros((pixels_in_zone , 2))\n",
    "\n",
    "    for index in range(0, pixels_in_zone):\n",
    "        black_pixels_prob[index, 1] = np.sum(np.sum(images[labels.astype(bool)], axis = (1, 2)) == index)/labels[labels.astype(bool)].shape[0]\n",
    "        black_pixels_prob[index, 0] = np.sum(np.sum(images[np.invert(labels.astype(bool))], axis = (1, 2)) == index)/images[np.invert(labels.astype(bool))].shape[0]\n",
    "\n",
    "    return black_pixels_prob"
   ]
  },
  {
   "cell_type": "code",
   "execution_count": 344,
   "metadata": {},
   "outputs": [],
   "source": [
    "def zone_sum_prob(images, labels, num_of_zones):\n",
    "    div = np.sqrt(num_of_zones)\n",
    "\n",
    "    height = int(images[0].shape[0] // div)\n",
    "    width = int(images[0].shape[1] // div)\n",
    "    # number_of_zones = height * width\n",
    "    # print(type(height))\n",
    "    probs = []\n",
    "\n",
    "    i = 0 \n",
    "    j = 0 - width\n",
    "    for index in range(0, num_of_zones):\n",
    "\n",
    "        if index % div == 0:\n",
    "            j += width\n",
    "            i = 0\n",
    "        else:\n",
    "            i += height\n",
    "\n",
    "        zone_prob = black_pixels_in_zone(images, labels, [i, j, i + height, j + width])\n",
    "        probs.append(zone_prob)\n",
    "   \n",
    "    # print(len(probs))\n",
    "    for index, prob in enumerate(probs):\n",
    "        # print(prob.shape)\n",
    "        if prob.shape[0] == 0:\n",
    "            print(index)\n",
    "    # print(probs)\n",
    "    return np.stack(probs, axis = 0)\n",
    "\n",
    "\n"
   ]
  },
  {
   "cell_type": "code",
   "execution_count": 481,
   "metadata": {},
   "outputs": [],
   "source": [
    "def zone_sum(images, num_of_zones):\n",
    "    div = np.sqrt(num_of_zones)\n",
    "\n",
    "    height = int(images[0].shape[0] // div)\n",
    "    width = int(images[0].shape[1] // div)\n",
    "    # number_of_zones = height * width\n",
    "    # print(type(height))\n",
    "    sums = []\n",
    "\n",
    "    i = 0 \n",
    "    j = 0 - width\n",
    "    for index in range(0, num_of_zones):\n",
    "        if index % div == 0:\n",
    "            j += width\n",
    "            i = 0\n",
    "        else:\n",
    "            i += height\n",
    "\n",
    "        zone_sum  = np.sum(images[:,i:i+height, j:j+width], axis =(1, 2))\n",
    "        sums.append(zone_sum)\n",
    "\n",
    "    return np.stack(sums, axis = 1)"
   ]
  },
  {
   "cell_type": "code",
   "execution_count": 479,
   "metadata": {},
   "outputs": [],
   "source": [
    "def get_preds(images, num_of_zones, probs):\n",
    "    zone_sums = zone_sum(images, num_of_zones)\n",
    "    image_zone_probs = probs[zone_sums[:,:], zone_sums[:],:]\n",
    "\n",
    "    zeros = image_zone_probs == 0\n",
    "    image_zone_probs[zeros] = 0.000001\n",
    "    image_zone_probs = np.prod(image_zone_probs, axis = 1)\n",
    "\n",
    "    preds = image_zone_probs[:,0]*base_rate_true[0] < image_zone_probs[:,1]*base_rate_true[1]\n",
    "\n",
    "    return preds"
   ]
  },
  {
   "cell_type": "code",
   "execution_count": 486,
   "metadata": {},
   "outputs": [],
   "source": [
    "zone_probs = zone_sum_prob(train_images, train_labels, 100)\n",
    "zone_sums = zone_sum(train_images, 100)\n",
    "image_zone_probs = zone_probs[zone_sums[:,:], zone_sums[:],:]"
   ]
  },
  {
   "cell_type": "code",
   "execution_count": 487,
   "metadata": {},
   "outputs": [],
   "source": [
    "zeros = image_zone_probs == 0\n",
    "image_zone_probs[zeros] = 0.000001\n",
    "image_zone_probs = np.prod(image_zone_probs, axis = 1)"
   ]
  },
  {
   "cell_type": "code",
   "execution_count": 488,
   "metadata": {},
   "outputs": [
    {
     "data": {
      "text/plain": [
       "0.516629711751663"
      ]
     },
     "execution_count": 488,
     "metadata": {},
     "output_type": "execute_result"
    }
   ],
   "source": [
    "preds = image_zone_probs[:,0]*base_rate_true[0] < image_zone_probs[:,1]*base_rate_true[1]\n",
    "np.sum(preds == train_labels)/train_labels.shape[0]"
   ]
  },
  {
   "cell_type": "code",
   "execution_count": 489,
   "metadata": {},
   "outputs": [
    {
     "data": {
      "text/plain": [
       "array([450,   1], dtype=int64)"
      ]
     },
     "execution_count": 489,
     "metadata": {},
     "output_type": "execute_result"
    }
   ],
   "source": [
    "np.bincount(preds)"
   ]
  },
  {
   "cell_type": "code",
   "execution_count": 484,
   "metadata": {},
   "outputs": [
    {
     "data": {
      "text/plain": [
       "0.5149501661129569"
      ]
     },
     "execution_count": 484,
     "metadata": {},
     "output_type": "execute_result"
    }
   ],
   "source": [
    "zone_probs = zone_sum_prob(validation_images, validation_labels, 100)\n",
    "np.sum(get_preds(validation_images, 100, zone_probs)== validation_labels)/validation_labels.shape[0]"
   ]
  },
  {
   "cell_type": "code",
   "execution_count": null,
   "metadata": {},
   "outputs": [],
   "source": [
    "predictions = num_pixels_prob[num_pixels_validation, 0] * base_rate_true[0] < num_pixels_prob[num_pixels_validation, 1] * base_rate_true[0]\n",
    "np.sum(predictions == validation_labels)/validation_labels.shape[0]"
   ]
  },
  {
   "cell_type": "code",
   "execution_count": 220,
   "metadata": {},
   "outputs": [],
   "source": [
    "num_pixels_prob_1 = black_pixels_in_zone(train_images, train_labels, [0, 0, 7, 6])"
   ]
  },
  {
   "cell_type": "code",
   "execution_count": 227,
   "metadata": {},
   "outputs": [
    {
     "data": {
      "text/plain": [
       "array([0.48717949, 0.53917051])"
      ]
     },
     "execution_count": 227,
     "metadata": {},
     "output_type": "execute_result"
    }
   ],
   "source": [
    "num_pixels_prob_1[np.argmax(num_pixels_prob_1[:,0])]"
   ]
  },
  {
   "cell_type": "code",
   "execution_count": 229,
   "metadata": {},
   "outputs": [
    {
     "data": {
      "text/plain": [
       "0.5188470066518847"
      ]
     },
     "execution_count": 229,
     "metadata": {},
     "output_type": "execute_result"
    }
   ],
   "source": [
    "predictions = num_pixels_prob_1[num_pixels, 0] * base_rate_true[0] < num_pixels_prob_1[num_pixels, 1] * base_rate_true[0]\n",
    "np.sum(predictions == train_labels)/train_labels.shape[0]"
   ]
  },
  {
   "cell_type": "code",
   "execution_count": 209,
   "metadata": {},
   "outputs": [
    {
     "data": {
      "text/plain": [
       "array([0.51884701, 0.48115299])"
      ]
     },
     "execution_count": 209,
     "metadata": {},
     "output_type": "execute_result"
    }
   ],
   "source": [
    "base_rate_true"
   ]
  },
  {
   "cell_type": "code",
   "execution_count": 187,
   "metadata": {},
   "outputs": [],
   "source": [
    "num_pixels = np.sum(train_images, axis = (1, 2))"
   ]
  },
  {
   "cell_type": "code",
   "execution_count": 188,
   "metadata": {},
   "outputs": [
    {
     "data": {
      "text/plain": [
       "(451,)"
      ]
     },
     "execution_count": 188,
     "metadata": {},
     "output_type": "execute_result"
    }
   ],
   "source": [
    "num_pixels.shape"
   ]
  },
  {
   "cell_type": "code",
   "execution_count": 231,
   "metadata": {},
   "outputs": [],
   "source": [
    "pixels_in_image = train_images[0].shape[0]*train_images[0].shape[1]\n",
    "num_pixels_prob = np.zeros((pixels_in_image, 2))\n",
    "for index in range(0, pixels_in_image):\n",
    "    num_pixels_prob[index, 1] = np.sum(np.sum(train_images[train_labels.astype(bool)], axis = (1, 2)) == index)/train_labels[train_labels.astype(bool)].shape[0]\n",
    "    num_pixels_prob[index, 0] = np.sum(np.sum(train_images[np.invert(train_labels.astype(bool))], axis = (1, 2)) == index)/train_images[np.invert(train_labels.astype(bool))].shape[0]"
   ]
  },
  {
   "cell_type": "code",
   "execution_count": 232,
   "metadata": {},
   "outputs": [
    {
     "data": {
      "text/plain": [
       "0.8248337028824834"
      ]
     },
     "execution_count": 232,
     "metadata": {},
     "output_type": "execute_result"
    }
   ],
   "source": [
    "predictions = num_pixels_prob[num_pixels, 0] * base_rate_true[0] < num_pixels_prob[num_pixels, 1] * base_rate_true[0]\n",
    "np.sum(predictions == train_labels)/train_labels.shape[0]"
   ]
  },
  {
   "cell_type": "code",
   "execution_count": 210,
   "metadata": {},
   "outputs": [],
   "source": [
    "num_pixels_validation = np.sum(validation_images, axis = (1, 2))"
   ]
  },
  {
   "cell_type": "code",
   "execution_count": 233,
   "metadata": {},
   "outputs": [
    {
     "data": {
      "text/plain": [
       "0.6046511627906976"
      ]
     },
     "execution_count": 233,
     "metadata": {},
     "output_type": "execute_result"
    }
   ],
   "source": [
    "predictions = num_pixels_prob[num_pixels_validation, 0] * base_rate_true[0] < num_pixels_prob[num_pixels_validation, 1] * base_rate_true[0]\n",
    "np.sum(predictions == validation_labels)/validation_labels.shape[0]"
   ]
  },
  {
   "cell_type": "code",
   "execution_count": 203,
   "metadata": {},
   "outputs": [
    {
     "data": {
      "text/plain": [
       "217"
      ]
     },
     "execution_count": 203,
     "metadata": {},
     "output_type": "execute_result"
    }
   ],
   "source": [
    "train_labels[train_labels.astype(bool)].shape[0]"
   ]
  },
  {
   "cell_type": "code",
   "execution_count": 199,
   "metadata": {},
   "outputs": [
    {
     "data": {
      "text/plain": [
       "451"
      ]
     },
     "execution_count": 199,
     "metadata": {},
     "output_type": "execute_result"
    }
   ],
   "source": [
    "train_images[train_labels].shape[0]"
   ]
  },
  {
   "cell_type": "code",
   "execution_count": 204,
   "metadata": {},
   "outputs": [
    {
     "data": {
      "text/plain": [
       "1.0"
      ]
     },
     "execution_count": 204,
     "metadata": {},
     "output_type": "execute_result"
    }
   ],
   "source": [
    "np.sum(np.sum(train_images[train_labels], axis = (1, 2)) == 728)/train_labels[train_labels.astype(bool)].shape[0]"
   ]
  },
  {
   "cell_type": "code",
   "execution_count": 182,
   "metadata": {},
   "outputs": [
    {
     "data": {
      "text/plain": [
       "0.0"
      ]
     },
     "execution_count": 182,
     "metadata": {},
     "output_type": "execute_result"
    }
   ],
   "source": [
    "np.sum(np.sum(train_images[train_labels], axis = (1, 2)) == 422)/train_images[train_labels].shape[0]"
   ]
  },
  {
   "cell_type": "code",
   "execution_count": 186,
   "metadata": {},
   "outputs": [
    {
     "data": {
      "text/plain": [
       "0"
      ]
     },
     "execution_count": 186,
     "metadata": {},
     "output_type": "execute_result"
    }
   ],
   "source": [
    "np.argmax(num_pixels_prob[:, 1])"
   ]
  }
 ],
 "metadata": {
  "interpreter": {
   "hash": "21522df79a5f2f7576e87cd4971b777eef95bcbd6396c0a74d6cd78603fae977"
  },
  "kernelspec": {
   "display_name": "Python 3.8.10 64-bit ('pytorch': conda)",
   "language": "python",
   "name": "python3"
  },
  "language_info": {
   "codemirror_mode": {
    "name": "ipython",
    "version": 3
   },
   "file_extension": ".py",
   "mimetype": "text/x-python",
   "name": "python",
   "nbconvert_exporter": "python",
   "pygments_lexer": "ipython3",
   "version": "3.8.10"
  },
  "orig_nbformat": 4
 },
 "nbformat": 4,
 "nbformat_minor": 2
}
